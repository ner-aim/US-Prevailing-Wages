{
 "cells": [
  {
   "cell_type": "markdown",
   "id": "b09cfd14",
   "metadata": {},
   "source": [
    "# US Prevailing Wage Project - Yash Wali"
   ]
  },
  {
   "cell_type": "markdown",
   "id": "ac3eccda",
   "metadata": {},
   "source": [
    "# Note from Yash: I'd recommend running the whole code as Interactive plotly graph does not show up otherwise. It will take more than 5 minutes to run the code as there are 10 datasets with over 150k entries per dataset. Please keep the datasets in the same folder as this file while running."
   ]
  },
  {
   "cell_type": "markdown",
   "id": "1dfe9dbf",
   "metadata": {},
   "source": [
    "# The code is divided into two sections, the first portion is done by Samir, it includes loading, subsetting and first half of pre-processing. The second portion is done by me which includes further processing, cleaning and visualizing. My portion of the code is marked by YASH WALI CODE STARTS HERE.\n"
   ]
  },
  {
   "cell_type": "markdown",
   "id": "676abb82",
   "metadata": {},
   "source": [
    "## Team 3\n",
    "\n",
    "- <span style=\"color:DarkOrchid   \"> Yash Wali </span>\n",
    "- <span style=\"color:NavajoWhite   \">Joshua Puram </span>\n",
    "- <span style=\"color:DeepSkyBlue \">Pradyumn Pottapatri </span>\n",
    "- <span style=\"color:DarkSeaGreen \">Sijie Wang </span>\n",
    "- <span style=\"color:IndianRed  \">Samir Basu </span>"
   ]
  },
  {
   "cell_type": "markdown",
   "id": "21c4930e",
   "metadata": {},
   "source": [
    "# Samir's Preprocessing Code:"
   ]
  },
  {
   "cell_type": "markdown",
   "id": "4b8870a0",
   "metadata": {},
   "source": [
    "# PW_FY2012"
   ]
  },
  {
   "cell_type": "markdown",
   "id": "b2614a50",
   "metadata": {},
   "source": [
    "Format for importing datasets from a local directory\n",
    "\n",
    "import pandas as pd <br>\n",
    "dataframename = pd.read_excel(r'localfileaddress\\filename.xlsx')"
   ]
  },
  {
   "cell_type": "code",
   "execution_count": 1,
   "id": "0d81a650",
   "metadata": {},
   "outputs": [],
   "source": [
    "import pandas as pd \n",
    "df2012 = pd.read_excel('PW_FY2012.xlsx')"
   ]
  },
  {
   "cell_type": "code",
   "execution_count": 2,
   "id": "a75a19c4",
   "metadata": {},
   "outputs": [
    {
     "data": {
      "text/plain": [
       "CASE_NUMBER                          0\n",
       "PW_DETERMINATION_DATE             7175\n",
       "PW_REDETERMINATION_DATE         142953\n",
       "PW_WITHDRAWAL_DATE              138691\n",
       "CASE_STATUS                          0\n",
       "VISA_CLASS                           0\n",
       "EMPLYER_LEGAL_BUSINESS_NAME          2\n",
       "EMPLOYER_TRADE_DBA_NAME         126031\n",
       "EMPLOYER_ADDRESS_1                   2\n",
       "EMPLOYER_ADDRESS_2              102312\n",
       "EMPLOYER_CITY                        1\n",
       "EMPLOYER_STATE                      10\n",
       "EMPLOYER_POSTAL_CODE                 1\n",
       "NAIC_US_CODE                       103\n",
       "PW_JOB_TITLE                         9\n",
       "SUPERVISE_OTHER_EMP                 11\n",
       "TRAVEL_REQUIRED                     11\n",
       "PRIMARY_EDUCATION_LEVEL             16\n",
       "TRAINING_REQUIRED                   17\n",
       "EMP_EXPERIENCE_REQUIRED             16\n",
       "EMP_EXPERIENCE_MONTHS            43460\n",
       "PRIMARY_WORKSITE_CITY               39\n",
       "PRIMARY_WORKSITE_COUNTY            437\n",
       "PRIMARY_WORKSITE_STATE              38\n",
       "PRIMARY_WORKSITE_POSTAL_CODE        44\n",
       "PWD_SOC_CODE                      7175\n",
       "PWD_SOC_CODE_TITLE                7175\n",
       "PWD_WAGE_RATE                     7175\n",
       "PWD_WAGE_LEVEL                    7175\n",
       "PW_UNIT_OF_PAY                    7175\n",
       "PWD_WAGE_SOURCE                   7175\n",
       "PWD_WAGE_EXPIRATION_DATE          7176\n",
       "dtype: int64"
      ]
     },
     "execution_count": 2,
     "metadata": {},
     "output_type": "execute_result"
    }
   ],
   "source": [
    "df2012.iloc[:, :].isnull().sum()"
   ]
  },
  {
   "cell_type": "code",
   "execution_count": 3,
   "id": "560a9dd7",
   "metadata": {},
   "outputs": [
    {
     "data": {
      "text/plain": [
       "541511.0    21042\n",
       "611310.0    11742\n",
       "541512.0     5188\n",
       "541330.0     3736\n",
       "511210.0     3478\n",
       "            ...  \n",
       "62322.0         1\n",
       "52310.0         1\n",
       "51390.0         1\n",
       "532112.0        1\n",
       "42251.0         1\n",
       "Name: NAIC_US_CODE, Length: 2620, dtype: int64"
      ]
     },
     "execution_count": 3,
     "metadata": {},
     "output_type": "execute_result"
    }
   ],
   "source": [
    "#Series.value_counts()\n",
    "#https://www.naics.com/search/\n",
    "    # NAIC code interpretations\n",
    "df2012.NAIC_US_CODE.value_counts()"
   ]
  },
  {
   "cell_type": "code",
   "execution_count": 4,
   "id": "c67a2c46",
   "metadata": {},
   "outputs": [
    {
     "data": {
      "text/plain": [
       "Software Developers, Applications               29433\n",
       "Computer Systems Analysts                       10341\n",
       "Software Developers, Systems Software            7047\n",
       "Electronics Engineers, Except Computer           5381\n",
       "Computer and Information Systems Managers        4946\n",
       "Accountants and Auditors                         2804\n",
       "Marketing Managers                               2729\n",
       "Landscaping and Groundskeeping Workers           2687\n",
       "Physical Therapists                              2493\n",
       "Network and Computer Systems Administrators*     2279\n",
       "Name: PWD_SOC_CODE_TITLE, dtype: int64"
      ]
     },
     "execution_count": 4,
     "metadata": {},
     "output_type": "execute_result"
    }
   ],
   "source": [
    "# PWD_SOC_CODE_TITLE interpretations\n",
    "df2012.PWD_SOC_CODE_TITLE.value_counts().head(10)"
   ]
  },
  {
   "cell_type": "code",
   "execution_count": 5,
   "id": "30198759",
   "metadata": {},
   "outputs": [
    {
     "data": {
      "text/plain": [
       "(145866, 32)"
      ]
     },
     "execution_count": 5,
     "metadata": {},
     "output_type": "execute_result"
    }
   ],
   "source": [
    "df2012.shape"
   ]
  },
  {
   "cell_type": "raw",
   "id": "349d58fb",
   "metadata": {},
   "source": [
    "FY2012\n",
    "ColumnName                  Null-Count Ignore?\n",
    "\n",
    "CASE_NUMBER                          0 \n",
    "PW_DETERMINATION_DATE             7175 \n",
    "PW_REDETERMINATION_DATE         142953 (ignore)  \n",
    "PW_WITHDRAWAL_DATE              138691 (ignore)\n",
    "CASE_STATUS                          0 (ignore)\n",
    "VISA_CLASS                           0 \n",
    "EMPLYER_LEGAL_BUSINESS_NAME          2 (ignore)\n",
    "EMPLOYER_TRADE_DBA_NAME         126031 (ignore)\n",
    "EMPLOYER_ADDRESS_1                   2 (ignore)\n",
    "EMPLOYER_ADDRESS_2              102312 (ignore)\n",
    "EMPLOYER_CITY                        1 (ignore)\n",
    "EMPLOYER_STATE                      10\n",
    "EMPLOYER_POSTAL_CODE                 1\n",
    "NAIC_US_CODE                       103\n",
    "PW_JOB_TITLE                         9 (ignore)\n",
    "SUPERVISE_OTHER_EMP                 11 (ignore)\n",
    "TRAVEL_REQUIRED                     11 (ignore)\n",
    "PRIMARY_EDUCATION_LEVEL             16\n",
    "TRAINING_REQUIRED                   17 (ignore)\n",
    "EMP_EXPERIENCE_REQUIRED             16\n",
    "EMP_EXPERIENCE_MONTHS            43460\n",
    "PRIMARY_WORKSITE_CITY               39 (ignore)\n",
    "PRIMARY_WORKSITE_COUNTY            437 (ignore)\n",
    "PRIMARY_WORKSITE_STATE              38\n",
    "PRIMARY_WORKSITE_POSTAL_CODE        44 \n",
    "PWD_SOC_CODE                      7175 \n",
    "PWD_SOC_CODE_TITLE                7175 \n",
    "PWD_WAGE_RATE                     7175 \n",
    "PWD_WAGE_LEVEL                    7175 (ignore)\n",
    "PW_UNIT_OF_PAY                    7175 (ignore)\n",
    "PWD_WAGE_SOURCE                   7175 (ignore)\n",
    "PWD_WAGE_EXPIRATION_DATE          7176 (ignore)\n",
    "\n"
   ]
  },
  {
   "cell_type": "markdown",
   "id": "c2130941",
   "metadata": {},
   "source": [
    "# PW_FY2013 Data"
   ]
  },
  {
   "cell_type": "code",
   "execution_count": 6,
   "id": "8ca994db",
   "metadata": {},
   "outputs": [],
   "source": [
    "import pandas as pd \n",
    "PW_FY2013 = pd.read_excel('PW_FY2013.xlsx')"
   ]
  },
  {
   "cell_type": "code",
   "execution_count": 7,
   "id": "cbcd55ec",
   "metadata": {},
   "outputs": [
    {
     "data": {
      "text/plain": [
       "CASE_NUMBER                          0\n",
       "PW_DETERM_DATE                    6490\n",
       "PW_REDETERMINATION_DATE         122660\n",
       "PW_WITHDRAWAL_DATE              118393\n",
       "CASE_STATUS                          0\n",
       "VISA_CLASS                           0\n",
       "EMPLOYER_LEGAL_BUSINESS_NAME         1\n",
       "EMPLOYER_TRADE_DBA_NAME         108876\n",
       "EMPLOYER_ADDFRESS_1                  2\n",
       "EMPLOYER_ADDRESS_2               88097\n",
       "EMPLOYER_CITY                        1\n",
       "EMPLOYER_STATE                      12\n",
       "EMPLOYER_POSTAL_CODE                 1\n",
       "NAICS_CODE                          48\n",
       "PW_JOB_TITLE                         5\n",
       "SUPERVISE_OTHER_EMP                  5\n",
       "TRAVEL_REQD                          5\n",
       "PRIMARY_EDUCATION_LEVEL              7\n",
       "TRAINING_REQ                         7\n",
       "EMP_EXPERIENCE_MONTHS            34652\n",
       "PRIMARY_WORKSITE_CITY               23\n",
       "PRIMARY_WORKSITE_STATE              22\n",
       "PRIMARY_WORKSITE_POSTAL_CODE        25\n",
       "PWD_SOC_CODE                      6490\n",
       "PWD_SOC_TITLE                     6490\n",
       "PWD_WAGE_RATE                     6490\n",
       "PWD_WAGE_LEVEL                    6490\n",
       "PWD_UNIT_OF_PAY                   6490\n",
       "PWD_WAGE_SOURCE                   6490\n",
       "PWD_WAGE_EXPIRATION_DATE          6490\n",
       "dtype: int64"
      ]
     },
     "execution_count": 7,
     "metadata": {},
     "output_type": "execute_result"
    }
   ],
   "source": [
    "PW_FY2013.iloc[:, :].isnull().sum() "
   ]
  },
  {
   "cell_type": "code",
   "execution_count": 8,
   "id": "a72f0601",
   "metadata": {},
   "outputs": [
    {
     "data": {
      "text/plain": [
       "(124883, 30)"
      ]
     },
     "execution_count": 8,
     "metadata": {},
     "output_type": "execute_result"
    }
   ],
   "source": [
    "PW_FY2013.shape"
   ]
  },
  {
   "cell_type": "raw",
   "id": "be072de0",
   "metadata": {},
   "source": [
    "FY2013\n",
    "ColumnName                  Null-Count Ignore?\n",
    "\n",
    "CASE_NUMBER                          0 \n",
    "PW_DETERM_DATE                    6490\n",
    "PW_REDETERMINATION_DATE         122660 (ignore)\n",
    "PW_WITHDRAWAL_DATE              118393 (ignore)\n",
    "CASE_STATUS                          0 (ignore)\n",
    "VISA_CLASS                           0\n",
    "EMPLOYER_LEGAL_BUSINESS_NAME         1 (ignore)\n",
    "EMPLOYER_TRADE_DBA_NAME         108876 (ignore)\n",
    "EMPLOYER_ADDFRESS_1                  2 (ignore)\n",
    "EMPLOYER_ADDRESS_2               88097 (ignore)\n",
    "EMPLOYER_CITY                        1\n",
    "EMPLOYER_STATE                      12\n",
    "EMPLOYER_POSTAL_CODE                 1\n",
    "NAICS_CODE                          48\n",
    "PW_JOB_TITLE                         5 (ignore)\n",
    "SUPERVISE_OTHER_EMP                  5 (ignore)\n",
    "TRAVEL_REQD                          5 (ignore)\n",
    "PRIMARY_EDUCATION_LEVEL              7 \n",
    "TRAINING_REQ                         7 (ignore)\n",
    "EMP_EXPERIENCE_MONTHS            34652\n",
    "PRIMARY_WORKSITE_CITY               23 (ignore)\n",
    "PRIMARY_WORKSITE_STATE              22\n",
    "PRIMARY_WORKSITE_POSTAL_CODE        25\n",
    "PWD_SOC_CODE                      6490\n",
    "PWD_SOC_TITLE                     6490\n",
    "PWD_WAGE_RATE                     6490\n",
    "PWD_WAGE_LEVEL                    6490 (ignore)\n",
    "PWD_UNIT_OF_PAY                   6490 (ignore)\n",
    "PWD_WAGE_SOURCE                   6490 (ignore)\n",
    "PWD_WAGE_EXPIRATION_DATE          6490 (ignore)\n",
    "\n"
   ]
  },
  {
   "cell_type": "markdown",
   "id": "ccaa2f67",
   "metadata": {},
   "source": [
    "# PW_Case_Data_FY2014"
   ]
  },
  {
   "cell_type": "code",
   "execution_count": 9,
   "id": "64f08f45",
   "metadata": {},
   "outputs": [],
   "source": [
    "import pandas as pd \n",
    "FY2014 = pd.read_excel('PW_Case_Data_FY2014.xlsx')"
   ]
  },
  {
   "cell_type": "code",
   "execution_count": 10,
   "id": "d707acf3",
   "metadata": {},
   "outputs": [
    {
     "data": {
      "text/plain": [
       "(131999, 33)"
      ]
     },
     "execution_count": 10,
     "metadata": {},
     "output_type": "execute_result"
    }
   ],
   "source": [
    "FY2014.shape"
   ]
  },
  {
   "cell_type": "code",
   "execution_count": 11,
   "id": "324b7c59",
   "metadata": {},
   "outputs": [
    {
     "data": {
      "text/plain": [
       "CASE_NUMBER                          0\n",
       "PW_DETERMINATION_DATE             6192\n",
       "PW_REDETERMINATION_DATE         129868\n",
       "PW_WITHDRAWAL_DATE              125807\n",
       "CASE_STATUS                          0\n",
       "VISA_CLASS                           0\n",
       "EMPLOYER_LEGAL_BUSINESS_NAME         1\n",
       "EMPLOYER_TRADE_DBA_NAME         114360\n",
       "EMPLOYER ADDRESS 1                   1\n",
       "EMPLOYER ADDRESS 2               91641\n",
       "EMPLOYER CITY                        1\n",
       "EMPLOYER_WORKSITE_COUNTY           284\n",
       "EMPLOYER STATE                      10\n",
       "EMPLOYER POSTAL CODE                 1\n",
       "NAICS_US_CODE                        3\n",
       "PW_JOB_TITLE                         3\n",
       "SUPERVISE_OTHER_EMP                  6\n",
       "TRAVEL_REQUIRED                      4\n",
       "PRIMARY_EDUCATION_LEVEL              5\n",
       "TRAINING_REQUIRED                    7\n",
       "EMP_EXPERIENCE_REQUIRED              7\n",
       "EMP_EXPERIENCE_MONTHS            36396\n",
       "PRIMARY_WORKSITE_CITY               11\n",
       "PRIMARY_WORKSITE_COUNTY            284\n",
       "PRIMARY_WORKSITE_STATE              13\n",
       "PRIMARY_WORKSITE_POSTAL_CODE        13\n",
       "PWD_SOC_CODE                      6192\n",
       "PWD_SOC_TITLE                     6192\n",
       "PWD_WAGE_RATE                     6192\n",
       "PWD_WAGE_LEVEL                   13907\n",
       "PWD_UNIT_OF_PAY                   6192\n",
       "PWD_WAGE_SOURCE                   6192\n",
       "PWD_WAGE_EXPIRATION_DATE          6192\n",
       "dtype: int64"
      ]
     },
     "execution_count": 11,
     "metadata": {},
     "output_type": "execute_result"
    }
   ],
   "source": [
    "FY2014.iloc[:, :].isnull().sum()"
   ]
  },
  {
   "cell_type": "raw",
   "id": "492aa3b1",
   "metadata": {},
   "source": [
    "PW_Case_Data_FY2014\n",
    "ColumnName                  Null-Count Ignore?\n",
    "\n",
    "CASE_NUMBER                          0 \n",
    "PW_DETERMINATION_DATE             6192\n",
    "PW_REDETERMINATION_DATE         129868 (ignore)\n",
    "PW_WITHDRAWAL_DATE              125807 (ignore)\n",
    "CASE_STATUS                          0 (ignore)\n",
    "VISA_CLASS                           0\n",
    "EMPLOYER_LEGAL_BUSINESS_NAME         1 (ignore)\n",
    "EMPLOYER_TRADE_DBA_NAME         114360 (ignore)\n",
    "EMPLOYER ADDRESS 1                   1 (ignore)\n",
    "EMPLOYER ADDRESS 2               91641 (ignore)\n",
    "EMPLOYER CITY                        1 (ignore)\n",
    "EMPLOYER_WORKSITE_COUNTY           284 (ignore)\n",
    "EMPLOYER STATE                      10\n",
    "EMPLOYER POSTAL CODE                 1\n",
    "NAICS_US_CODE                        3\n",
    "PW_JOB_TITLE                         3 (ignore)\n",
    "SUPERVISE_OTHER_EMP                  6 (ignore)\n",
    "TRAVEL_REQUIRED                      4 (ignore)\n",
    "PRIMARY_EDUCATION_LEVEL              5\n",
    "TRAINING_REQUIRED                    7 (ignore)\n",
    "EMP_EXPERIENCE_REQUIRED              7\n",
    "EMP_EXPERIENCE_MONTHS            36396\n",
    "PRIMARY_WORKSITE_CITY               11 (ignore)\n",
    "PRIMARY_WORKSITE_COUNTY            284 (ignore)\n",
    "PRIMARY_WORKSITE_STATE              13\n",
    "PRIMARY_WORKSITE_POSTAL_CODE        13\n",
    "PWD_SOC_CODE                      6192\n",
    "PWD_SOC_TITLE                     6192\n",
    "PWD_WAGE_RATE                     6192\n",
    "PWD_WAGE_LEVEL                   13907 (ignore)\n",
    "PWD_UNIT_OF_PAY                   6192 (ignore)\n",
    "PWD_WAGE_SOURCE                   6192 (ignore)\n",
    "PWD_WAGE_EXPIRATION_DATE          6192 (ignore)\n",
    "\n"
   ]
  },
  {
   "cell_type": "markdown",
   "id": "dbfbcf65",
   "metadata": {},
   "source": [
    "# PW_Disclosure_Data_FY15_Q4"
   ]
  },
  {
   "cell_type": "code",
   "execution_count": 12,
   "id": "8417ec48",
   "metadata": {},
   "outputs": [],
   "source": [
    "import pandas as pd \n",
    "FY15 = pd.read_excel('PW_Disclosure_Data_FY15_Q4.xlsx')\n"
   ]
  },
  {
   "cell_type": "code",
   "execution_count": 13,
   "id": "171af9f7",
   "metadata": {},
   "outputs": [
    {
     "data": {
      "text/plain": [
       "CASE_NUMBER                           0\n",
       "STATUS                                0\n",
       "SUBMIT_DATE                           0\n",
       "CASE_ASSIGNED_TO_ANALYST           6546\n",
       "CASE_SENT_TO_CO_FOR_APPROVAL       7156\n",
       "DETERMINATION_ISSUED               7749\n",
       "DATE_REDETERMINATION_RECEIVED    136719\n",
       "DATE_REDETERMINATION_ISSUED      136718\n",
       "WITHDRAWAL_DATE                  131371\n",
       "VOIDED_DATE                      139120\n",
       "VISA_CLASS                            0\n",
       "BUSINESS_NAME                         0\n",
       "TRADE_NAME                       120382\n",
       "EMPLOYER ADDRESS 1                    0\n",
       "EMPLOYER ADDRESS 2                97838\n",
       "EMPLOYER CITY                         0\n",
       "EMPLOYER STATE                        5\n",
       "EMPLOYER POSTAL CODE                  0\n",
       "EMPLOYER COUNTRY                      0\n",
       "EMPLOYER PROVINCE                138414\n",
       "EMPLOYER PHONE                        0\n",
       "EMPLOYER EXTENSION               135289\n",
       "EIN                                   0\n",
       "NAIC_ID                               2\n",
       "JOB_TITLE                             2\n",
       "SUGGESTED SOC CODE                  264\n",
       "SUGGESTED SOC TITLE                 264\n",
       "WORK_HOUR_NUM_BASIC              139120\n",
       "WORK_HOUR_NUM_OVERTIME           139120\n",
       "SUPERVISOR_JOB_TITLE              33019\n",
       "SUPERVISE_OTHER_EMP                   1\n",
       "SUPERVISE_HOW_MANY               123800\n",
       "SUPERVISE_LEVEL                  123664\n",
       "TRAVEL_REQD                           0\n",
       "EDUCATION_LEVEL                       0\n",
       "OTHER_EDU                        133993\n",
       "MAJOR                             20127\n",
       "SECOND_DIPLOMA                        1\n",
       "SECOND_DIPLOMA_MAJOR             138757\n",
       "TRAINING_REQ                          1\n",
       "NUM_MONTHS_TRAINING              135964\n",
       "NAME_REQD_TRAINING               135972\n",
       "EMP_EXPERIENCE_REQD                   2\n",
       "EMP_EXP_NUM_MONTHS                35993\n",
       "dtype: int64"
      ]
     },
     "execution_count": 13,
     "metadata": {},
     "output_type": "execute_result"
    }
   ],
   "source": [
    "FY15.iloc[:, 0:44].isnull().sum()"
   ]
  },
  {
   "cell_type": "code",
   "execution_count": 14,
   "id": "e6af8ab1",
   "metadata": {},
   "outputs": [
    {
     "data": {
      "text/plain": [
       "OCCUPATION_REQ               36303\n",
       "WORKSITE_ADDRESS_1               3\n",
       "WORKSITE_ADDRESS_2           96722\n",
       "WORKSITE_CITY                    3\n",
       "WORKSITE_COUNTY                101\n",
       "WORKSITE_STATE                   3\n",
       "WORKSITE_ZIP                     3\n",
       "OTHER_WORKSITE_LOCATION          7\n",
       "WORKSITE_COUNTS                  0\n",
       "PW_TRACKING_NUMBER               0\n",
       "DATE_REQUEST_RECIEVED            0\n",
       "SOC_CODE                      7749\n",
       "SOC_CODE_NAME                 7749\n",
       "PREVAIL_WAGE                  7749\n",
       "PAY_RANGE_DESC                7749\n",
       "WAGE_LEVEL                   19135\n",
       "REQUESTED_WAGE_SOURCE            0\n",
       "PREVAILING_WAGE_SOURCE        7749\n",
       "PREVAIL_WAGE_DETERM_DATE      7749\n",
       "PREVAIL_WAGE_EXPIRE_DATE      7749\n",
       "CONTACT LAST NAME                0\n",
       "CONTACT FIRST NAME               0\n",
       "CONTACT MIDDLE NAME          36204\n",
       "CONTACT JOB TITLE               14\n",
       "CONTACT ADDRESS 1                1\n",
       "CONTACT ADDRESS 2            52538\n",
       "CONTACT CITY                     0\n",
       "CONTACT STATE                 1316\n",
       "CONTACT POSTAL CODE              0\n",
       "CONTACT COUNTRY                  0\n",
       "CONTACT PROVINCE            136697\n",
       "CONTACT PHONE                    0\n",
       "CONTACT EXTENSION           121054\n",
       "CONTACT FAX                  19569\n",
       "CONTACT EMAIL                   20\n",
       "REQUEST_ACWIA                   25\n",
       "REQUEST_CBA                      2\n",
       "REQUEST_DBA_SCA                  0\n",
       "TYPE_DBA_SCA                137087\n",
       "REQUEST_SURVEY                   1\n",
       "SURVEY_NAME                 123929\n",
       "SURVEY_PUBLICATION_DATE     123942\n",
       "dtype: int64"
      ]
     },
     "execution_count": 14,
     "metadata": {},
     "output_type": "execute_result"
    }
   ],
   "source": [
    "FY15.iloc[:, 44:].isnull().sum()"
   ]
  },
  {
   "cell_type": "code",
   "execution_count": 15,
   "id": "8be51a37",
   "metadata": {},
   "outputs": [
    {
     "data": {
      "text/plain": [
       "(139120, 86)"
      ]
     },
     "execution_count": 15,
     "metadata": {},
     "output_type": "execute_result"
    }
   ],
   "source": [
    "FY15.shape"
   ]
  },
  {
   "cell_type": "raw",
   "id": "19137cd5",
   "metadata": {},
   "source": [
    "PW_Disclosure_Data_FY15_Q4\n",
    "ColumnName                  Null-Count   Ignore?\n",
    "\n",
    "CASE_NUMBER                           0 \n",
    "STATUS                                0 (ignore)\n",
    "SUBMIT_DATE                           0 (ignore)\n",
    "CASE_ASSIGNED_TO_ANALYST           6546 (ignore)\n",
    "CASE_SENT_TO_CO_FOR_APPROVAL       7156 (ignore)\n",
    "DETERMINATION_ISSUED               7749\n",
    "DATE_REDETERMINATION_RECEIVED    136719 (ignore)\n",
    "DATE_REDETERMINATION_ISSUED      136718 (ignore)\n",
    "WITHDRAWAL_DATE                  131371 (ignore)\n",
    "VOIDED_DATE                      139120 (ignore)\n",
    "VISA_CLASS                            0\n",
    "BUSINESS_NAME                         0 (ignore)\n",
    "TRADE_NAME                       120382 (ignore)\n",
    "EMPLOYER ADDRESS 1                    0 (ignore)\n",
    "EMPLOYER ADDRESS 2                97838 (ignore)\n",
    "EMPLOYER CITY                         0 (ignore)\n",
    "EMPLOYER STATE                        5\n",
    "EMPLOYER POSTAL CODE                  0\n",
    "EMPLOYER COUNTRY                      0 \n",
    "EMPLOYER PROVINCE                138414 (ignore)\n",
    "EMPLOYER PHONE                        0 (ignore)\n",
    "EMPLOYER EXTENSION               135289 (ignore)\n",
    "EIN                                   0 (ignore)\n",
    "NAIC_ID                               2\n",
    "JOB_TITLE                             2\n",
    "SUGGESTED SOC CODE                  264\n",
    "SUGGESTED SOC TITLE                 264\n",
    "WORK_HOUR_NUM_BASIC              139120 (ignore)\n",
    "WORK_HOUR_NUM_OVERTIME           139120 (ignore)\n",
    "SUPERVISOR_JOB_TITLE              33019 (ignore)\n",
    "SUPERVISE_OTHER_EMP                   1 (ignore)\n",
    "SUPERVISE_HOW_MANY               123800 (ignore)\n",
    "SUPERVISE_LEVEL                  123664 (ignore)\n",
    "TRAVEL_REQD                           0 (ignore)\n",
    "EDUCATION_LEVEL                       0 \n",
    "OTHER_EDU                        133993 (ignore)\n",
    "MAJOR                             20127 (ignore)\n",
    "SECOND_DIPLOMA                        1 (ignore)\n",
    "SECOND_DIPLOMA_MAJOR             138757 (ignore)\n",
    "TRAINING_REQ                          1 (ignore)\n",
    "NUM_MONTHS_TRAINING              135964 (ignore)\n",
    "NAME_REQD_TRAINING               135972 (ignore)\n",
    "EMP_EXPERIENCE_REQD                   2\n",
    "\n",
    "PW_Disclosure_Data_FY15_Q4\n",
    "ColumnName              Null-Count  Ignore?\n",
    "\n",
    "OCCUPATION_REQ               36303\n",
    "WORKSITE_ADDRESS_1               3 (ignore)\n",
    "WORKSITE_ADDRESS_2           96722 (ignore)\n",
    "WORKSITE_CITY                    3 (ignore)\n",
    "WORKSITE_COUNTY                101 (ignore)\n",
    "WORKSITE_STATE                   3\n",
    "WORKSITE_ZIP                     3\n",
    "OTHER_WORKSITE_LOCATION          7 (ignore)\n",
    "WORKSITE_COUNTS                  0 (ignore)\n",
    "PW_TRACKING_NUMBER               0 (ignore)\n",
    "DATE_REQUEST_RECIEVED            0 (ignore)\n",
    "SOC_CODE                      7749\n",
    "SOC_CODE_NAME                 7749\n",
    "PREVAIL_WAGE                  7749 (ignore)\n",
    "PAY_RANGE_DESC                7749 (ignore)\n",
    "WAGE_LEVEL                   19135 (ignore)\n",
    "REQUESTED_WAGE_SOURCE            0 (ignore)\n",
    "PREVAILING_WAGE_SOURCE        7749 (ignore)\n",
    "PREVAIL_WAGE_DETERM_DATE      7749 (ignore)\n",
    "PREVAIL_WAGE_EXPIRE_DATE      7749 (ignore)\n",
    "CONTACT LAST NAME                0 (ignore)\n",
    "CONTACT FIRST NAME               0 (ignore)\n",
    "CONTACT MIDDLE NAME          36204 (ignore)\n",
    "CONTACT JOB TITLE               14 (ignore)\n",
    "CONTACT ADDRESS 1                1 (ignore)\n",
    "CONTACT ADDRESS 2            52538 (ignore)\n",
    "CONTACT CITY                     0 (ignore)\n",
    "CONTACT STATE                 1316 (ignore)\n",
    "CONTACT POSTAL CODE              0 (ignore)\n",
    "CONTACT COUNTRY                  0 (ignore)\n",
    "CONTACT PROVINCE            136697 (ignore)\n",
    "CONTACT PHONE                    0 (ignore)\n",
    "CONTACT EXTENSION           121054 (ignore)\n",
    "CONTACT FAX                  19569 (ignore)\n",
    "CONTACT EMAIL                   20 (ignore)\n",
    "REQUEST_ACWIA                   25 (ignore)\n",
    "REQUEST_CBA                      2 (ignore)\n",
    "REQUEST_DBA_SCA                  0 (ignore)\n",
    "TYPE_DBA_SCA                137087 (ignore)\n",
    "REQUEST_SURVEY                   1 (ignore)\n",
    "SURVEY_NAME                 123929 (ignore)\n",
    "SURVEY_PUBLICATION_DATE     123942 (ignore)\n",
    "\n"
   ]
  },
  {
   "cell_type": "markdown",
   "id": "3b8d4138",
   "metadata": {},
   "source": [
    "# PW_Disclosure_Data_FY16"
   ]
  },
  {
   "cell_type": "code",
   "execution_count": 16,
   "id": "57df2ac1",
   "metadata": {},
   "outputs": [],
   "source": [
    "import pandas as pd \n",
    "FY16 = pd.read_excel('PW_Disclosure_Data_FY16.xlsx')"
   ]
  },
  {
   "cell_type": "code",
   "execution_count": 17,
   "id": "1339ac3f",
   "metadata": {},
   "outputs": [
    {
     "data": {
      "text/plain": [
       "(140940, 56)"
      ]
     },
     "execution_count": 17,
     "metadata": {},
     "output_type": "execute_result"
    }
   ],
   "source": [
    "FY16.shape"
   ]
  },
  {
   "cell_type": "code",
   "execution_count": 18,
   "id": "03b3e597",
   "metadata": {},
   "outputs": [
    {
     "data": {
      "text/plain": [
       "CASE_NUMBER                          0\n",
       "SUBMIT_DATE                          0\n",
       "DETERMINATION_DATE                8217\n",
       "REDETERMINATION_DATE            139205\n",
       "WITHDRAWAL_DATE                 132723\n",
       "CASE_STATUS                          0\n",
       "VISA_CLASS                           0\n",
       "BUSINESS_NAME                        1\n",
       "TRADE_NAME                      120267\n",
       "EMPLOYER_ADDRESS_1                   1\n",
       "EMPLOYER_ADDRESS_2               99310\n",
       "EMPLOYER_CITY                        1\n",
       "EMPLOYER_STATE                       6\n",
       "EMPLOYER_POSTAL_CODE                 1\n",
       "EMPLOYER_COUNTRY                     1\n",
       "EMPLOYER_PROVINCE               140345\n",
       "EMPLOYER_PHONE                       1\n",
       "EMPLOYER_EXTENSION              137378\n",
       "NAICS_CODE                           7\n",
       "JOB_TITLE                            0\n",
       "SUGGESTED_SOC_CODE                 152\n",
       "SUGGESTED_SOC_TITLE                152\n",
       "WORK_HOUR_NUM_BASIC             140939\n",
       "WORK_HOUR_NUM_OVERTIME          140940\n",
       "SUPERVISOR_JOB_TITLE             34012\n",
       "SUPERVISE_OTHER_EMP                  0\n",
       "SUPERVISE_HOW_MANY              125670\n",
       "SUPERVISE_LEVEL                 125511\n",
       "TRAVEL_REQUIRED                      0\n",
       "PRIMARY_EDUCATION_LEVEL              1\n",
       "OTHER_EDUCATION                 136294\n",
       "MAJOR                            24622\n",
       "SECOND_DIPLOMA                       1\n",
       "SECOND_DIPLOMA_MAJOR            140647\n",
       "TRAINING_REQUIRED                    3\n",
       "NUMBER_OF_MONTHS_TRAINING       138227\n",
       "NAME_REQUIRED_TRAINING          138329\n",
       "EMP_EXPERIENCE_REQUIRED              1\n",
       "EMP_EXPERIENCE_MONTHS            36542\n",
       "OCCUPATION_REQUIRED              36839\n",
       "PRIMARY_WORKSITE_CITY                7\n",
       "PRIMARY_WORKSITE_COUNTY             54\n",
       "PRIMARY_WORKSITE_STATE               7\n",
       "PRIMARY_WORKSITE_POSTAL_CODE         8\n",
       "OTHER_WORKSITE_LOCATION             11\n",
       "WORKSITE_COUNTS                      0\n",
       "PWD_SOC_CODE                      8217\n",
       "PWD_SOC_TITLE                     8217\n",
       "PWD_WAGE_RATE                     8217\n",
       "PWD_UNIT_OF_PAY                   8217\n",
       "PWD_WAGE_LEVEL                   21334\n",
       "REQUESTED_WAGE_SOURCE                0\n",
       "PWD_WAGE_SOURCE                   8217\n",
       "PWD_WAGE_EXPIRATION_DATE          8218\n",
       "SURVEY_NAME                     126974\n",
       "SURVEY_PUBLICATION_DATE         126978\n",
       "dtype: int64"
      ]
     },
     "execution_count": 18,
     "metadata": {},
     "output_type": "execute_result"
    }
   ],
   "source": [
    "FY16.iloc[:, :].isnull().sum()"
   ]
  },
  {
   "cell_type": "raw",
   "id": "0a0412f2",
   "metadata": {},
   "source": [
    "PW_Disclosure_Data_FY16\n",
    "ColumnName                  Null-Count  Ignore?\n",
    "\n",
    "CASE_NUMBER                          0 \n",
    "SUBMIT_DATE                          0 (ignore)\n",
    "DETERMINATION_DATE                8217\n",
    "REDETERMINATION_DATE            139205 (ignore)\n",
    "WITHDRAWAL_DATE                 132723 (ignore)\n",
    "CASE_STATUS                          0 (ignore)\n",
    "VISA_CLASS                           0 \n",
    "BUSINESS_NAME                        1 (ignore)\n",
    "TRADE_NAME                      120267 (ignore)\n",
    "EMPLOYER_ADDRESS_1                   1 (ignore)\n",
    "EMPLOYER_ADDRESS_2               99310 (ignore)\n",
    "EMPLOYER_CITY                        1 (ignore)\n",
    "EMPLOYER_STATE                       6\n",
    "EMPLOYER_POSTAL_CODE                 1 \n",
    "EMPLOYER_COUNTRY                     1 \n",
    "EMPLOYER_PROVINCE               140345 (ignore)\n",
    "EMPLOYER_PHONE                       1 (ignore)\n",
    "EMPLOYER_EXTENSION              137378 (ignore)\n",
    "NAICS_CODE                           7\n",
    "JOB_TITLE                            0 \n",
    "SUGGESTED_SOC_CODE                 152\n",
    "SUGGESTED_SOC_TITLE                152\n",
    "WORK_HOUR_NUM_BASIC             140939 (ignore)\n",
    "WORK_HOUR_NUM_OVERTIME          140940 (ignore)\n",
    "SUPERVISOR_JOB_TITLE             34012 (ignore)\n",
    "SUPERVISE_OTHER_EMP                  0 (ignore)\n",
    "SUPERVISE_HOW_MANY              125670 (ignore)\n",
    "SUPERVISE_LEVEL                 125511 (ignore)\n",
    "TRAVEL_REQUIRED                      0 \n",
    "PRIMARY_EDUCATION_LEVEL              1 \n",
    "OTHER_EDUCATION                 136294 (ignore)\n",
    "MAJOR                            24622 (ignore)\n",
    "SECOND_DIPLOMA                       1 (ignore)\n",
    "SECOND_DIPLOMA_MAJOR            140647 (ignore)\n",
    "TRAINING_REQUIRED                    3 (ignore)\n",
    "NUMBER_OF_MONTHS_TRAINING       138227 (ignore)\n",
    "NAME_REQUIRED_TRAINING          138329 (ignore)\n",
    "EMP_EXPERIENCE_REQUIRED              1\n",
    "EMP_EXPERIENCE_MONTHS            36542\n",
    "OCCUPATION_REQUIRED              36839 (ignore)\n",
    "PRIMARY_WORKSITE_CITY                7 (ignore)\n",
    "PRIMARY_WORKSITE_COUNTY             54 (ignore)\n",
    "PRIMARY_WORKSITE_STATE               7\n",
    "PRIMARY_WORKSITE_POSTAL_CODE         8\n",
    "OTHER_WORKSITE_LOCATION             11 (ignore)\n",
    "WORKSITE_COUNTS                      0 (ignore)\n",
    "PWD_SOC_CODE                      8217\n",
    "PWD_SOC_TITLE                     8217\n",
    "PWD_WAGE_RATE                     8217\n",
    "PWD_UNIT_OF_PAY                   8217\n",
    "PWD_WAGE_LEVEL                   21334 (ignore)\n",
    "REQUESTED_WAGE_SOURCE                0 (ignore)\n",
    "PWD_WAGE_SOURCE                   8217 (ignore)\n",
    "PWD_WAGE_EXPIRATION_DATE          8218 (ignore)\n",
    "SURVEY_NAME                     126974 (ignore)\n",
    "SURVEY_PUBLICATION_DATE         126978 (ignore)\n",
    "\n"
   ]
  },
  {
   "cell_type": "markdown",
   "id": "96cf1fb6",
   "metadata": {},
   "source": [
    "# PW_Disclosure_Data_FY17"
   ]
  },
  {
   "cell_type": "code",
   "execution_count": 19,
   "id": "0eb09949",
   "metadata": {},
   "outputs": [],
   "source": [
    "import pandas as pd \n",
    "FY17 = pd.read_excel('PW_Disclosure_Data_FY17.xlsx')"
   ]
  },
  {
   "cell_type": "code",
   "execution_count": 20,
   "id": "f0e82d44",
   "metadata": {},
   "outputs": [
    {
     "data": {
      "text/plain": [
       "CASE_NUMBER                          0\n",
       "SUBMIT_DATE                          0\n",
       "DETERMINATION_DATE                8866\n",
       "REDETERMINATION_DATE            181067\n",
       "CENTER_DIRECTOR_REVIEW_DATE     182606\n",
       "WITHDRAWAL_DATE                 173859\n",
       "CASE_STATUS                          0\n",
       "VISA_CLASS                           0\n",
       "BUSINESS_NAME                        1\n",
       "TRADE_NAME                      156844\n",
       "EMPLOYER_ADDRESS_1                   1\n",
       "EMPLOYER_ADDRESS_2              128613\n",
       "EMPLOYER_CITY                        1\n",
       "EMPLOYER_STATE                      14\n",
       "EMPLOYER_POSTAL_CODE                 1\n",
       "EMPLOYER_COUNTRY                     1\n",
       "EMPLOYER_PROVINCE               181900\n",
       "EMPLOYER_PHONE                       1\n",
       "EMPLOYER _EXTENSION             178495\n",
       "NAICS_CODE                           3\n",
       "JOB_TITLE                            1\n",
       "SUGGESTED_SOC_CODE                 101\n",
       "SUGGESTED_SOC_TITLE                101\n",
       "WORK_HOUR_NUM_BASIC             182725\n",
       "WORK_HOUR_NUM_OVERTIME          182725\n",
       "SUPERVISOR_JOB_TITLE             48005\n",
       "SUPERVISE_OTHER_EMP                  1\n",
       "SUPERVISE_HOW_MANY              163414\n",
       "SUPERVISE_LEVEL                 163212\n",
       "TRAVEL_REQUIRED                      1\n",
       "PRIMARY_EDUCATION_LEVEL              1\n",
       "OTHER_EDUCATION                 177060\n",
       "MAJOR                            29109\n",
       "SECOND_DIPLOMA                       3\n",
       "SECOND_DIPLOMA_MAJOR            182332\n",
       "TRAINING_REQUIRED                    2\n",
       "NUMBER_OF_MONTHS_TRAINING       179441\n",
       "NAME_REQUIRED_TRAINING          179549\n",
       "EMP_EXPERIENCE_REQUIRED              2\n",
       "EMP_EXPERIENCE_MONTHS            44418\n",
       "OCCUPATION_REQUIRED              44554\n",
       "PRIMARY_WORKSITE_CITY                1\n",
       "PRIMARY_WORKSITE_COUNTY             85\n",
       "PRIMARY_WORKSITE_STATE               1\n",
       "PRIMARY_WORKSITE_POSTAL_CODE         2\n",
       "OTHER_WORKSITE_LOCATION              5\n",
       "WORKSITE_COUNTS                      0\n",
       "PWD_SOC_CODE                      8866\n",
       "PWD_SOC_TITLE                     8866\n",
       "PWD_WAGE_RATE                     8866\n",
       "PWD_UNIT_OF_PAY                   8866\n",
       "PWD_WAGE_LEVEL                   21106\n",
       "REQUESTED_WAGE_SOURCE                0\n",
       "PWD_WAGE_SOURCE                   8866\n",
       "PWD_WAGE_EXPIRATION_DATE          8866\n",
       "SURVEY_NAME                     165640\n",
       "SURVEY_PUBLICATION_DATE         165641\n",
       "dtype: int64"
      ]
     },
     "execution_count": 20,
     "metadata": {},
     "output_type": "execute_result"
    }
   ],
   "source": [
    "FY17.iloc[:, :].isnull().sum()"
   ]
  },
  {
   "cell_type": "code",
   "execution_count": 21,
   "id": "11646a00",
   "metadata": {},
   "outputs": [
    {
     "data": {
      "text/plain": [
       "(182725, 57)"
      ]
     },
     "execution_count": 21,
     "metadata": {},
     "output_type": "execute_result"
    }
   ],
   "source": [
    "FY17.shape"
   ]
  },
  {
   "cell_type": "raw",
   "id": "97df7dfd",
   "metadata": {},
   "source": [
    "PW_Disclosure_Data_FY17\n",
    "ColumnName                  Null-Count  Ignore?\n",
    "\n",
    "CASE_NUMBER                          0 \n",
    "SUBMIT_DATE                          0 (ignore)\n",
    "DETERMINATION_DATE                8866\n",
    "REDETERMINATION_DATE            181067 (ignore)\n",
    "CENTER_DIRECTOR_REVIEW_DATE     182606 (ignore)\n",
    "WITHDRAWAL_DATE                 173859 (ignore)\n",
    "CASE_STATUS                          0 (ignore)\n",
    "VISA_CLASS                           0\n",
    "BUSINESS_NAME                        1 (ignore)\n",
    "TRADE_NAME                      156844 (ignore)\n",
    "EMPLOYER_ADDRESS_1                   1 (ignore)\n",
    "EMPLOYER_ADDRESS_2              128613 (ignore)\n",
    "EMPLOYER_CITY                        1 (ignore)\n",
    "EMPLOYER_STATE                      14 (ignore)\n",
    "EMPLOYER_POSTAL_CODE                 1 (ignore)\n",
    "EMPLOYER_COUNTRY                     1\n",
    "EMPLOYER_PROVINCE               181900 (ignore)\n",
    "EMPLOYER_PHONE                       1 (ignore)\n",
    "EMPLOYER _EXTENSION             178495 (ignore)\n",
    "NAICS_CODE                           3\n",
    "JOB_TITLE                            1\n",
    "SUGGESTED_SOC_CODE                 101\n",
    "SUGGESTED_SOC_TITLE                101\n",
    "WORK_HOUR_NUM_BASIC             182725 (ignore)\n",
    "WORK_HOUR_NUM_OVERTIME          182725 (ignore)\n",
    "SUPERVISOR_JOB_TITLE             48005 (ignore)\n",
    "SUPERVISE_OTHER_EMP                  1 (ignore)\n",
    "SUPERVISE_HOW_MANY              163414 (ignore)\n",
    "SUPERVISE_LEVEL                 163212 (ignore)\n",
    "TRAVEL_REQUIRED                      1 \n",
    "PRIMARY_EDUCATION_LEVEL              1\n",
    "OTHER_EDUCATION                 177060 (ignore)\n",
    "MAJOR                            29109 (ignore)\n",
    "SECOND_DIPLOMA                       3 (ignore)\n",
    "SECOND_DIPLOMA_MAJOR            182332 (ignore)\n",
    "TRAINING_REQUIRED                    2\n",
    "NUMBER_OF_MONTHS_TRAINING       179441 (ignore)\n",
    "NAME_REQUIRED_TRAINING          179549 (ignore)\n",
    "EMP_EXPERIENCE_REQUIRED              2 (ignore)\n",
    "EMP_EXPERIENCE_MONTHS            44418\n",
    "OCCUPATION_REQUIRED              44554 (ignore)\n",
    "PRIMARY_WORKSITE_CITY                1 (ignore)\n",
    "PRIMARY_WORKSITE_COUNTY             85 (ignore)\n",
    "PRIMARY_WORKSITE_STATE               1 \n",
    "PRIMARY_WORKSITE_POSTAL_CODE         2\n",
    "OTHER_WORKSITE_LOCATION              5 (ignore)\n",
    "WORKSITE_COUNTS                      0 (ignore)\n",
    "PWD_SOC_CODE                      8866\n",
    "PWD_SOC_TITLE                     8866\n",
    "PWD_WAGE_RATE                     8866\n",
    "PWD_UNIT_OF_PAY                   8866\n",
    "PWD_WAGE_LEVEL                   21106 (ignore)\n",
    "REQUESTED_WAGE_SOURCE                0 (ignore)\n",
    "PWD_WAGE_SOURCE                   8866 (ignore)\n",
    "PWD_WAGE_EXPIRATION_DATE          8866 (ignore)\n",
    "SURVEY_NAME                     165640 (ignore)\n",
    "SURVEY_PUBLICATION_DATE         165641 (ignore)\n",
    "\n"
   ]
  },
  {
   "cell_type": "markdown",
   "id": "67aae13e",
   "metadata": {},
   "source": [
    "# PWD_Disclosure_Data_FY2018_EOY"
   ]
  },
  {
   "cell_type": "code",
   "execution_count": 22,
   "id": "10ecc003",
   "metadata": {},
   "outputs": [],
   "source": [
    "import pandas as pd \n",
    "FY2018  = pd.read_excel('PWD_Disclosure_Data_FY2018_EOY.xlsx')"
   ]
  },
  {
   "cell_type": "code",
   "execution_count": 23,
   "id": "a5ae2d61",
   "metadata": {},
   "outputs": [
    {
     "data": {
      "text/plain": [
       "CASE_NUMBER                          0\n",
       "SUBMIT_DATE                          0\n",
       "DETERMINATION_DATE                7485\n",
       "REDTERMINATION_DATE             148235\n",
       "CENTER_DIRECTOR_REVIEW_DATE     149298\n",
       "WITHDRAWAL_DATE                 141924\n",
       "CASE_STATUS                          0\n",
       "VISA_CLASS                           0\n",
       "BUSINESS_NAME                        0\n",
       "TRADE_NAME                      128264\n",
       "EMPLOYER _ADDRESS_1                  0\n",
       "EMPLOYER_ ADDRESS _2            105884\n",
       "EMPLOYER _CITY                       0\n",
       "EMPLOYER _STATE                      6\n",
       "EMPLOYER_ POSTAL _CODE               0\n",
       "EMPLOYER _COUNTRY                    0\n",
       "EMPLOYER _PROVINCE              148755\n",
       "EMPLOYER _PHONE                      0\n",
       "EMPLOYER_ EXTENSION             146206\n",
       "NAICS_CODE                           1\n",
       "JOB_TITLE                            0\n",
       "SUGGESTED _SOC_CODE                 39\n",
       "SUGGESTED_SOC_TITLE                 39\n",
       "WORK_HOUR_NUM_BASIC             149409\n",
       "WORK_HOUR_NUM_OVERTIME          149409\n",
       "SUPERVISOR_JOB_TITLE             40121\n",
       "SUPERVISE_OTHER_EMP                  0\n",
       "SUPERVISE_HOW_MANY              133183\n",
       "SUPERVISE_LEVEL                 132920\n",
       "TRAVEL_REQUIRED                      0\n",
       "PRIMARY_EDUCATION_LEVEL              1\n",
       "OTHER_EDUCATION                 144703\n",
       "MAJOR                            26530\n",
       "SECOND_DIPLOMA                       0\n",
       "SECOND_DIPLOMA_MAJOR            149114\n",
       "TRAINING_REQUIRED                    0\n",
       "NUMBER_OF_MONTHS_TRAINING       146776\n",
       "NAME_REQUIRED_TRAINING          146783\n",
       "EMP_EXPERIENCE_REQUIRED              0\n",
       "EMP_EXPERIENCE_MONTHS            36786\n",
       "OCCUPATION_REQUIRED              36925\n",
       "PRIMARY_WORKSITE_CITY                0\n",
       "PRIMARY_WORKSITE_COUNTY            145\n",
       "PRIMARY_WORKSITE_STATE               0\n",
       "PRIMARY_WORKSITE_POSTAL_CODE         4\n",
       "OTHER_WORKSITE_LOCATION              1\n",
       "WORKSITE_COUNTS                      0\n",
       "PWD_SOC_CODE                      7485\n",
       "PWD_SOC_TITLE                     7485\n",
       "PWD_WAGE_RATE                     7485\n",
       "PWD_UNIT_OF_PAY                   7485\n",
       "PWD_WAGE_LEVEL                   19769\n",
       "REQUESTED_WAGE_SOURCE                0\n",
       "PWD_WAGE_SOURCE                   7485\n",
       "PWD_WAGE_EXPIRATION_DATE          7485\n",
       "SURVEY_NAME                     136721\n",
       "SURVEY_PUBLICATION_DATE         136720\n",
       "dtype: int64"
      ]
     },
     "execution_count": 23,
     "metadata": {},
     "output_type": "execute_result"
    }
   ],
   "source": [
    "FY2018.iloc[:, :].isnull().sum()"
   ]
  },
  {
   "cell_type": "code",
   "execution_count": 24,
   "id": "826b0b34",
   "metadata": {},
   "outputs": [
    {
     "data": {
      "text/plain": [
       "(149409, 57)"
      ]
     },
     "execution_count": 24,
     "metadata": {},
     "output_type": "execute_result"
    }
   ],
   "source": [
    "FY2018.shape"
   ]
  },
  {
   "cell_type": "raw",
   "id": "52cd6da5",
   "metadata": {},
   "source": [
    "PWD_Disclosure_Data_FY2018_EOY\n",
    "ColumnName                  Null-Count Ignore?\n",
    "\n",
    "CASE_NUMBER                          0 \n",
    "SUBMIT_DATE                          0 (ignore)\n",
    "DETERMINATION_DATE                7485\n",
    "REDTERMINATION_DATE             148235 (ignore)\n",
    "CENTER_DIRECTOR_REVIEW_DATE     149298 (ignore)\n",
    "WITHDRAWAL_DATE                 141924 (ignore)\n",
    "CASE_STATUS                          0 (ignore)\n",
    "VISA_CLASS                           0\n",
    "BUSINESS_NAME                        0 (ignore)\n",
    "TRADE_NAME                      128264 (ignore)\n",
    "EMPLOYER _ADDRESS_1                  0 (ignore)\n",
    "EMPLOYER_ ADDRESS _2            105884 (ignore)\n",
    "EMPLOYER _CITY                       0 (ignore)\n",
    "EMPLOYER _STATE                      6\n",
    "EMPLOYER_ POSTAL _CODE               0\n",
    "EMPLOYER _COUNTRY                    0\n",
    "EMPLOYER _PROVINCE              148755 (ignore)\n",
    "EMPLOYER _PHONE                      0 (ignore)\n",
    "EMPLOYER_ EXTENSION             146206 (ignore)\n",
    "NAICS_CODE                           1\n",
    "JOB_TITLE                            0\n",
    "SUGGESTED _SOC_CODE                 39\n",
    "SUGGESTED_SOC_TITLE                 39\n",
    "WORK_HOUR_NUM_BASIC             149409 (ignore)\n",
    "WORK_HOUR_NUM_OVERTIME          149409 (ignore)\n",
    "SUPERVISOR_JOB_TITLE             40121 (ignore)\n",
    "SUPERVISE_OTHER_EMP                  0 (ignore)\n",
    "SUPERVISE_HOW_MANY              133183 (ignore)\n",
    "SUPERVISE_LEVEL                 132920 (ignore)\n",
    "TRAVEL_REQUIRED                      0 (ignore)\n",
    "PRIMARY_EDUCATION_LEVEL              1\n",
    "OTHER_EDUCATION                 144703 (ignore)\n",
    "MAJOR                            26530 (ignore)\n",
    "SECOND_DIPLOMA                       0 (ignore)\n",
    "SECOND_DIPLOMA_MAJOR            149114 (ignore)\n",
    "TRAINING_REQUIRED                    0 \n",
    "NUMBER_OF_MONTHS_TRAINING       146776 (ignore)\n",
    "NAME_REQUIRED_TRAINING          146783 (ignore)\n",
    "EMP_EXPERIENCE_REQUIRED              0 (ignore)\n",
    "EMP_EXPERIENCE_MONTHS            36786\n",
    "OCCUPATION_REQUIRED              36925 (ignore)\n",
    "PRIMARY_WORKSITE_CITY                0 (ignore)\n",
    "PRIMARY_WORKSITE_COUNTY            145 (ignore)\n",
    "PRIMARY_WORKSITE_STATE               0\n",
    "PRIMARY_WORKSITE_POSTAL_CODE         4\n",
    "OTHER_WORKSITE_LOCATION              1 (ignore)\n",
    "WORKSITE_COUNTS                      0 (ignore)\n",
    "PWD_SOC_CODE                      7485\n",
    "PWD_SOC_TITLE                     7485\n",
    "PWD_WAGE_RATE                     7485\n",
    "PWD_UNIT_OF_PAY                   7485 \n",
    "PWD_WAGE_LEVEL                   19769 (ignore)\n",
    "REQUESTED_WAGE_SOURCE                0 (ignore)\n",
    "PWD_WAGE_SOURCE                   7485 (ignore)\n",
    "PWD_WAGE_EXPIRATION_DATE          7485 (ignore)\n",
    "SURVEY_NAME                     136721 (ignore)\n",
    "SURVEY_PUBLICATION_DATE         136720 (ignore)\n",
    "\n"
   ]
  },
  {
   "cell_type": "markdown",
   "id": "00b3328f",
   "metadata": {},
   "source": [
    "# PW_Disclosure_Data_FY2019"
   ]
  },
  {
   "cell_type": "code",
   "execution_count": 25,
   "id": "beb6ba52",
   "metadata": {},
   "outputs": [],
   "source": [
    "import pandas as pd \n",
    "FY2019  = pd.read_excel('PW_Disclosure_Data_FY2019.xlsx')"
   ]
  },
  {
   "cell_type": "code",
   "execution_count": 26,
   "id": "bb83381b",
   "metadata": {},
   "outputs": [
    {
     "data": {
      "text/plain": [
       "CASE_NUMBER                          0\n",
       "SUBMIT_DATE                          0\n",
       "DETERMINATION_DATE                7584\n",
       "REDETERMINATION_DATE            168854\n",
       "CENTER_DIRECTOR_REVIEW_DATE     169661\n",
       "WITHDRAWAL_DATE                 162187\n",
       "CASE_STATUS                          0\n",
       "VISA_CLASS                           0\n",
       "BUSINESS_NAME                        0\n",
       "TRADE_NAME                      140532\n",
       "EMPLOYER_ADDRESS_1                   0\n",
       "EMPLOYER_ADDRESS_2              116892\n",
       "EMPLOYER_CITY                        0\n",
       "EMPLOYER_STATE                      23\n",
       "EMPLOYER_POSTAL_CODE                 7\n",
       "EMPLOYER_COUNTRY                     0\n",
       "EMPLOYER_PROVINCE               167830\n",
       "EMPLOYER_PHONE                       0\n",
       "EMPLOYER_EXTENSION              165535\n",
       "NAICS_CODE                           5\n",
       "JOB_TITLE                            2\n",
       "SUGGESTED_SOC_CODE                 517\n",
       "SUGGESTED_SOC_TITLE                397\n",
       "SUPERVISOR_JOB_TITLE             45259\n",
       "SUPERVISE_OTHER_EMP                  0\n",
       "SUPERVISE_HOW_MANY              150826\n",
       "SUPERVISE_LEVEL                  12053\n",
       "TRAVEL_REQUIRED                      0\n",
       "PRIMARY_EDUCATION_LEVEL              0\n",
       "OTHER_EDUCATION                 164638\n",
       "MAJOR                            33313\n",
       "SECOND_DIPLOMA                       0\n",
       "SECOND_DIPLOMA_MAJOR            169456\n",
       "TRAINING_REQUIRED                    0\n",
       "NUMBER_OF_MONTHS_TRAINING       166614\n",
       "NAME_REQUIRED_TRAINING          166636\n",
       "EMP_EXPERIENCE_REQUIRED              0\n",
       "EMP_EXPERIENCE_MONTHS            41264\n",
       "OCCUPATION_REQUIRED              41419\n",
       "PRIMARY_WORKSITE_CITY                1\n",
       "PRIMARY_WORKSITE_COUNTY          13735\n",
       "PRIMARY_WORKSITE_STATE               0\n",
       "PRIMARY_WORKSITE_POSTAL_CODE         3\n",
       "OTHER_WORKSITE_LOCATION              0\n",
       "WORKSITE_COUNTS                      0\n",
       "PWD_SOC_CODE                      7596\n",
       "PWD_SOC_TITLE                     7012\n",
       "PWD_WAGE_RATE                     7012\n",
       "PWD_UNIT_OF_PAY                   7012\n",
       "PWD_WAGE_LEVEL                   25695\n",
       "REQUESTED_WAGE_SOURCE                1\n",
       "PWD_WAGE_SOURCE                   7050\n",
       "PWD_WAGE_EXPIRATION_DATE          7625\n",
       "SURVEY_NAME                     158978\n",
       "SURVEY_PUBLICATION_DATE         158979\n",
       "dtype: int64"
      ]
     },
     "execution_count": 26,
     "metadata": {},
     "output_type": "execute_result"
    }
   ],
   "source": [
    "FY2019.iloc[:, :].isnull().sum()"
   ]
  },
  {
   "cell_type": "code",
   "execution_count": 27,
   "id": "7a2389bb",
   "metadata": {},
   "outputs": [
    {
     "data": {
      "text/plain": [
       "(169781, 55)"
      ]
     },
     "execution_count": 27,
     "metadata": {},
     "output_type": "execute_result"
    }
   ],
   "source": [
    "FY2019.shape"
   ]
  },
  {
   "cell_type": "raw",
   "id": "92fb7100",
   "metadata": {},
   "source": [
    "PW_Disclosure_Data_FY2019\n",
    "ColumnName                  Null-Count Ignore?\n",
    "\n",
    "CASE_NUMBER                          0 (ignore)\n",
    "SUBMIT_DATE                          0 (ignore)\n",
    "DETERMINATION_DATE                7584\n",
    "REDETERMINATION_DATE            168854 (ignore)\n",
    "CENTER_DIRECTOR_REVIEW_DATE     169661 (ignore)\n",
    "WITHDRAWAL_DATE                 162187 (ignore)\n",
    "CASE_STATUS                          0 (ignore)\n",
    "VISA_CLASS                           0 (ignore)\n",
    "BUSINESS_NAME                        0 (ignore)\n",
    "TRADE_NAME                      140532 (ignore)\n",
    "EMPLOYER_ADDRESS_1                   0 (ignore)\n",
    "EMPLOYER_ADDRESS_2              116892 (ignore)\n",
    "EMPLOYER_CITY                        0 (ignore)\n",
    "EMPLOYER_STATE                      23 \n",
    "EMPLOYER_POSTAL_CODE                 7\n",
    "EMPLOYER_COUNTRY                     0\n",
    "EMPLOYER_PROVINCE               167830 (ignore)\n",
    "EMPLOYER_PHONE                       0 (ignore)\n",
    "EMPLOYER_EXTENSION              165535 (ignore)\n",
    "NAICS_CODE                           5\n",
    "JOB_TITLE                            2\n",
    "SUGGESTED_SOC_CODE                 517\n",
    "SUGGESTED_SOC_TITLE                397\n",
    "SUPERVISOR_JOB_TITLE             45259 (ignore)\n",
    "SUPERVISE_OTHER_EMP                  0 (ignore)\n",
    "SUPERVISE_HOW_MANY              150826 (ignore)\n",
    "SUPERVISE_LEVEL                  12053 (ignore)\n",
    "TRAVEL_REQUIRED                      0 (ignore)\n",
    "PRIMARY_EDUCATION_LEVEL              0\n",
    "OTHER_EDUCATION                 164638 (ignore)\n",
    "MAJOR                            33313 (ignore)\n",
    "SECOND_DIPLOMA                       0 (ignore)\n",
    "SECOND_DIPLOMA_MAJOR            169456 (ignore)\n",
    "TRAINING_REQUIRED                    0 (ignore)\n",
    "NUMBER_OF_MONTHS_TRAINING       166614 (ignore)\n",
    "NAME_REQUIRED_TRAINING          166636 (ignore)\n",
    "EMP_EXPERIENCE_REQUIRED              0 (ignore)\n",
    "EMP_EXPERIENCE_MONTHS            41264 \n",
    "OCCUPATION_REQUIRED              41419 (ignore)\n",
    "PRIMARY_WORKSITE_CITY                1 (ignore)\n",
    "PRIMARY_WORKSITE_COUNTY          13735 (ignore)\n",
    "PRIMARY_WORKSITE_STATE               0\n",
    "PRIMARY_WORKSITE_POSTAL_CODE         3\n",
    "OTHER_WORKSITE_LOCATION              0 (ignore)\n",
    "WORKSITE_COUNTS                      0 (ignore)\n",
    "PWD_SOC_CODE                      7596\n",
    "PWD_SOC_TITLE                     7012\n",
    "PWD_WAGE_RATE                     7012\n",
    "PWD_UNIT_OF_PAY                   7012 (ignore)\n",
    "PWD_WAGE_LEVEL                   25695 (ignore)\n",
    "REQUESTED_WAGE_SOURCE                1 (ignore)\n",
    "PWD_WAGE_SOURCE                   7050 (ignore)\n",
    "PWD_WAGE_EXPIRATION_DATE          7625 (ignore)\n",
    "SURVEY_NAME                     158978 (ignore)\n",
    "SURVEY_PUBLICATION_DATE         158979 (ignore)\n"
   ]
  },
  {
   "cell_type": "markdown",
   "id": "f620f5a1",
   "metadata": {},
   "source": [
    "# PW_Disclosure_Data_FY2020"
   ]
  },
  {
   "cell_type": "code",
   "execution_count": 28,
   "id": "7c09b15b",
   "metadata": {},
   "outputs": [],
   "source": [
    "import pandas as pd \n",
    "FY20 = pd.read_excel('PW_Disclosure_Data_FY2020.xlsx')"
   ]
  },
  {
   "cell_type": "code",
   "execution_count": 29,
   "id": "20b70e55",
   "metadata": {},
   "outputs": [
    {
     "data": {
      "text/plain": [
       "CASE_NUMBER                          0\n",
       "CASE_STATUS                          0\n",
       "RECEIVED_DATE                        0\n",
       "DETERMINATION_DATE                6295\n",
       "REDETERMINATION_DATE            165680\n",
       "CENTER_DIRECTOR_REVIEW_DATE     166451\n",
       "WITHDRAWAL_DATE                 160229\n",
       "VISA_CLASS                           0\n",
       "REQUESTOR_POC_LAST_NAME              0\n",
       "REQUESTOR_POC_FIRST_NAME             0\n",
       "REQUESTOR_POC_MIDDLE_NAME        70500\n",
       "REQUESTOR_POC_JOB_TITLE              1\n",
       "REQUESTOR_POC_ADDRESS1               0\n",
       "REQUESTOR_POC_ADDRESS2           43400\n",
       "REQUESTOR_POC_CITY                  63\n",
       "REQUESTOR_POC_STATE               5350\n",
       "REQUESTOR_POC_POSTAL_CODE           63\n",
       "REQUESTOR_POC_COUNTRY                0\n",
       "REQUESTOR_POC_PROVINCE          156185\n",
       "REQUESTOR_POC_PHONE                  1\n",
       "REQUESTOR_POC_PHONE_EXT         149014\n",
       "REQUESTOR_POC_FAX_NUMBER         59171\n",
       "REQUESTOR_POC_EMAIL                 18\n",
       "EMPLOYER_LEGAL_BUSINESS_NAME         0\n",
       "TRADE_NAME_DBA                  135981\n",
       "EMPLOYER_ADDRESS_1                   0\n",
       "EMPLOYER_ADDRESS_2              109282\n",
       "EMPLOYER_CITY                        0\n",
       "EMPLOYER_STATE                      57\n",
       "EMPLOYER_POSTAL_CODE                 2\n",
       "EMPLOYER_COUNTRY                     0\n",
       "EMPLOYER_PROVINCE               161443\n",
       "dtype: int64"
      ]
     },
     "execution_count": 29,
     "metadata": {},
     "output_type": "execute_result"
    }
   ],
   "source": [
    "FY20.iloc[:, 0:32].isnull().sum()"
   ]
  },
  {
   "cell_type": "code",
   "execution_count": 30,
   "id": "5af77fb7",
   "metadata": {},
   "outputs": [
    {
     "data": {
      "text/plain": [
       "EMPLOYER_EXTENSION              157025\n",
       "NAICS_CODE                          29\n",
       "COVERED_BY_ACWIA                     0\n",
       "CBA                                  0\n",
       "DBA_SCA                         166420\n",
       "SURVEY                               0\n",
       "SURVEY_NAME                     157660\n",
       "SURVEY_PUBLICATION_DATE         157659\n",
       "JOB_TITLE                            0\n",
       "SUGGESTED_SOC_CODE                 524\n",
       "SUGGESTED_SOC_TITLE                528\n",
       "SUPERVISOR_JOB_TITLE             42630\n",
       "SUPERVISE_OTHER_EMP                  0\n",
       "SUPERVISE_HOW_MANY              147346\n",
       "SUPERVISION_LEVEL               147191\n",
       "TRAVEL_REQUIRED                      0\n",
       "TRAVEL_DETAILS                  124359\n",
       "PRIMARY_EDUCATION_LEVEL              0\n",
       "OTHER_EDUCATION                 162517\n",
       "MAJOR                            31009\n",
       "SECOND_DIPLOMA                       0\n",
       "SECOND_DIPLOMA_MAJOR            166209\n",
       "TRAINING_REQUIRED                    0\n",
       "NUMBER_OF_MONTHS_TRAINING       162285\n",
       "NAME_REQUIRED_TRAINING          163474\n",
       "EMP_EXPERIENCE_REQUIRED              0\n",
       "EMP_EXPERIENCE_MONTHS            40631\n",
       "OCCUPATION_REQUIRED              41000\n",
       "SPECIAL_REQUIREMENTS              6896\n",
       "PRIMARY_WORKSITE_ADDRESS_1           1\n",
       "PRIMARY_WORKSITE_ADDRESS_2      111403\n",
       "PRIMARY_WORKSITE_CITY                0\n",
       "PRIMARY_WORKSITE_COUNTY           5179\n",
       "PRIMARY_WORKSITE_STATE               0\n",
       "PRIMARY_WORKSITE_POSTAL_CODE         3\n",
       "OTHER_WORKSITE_LOCATION              0\n",
       "PWD_SOC_CODE                      5493\n",
       "PWD_SOC_TITLE                     5493\n",
       "PWD_WAGE_RATE                     5493\n",
       "PWD_OES_WAGE_LEVEL               29568\n",
       "PWD_UNIT_OF_PAY                   5493\n",
       "PWD_WAGE_SOURCE                   5493\n",
       "PWD_SURVEY_NAME                 159880\n",
       "WAGE_DET_NOTES                   81260\n",
       "PWD_WAGE_EXPIRATION_DATE          6295\n",
       "dtype: int64"
      ]
     },
     "execution_count": 30,
     "metadata": {},
     "output_type": "execute_result"
    }
   ],
   "source": [
    "FY20.iloc[:, 33:].isnull().sum()"
   ]
  },
  {
   "cell_type": "code",
   "execution_count": 31,
   "id": "5bfc9c2b",
   "metadata": {},
   "outputs": [
    {
     "data": {
      "text/plain": [
       "(166525, 78)"
      ]
     },
     "execution_count": 31,
     "metadata": {},
     "output_type": "execute_result"
    }
   ],
   "source": [
    "FY20.shape"
   ]
  },
  {
   "cell_type": "raw",
   "id": "71d6686e",
   "metadata": {},
   "source": [
    "PW_Disclosure_Data_FY2020 \n",
    "ColumnName                  Null-Count Ignore?\n",
    "\n",
    "CASE_NUMBER                          0 \n",
    "CASE_STATUS                          0 (ignore)\n",
    "RECEIVED_DATE                        0 (ignore)\n",
    "DETERMINATION_DATE                6295\n",
    "REDETERMINATION_DATE            165680 (ignore)\n",
    "CENTER_DIRECTOR_REVIEW_DATE     166451 (ignore)\n",
    "WITHDRAWAL_DATE                 160229 (ignore)\n",
    "VISA_CLASS                           0 (ignore)\n",
    "REQUESTOR_POC_LAST_NAME              0 (ignore)\n",
    "REQUESTOR_POC_FIRST_NAME             0 (ignore)\n",
    "REQUESTOR_POC_MIDDLE_NAME        70500 (ignore)\n",
    "REQUESTOR_POC_JOB_TITLE              1\n",
    "REQUESTOR_POC_ADDRESS1               0 (ignore)\n",
    "REQUESTOR_POC_ADDRESS2           43400 (ignore)\n",
    "REQUESTOR_POC_CITY                  63 (ignore)\n",
    "REQUESTOR_POC_STATE               5350\n",
    "REQUESTOR_POC_POSTAL_CODE           63\n",
    "REQUESTOR_POC_COUNTRY                0\n",
    "REQUESTOR_POC_PROVINCE          156185 (ignore)\n",
    "REQUESTOR_POC_PHONE                  1 (ignore)\n",
    "REQUESTOR_POC_PHONE_EXT         149014 (ignore)\n",
    "REQUESTOR_POC_FAX_NUMBER         59171 (ignore)\n",
    "REQUESTOR_POC_EMAIL                 18 (ignore)\n",
    "EMPLOYER_LEGAL_BUSINESS_NAME         0 (ignore)\n",
    "TRADE_NAME_DBA                  135981 (ignore)\n",
    "EMPLOYER_ADDRESS_1                   0 (ignore)\n",
    "EMPLOYER_ADDRESS_2              109282 (ignore)\n",
    "EMPLOYER_CITY                        0 (ignore)\n",
    "EMPLOYER_STATE                      57\n",
    "EMPLOYER_POSTAL_CODE                 2\n",
    "EMPLOYER_COUNTRY                     0\n",
    "EMPLOYER_PROVINCE               161443 (ignore)\n",
    "\n",
    "EMPLOYER_EXTENSION              157025 (ignore)\n",
    "NAICS_CODE                          29\n",
    "COVERED_BY_ACWIA                     0 (ignore)\n",
    "CBA                                  0 (ignore)\n",
    "DBA_SCA                         166420 (ignore)\n",
    "SURVEY                               0 (ignore)\n",
    "SURVEY_NAME                     157660 (ignore)\n",
    "SURVEY_PUBLICATION_DATE         157659 (ignore)\n",
    "JOB_TITLE                            0\n",
    "SUGGESTED_SOC_CODE                 524\n",
    "SUGGESTED_SOC_TITLE                528\n",
    "SUPERVISOR_JOB_TITLE             42630\n",
    "SUPERVISE_OTHER_EMP                  0 (ignore)\n",
    "SUPERVISE_HOW_MANY              147346 (ignore)\n",
    "SUPERVISION_LEVEL               147191 (ignore)\n",
    "TRAVEL_REQUIRED                      0 (ignore)\n",
    "TRAVEL_DETAILS                  124359 (ignore)\n",
    "PRIMARY_EDUCATION_LEVEL              0\n",
    "OTHER_EDUCATION                 162517 (ignore)\n",
    "MAJOR                            31009 (ignore)\n",
    "SECOND_DIPLOMA                       0 (ignore)\n",
    "SECOND_DIPLOMA_MAJOR            166209 (ignore)\n",
    "TRAINING_REQUIRED                    0 (ignore)\n",
    "NUMBER_OF_MONTHS_TRAINING       162285 (ignore)\n",
    "NAME_REQUIRED_TRAINING          163474 (ignore)\n",
    "EMP_EXPERIENCE_REQUIRED              0\n",
    "EMP_EXPERIENCE_MONTHS            40631\n",
    "OCCUPATION_REQUIRED              41000\n",
    "SPECIAL_REQUIREMENTS              6896\n",
    "PRIMARY_WORKSITE_ADDRESS_1           1 (ignore)\n",
    "PRIMARY_WORKSITE_ADDRESS_2      111403 (ignore)\n",
    "PRIMARY_WORKSITE_CITY                0 (ignore)\n",
    "PRIMARY_WORKSITE_COUNTY           5179 (ignore)\n",
    "PRIMARY_WORKSITE_STATE               0\n",
    "PRIMARY_WORKSITE_POSTAL_CODE         3\n",
    "OTHER_WORKSITE_LOCATION              0\n",
    "PWD_SOC_CODE                      5493 \n",
    "PWD_SOC_TITLE                     5493\n",
    "PWD_WAGE_RATE                     5493\n",
    "PWD_OES_WAGE_LEVEL               29568 (ignore)\n",
    "PWD_UNIT_OF_PAY                   5493 (ignore)\n",
    "PWD_WAGE_SOURCE                   5493 (ignore)\n",
    "PWD_SURVEY_NAME                 159880 (ignore)\n",
    "WAGE_DET_NOTES                   81260 (ignore)\n",
    "PWD_WAGE_EXPIRATION_DATE          6295 (ignore)\n",
    "\n"
   ]
  },
  {
   "cell_type": "markdown",
   "id": "d3d492f9",
   "metadata": {},
   "source": [
    "# PW_Worksites_FY2020"
   ]
  },
  {
   "cell_type": "code",
   "execution_count": 32,
   "id": "94556deb",
   "metadata": {},
   "outputs": [],
   "source": [
    "import pandas as pd \n",
    "worksites20 = pd.read_excel('PW_Worksites_FY2020.xlsx')"
   ]
  },
  {
   "cell_type": "code",
   "execution_count": 33,
   "id": "29801de0",
   "metadata": {},
   "outputs": [
    {
     "data": {
      "text/plain": [
       "CASE_NUMBER                     0\n",
       "WORKSITE_STATE                  1\n",
       "WORKSITE_BLS_AREA           97965\n",
       "WORKSITE_COUNTY_TOWNSHIP      272\n",
       "WAGE_SOURCE                  1843\n",
       "OTHER_WAGE_SOURCE           97421\n",
       "PREVAILING_WAGE              1843\n",
       "PW_UNIT_OF_PAY               1843\n",
       "dtype: int64"
      ]
     },
     "execution_count": 33,
     "metadata": {},
     "output_type": "execute_result"
    }
   ],
   "source": [
    "worksites20.iloc[:, :].isnull().sum()"
   ]
  },
  {
   "cell_type": "code",
   "execution_count": 34,
   "id": "466dc2fc",
   "metadata": {},
   "outputs": [
    {
     "data": {
      "text/plain": [
       "(97995, 8)"
      ]
     },
     "execution_count": 34,
     "metadata": {},
     "output_type": "execute_result"
    }
   ],
   "source": [
    "worksites20.shape"
   ]
  },
  {
   "cell_type": "raw",
   "id": "06612919",
   "metadata": {},
   "source": [
    "PW_Worksites_FY2020 \n",
    "ColumnName             Null Count Ignore?\n",
    "\n",
    "CASE_NUMBER                     0 \n",
    "WORKSITE_STATE                  1\n",
    "WORKSITE_BLS_AREA           97965\n",
    "WORKSITE_COUNTY_TOWNSHIP      272\n",
    "WAGE_SOURCE                  1843\n",
    "OTHER_WAGE_SOURCE           97421\n",
    "PREVAILING_WAGE              1843\n",
    "PW_UNIT_OF_PAY               1843\n",
    "\n",
    "Optional dataset"
   ]
  },
  {
   "cell_type": "markdown",
   "id": "a9f8d3d9",
   "metadata": {},
   "source": [
    "## Check If All 10 Datasets Are Ready\n",
    "\n",
    "Using the `check` function\n",
    "\n",
    "<span style=\"color:DodgerBlue\"> The code below will check if all ten datasets are assigned.</span>"
   ]
  },
  {
   "cell_type": "code",
   "execution_count": 35,
   "id": "a996a801",
   "metadata": {},
   "outputs": [
    {
     "name": "stdout",
     "output_type": "stream",
     "text": [
      "All 10 datasets are assigned!\n"
     ]
    }
   ],
   "source": [
    "#check(df2012, PW_FY2013, FY2014, FY15, FY16, FY17, FY2018, FY2019, FY20, worksites20)\n",
    "\n",
    "def check(df2012, PW_FY2013, FY2014, FY15, FY16, FY17, FY2018, FY2019, FY20, worksites20):\n",
    "    try:\n",
    "        df2012.head(1)\n",
    "        PW_FY2013.head(1)\n",
    "        FY2014.head(1)\n",
    "        FY15.head(1)\n",
    "        FY16.head(1)\n",
    "        FY17.head(1)\n",
    "        FY2018.head(1)\n",
    "        FY2019.head(1)\n",
    "        FY20.head(1)\n",
    "        worksites20.head(1)\n",
    "        print('All 10 datasets are assigned!')\n",
    "    except NameError:\n",
    "        print(NameError)\n",
    "    except:\n",
    "        print('Something else went wrong')\n",
    "        \n",
    "check(df2012, PW_FY2013, FY2014, FY15, FY16, FY17, FY2018, FY2019, FY20, worksites20)   "
   ]
  },
  {
   "cell_type": "markdown",
   "id": "80ab45b8",
   "metadata": {},
   "source": [
    "## Preprocessing Objectives\n",
    "\n",
    "- remove all null rows (dataframe.dropna) (**samir**)\n",
    "    - **note** some nulls/na's still exist, please remove before continuing\n",
    "- remove duplicate values (**samir**)\n",
    "    - **note** some duplicates still exist, please remove before continuing\n",
    "- datetime formatting (**not-done**)\n",
    "- rename important columns for consistency,analysis, and concatenation. (**samir**)\n",
    "    - **note** The *2020 worksites dataset* will NOT be prepped for concatenation/merging \n",
    "- merge/concatenate datasets on the common column of \"determination date\" (**not-done**)\n",
    "- create duplicate of the python dataframes in case any backtracking needs to be done (**samir**)"
   ]
  },
  {
   "cell_type": "markdown",
   "id": "dfaafcd5",
   "metadata": {},
   "source": [
    "## Insights/ Tasks \n",
    "\n",
    "Here are some starting points for generating insights \n",
    "\n",
    "- **Job growth** –  using CASE NUMBER over time\n",
    "- **Wage Rate** - by job category, over time\n",
    "- **Geographical distribution** – by state, by zip code, major cities. (Tableau can be supplemental to this)\n",
    "- **Educational background** – degree level, field of expertise etc.\n",
    "- **Years of prior experience**  \n",
    "- **Job Category** – tech field, financial field, others (PWD_SOC columns)\n",
    "- **Industry Category** - (NAICS code) tech, finance, educational, etc. Will have to translate the NAICs code from https://www.naics.com/search/"
   ]
  },
  {
   "cell_type": "code",
   "execution_count": 36,
   "id": "5b1a783f",
   "metadata": {},
   "outputs": [],
   "source": [
    "# df.duplicated().sum()"
   ]
  },
  {
   "cell_type": "code",
   "execution_count": 37,
   "id": "431daf70",
   "metadata": {},
   "outputs": [],
   "source": [
    "#df_can.drop(['AREA', 'REG', 'DEV', 'Type', 'Coverage'], axis=1, inplace=True)"
   ]
  },
  {
   "cell_type": "code",
   "execution_count": 38,
   "id": "eb53ed20",
   "metadata": {},
   "outputs": [],
   "source": [
    "# Duplicate datasets and rename them\n",
    "# original names: df2012, PW_FY2013, FY2014, FY15, FY16, FY17, FY2018, FY2019, FY20, worksites20\n",
    "\n",
    "df_2012 = df2012.copy()\n",
    "df_2013 = PW_FY2013.copy()\n",
    "df_2014 = FY2014.copy()\n",
    "df_2015 = FY15.copy()\n",
    "df_2016 = FY16.copy()\n",
    "df_2017 = FY17.copy()\n",
    "df_2018 = FY2018.copy()\n",
    "df_2019 = FY2019.copy()\n",
    "df_2020 = FY20.copy()"
   ]
  },
  {
   "cell_type": "code",
   "execution_count": 39,
   "id": "f4919a76",
   "metadata": {},
   "outputs": [
    {
     "data": {
      "text/plain": [
       "<bound method DataFrame.dropna of                CASE_NUMBER                                    CASE_STATUS  \\\n",
       "0       P-100-18302-187834                       Redetermination Affirmed   \n",
       "1       P-100-18306-211405                                      Withdrawn   \n",
       "2       P-100-18353-210924                       Redetermination Modified   \n",
       "3       P-100-19013-734977                                      Withdrawn   \n",
       "4       P-100-19036-214674  Center Director Review Modified Determination   \n",
       "...                    ...                                            ...   \n",
       "166520  P-500-20244-795208                           Determination Issued   \n",
       "166521  P-500-20244-795214                           Determination Issued   \n",
       "166522  P-500-20244-795224                           Determination Issued   \n",
       "166523  P-500-20244-795225                           Determination Issued   \n",
       "166524  P-500-20244-795229                           Determination Issued   \n",
       "\n",
       "       RECEIVED_DATE DETERMINATION_DATE REDETERMINATION_DATE  \\\n",
       "0         2019-05-24         2019-09-09           2019-10-31   \n",
       "1         2018-11-02                NaT                  NaT   \n",
       "2         2019-04-23         2019-10-25           2019-10-25   \n",
       "3         2019-01-13                NaT                  NaT   \n",
       "4         2019-02-15         2019-10-21           2019-08-13   \n",
       "...              ...                ...                  ...   \n",
       "166520    2020-08-30         2020-09-30                  NaT   \n",
       "166521    2020-08-30         2020-09-30                  NaT   \n",
       "166522    2020-08-30         2020-09-30                  NaT   \n",
       "166523    2020-08-30         2020-09-30                  NaT   \n",
       "166524    2020-08-30         2020-09-30                  NaT   \n",
       "\n",
       "       CENTER_DIRECTOR_REVIEW_DATE WITHDRAWAL_DATE VISA_CLASS  \\\n",
       "0                              NaT             NaT       PERM   \n",
       "1                              NaT      2020-02-02       PERM   \n",
       "2                              NaT             NaT       PERM   \n",
       "3                              NaT      2019-12-19       PERM   \n",
       "4                       2019-10-21             NaT       PERM   \n",
       "...                            ...             ...        ...   \n",
       "166520                         NaT             NaT       CW-1   \n",
       "166521                         NaT             NaT       CW-1   \n",
       "166522                         NaT             NaT       CW-1   \n",
       "166523                         NaT             NaT       CW-1   \n",
       "166524                         NaT             NaT       CW-1   \n",
       "\n",
       "       REQUESTOR_POC_LAST_NAME REQUESTOR_POC_FIRST_NAME  ...  \\\n",
       "0                         WEST                 JENNIFER  ...   \n",
       "1                    AL AZZAWI                  MOHANAD  ...   \n",
       "2                         LANG                    NILES  ...   \n",
       "3                          JIN                     ZHEN  ...   \n",
       "4                      KETCHER                     ADAM  ...   \n",
       "...                        ...                      ...  ...   \n",
       "166520                   NARIO                ALEJANDRO  ...   \n",
       "166521                Suguitan                  Rosalie  ...   \n",
       "166522                   NARIO                ALEJANDRO  ...   \n",
       "166523                   NARIO                ALEJANDRO  ...   \n",
       "166524                   NARIO                ALEJANDRO  ...   \n",
       "\n",
       "       OTHER_WORKSITE_LOCATION PWD_SOC_CODE  \\\n",
       "0                            Y   11-3021.00   \n",
       "1                            N          NaN   \n",
       "2                            Y   47-3015.00   \n",
       "3                            N          NaN   \n",
       "4                            N   13-1161.00   \n",
       "...                        ...          ...   \n",
       "166520                       N   13-2011.01   \n",
       "166521                       N   51-3011.00   \n",
       "166522                       N   37-2012.00   \n",
       "166523                       N   43-3031.00   \n",
       "166524                       N   49-9071.00   \n",
       "\n",
       "                                            PWD_SOC_TITLE PWD_WAGE_RATE  \\\n",
       "0               Computer and Information Systems Managers     199534.00   \n",
       "1                                                     NaN           NaN   \n",
       "2       Helpers--Pipelayers, Plumbers, Pipefitters, an...      40955.00   \n",
       "3                                                     NaN           NaN   \n",
       "4       Market Research Analysts and Marketing Special...      99362.00   \n",
       "...                                                   ...           ...   \n",
       "166520                                        Accountants         14.85   \n",
       "166521                                             Bakers          7.90   \n",
       "166522                    Maids and Housekeeping Cleaners          7.59   \n",
       "166523       Bookkeeping, Accounting, and Auditing Clerks          9.49   \n",
       "166524            Maintenance and Repair Workers, General          8.71   \n",
       "\n",
       "       PWD_OES_WAGE_LEVEL PWD_UNIT_OF_PAY            PWD_WAGE_SOURCE  \\\n",
       "0                Level IV            Year                        OES   \n",
       "1                     NaN             NaN                        NaN   \n",
       "2                Level IV            Year                        OES   \n",
       "3                     NaN             NaN                        NaN   \n",
       "4                Level IV            Year                        OES   \n",
       "...                   ...             ...                        ...   \n",
       "166520                NaN            Hour  CW-1 CNMI Approved Survey   \n",
       "166521                NaN            Hour  CW-1 CNMI Approved Survey   \n",
       "166522                NaN            Hour  CW-1 CNMI Approved Survey   \n",
       "166523                NaN            Hour  CW-1 CNMI Approved Survey   \n",
       "166524                NaN            Hour  CW-1 CNMI Approved Survey   \n",
       "\n",
       "       PWD_SURVEY_NAME                                     WAGE_DET_NOTES  \\\n",
       "0                  NaN                                                NaN   \n",
       "1                  NaN                                                NaN   \n",
       "2                  NaN                                                NaN   \n",
       "3                  NaN                                                NaN   \n",
       "4                  NaN                                                NaN   \n",
       "...                ...                                                ...   \n",
       "166520             NaN  The six digit SOC code is assigned based on th...   \n",
       "166521             NaN                                                NaN   \n",
       "166522             NaN                                                NaN   \n",
       "166523             NaN                                                NaN   \n",
       "166524             NaN                                                NaN   \n",
       "\n",
       "       PWD_WAGE_EXPIRATION_DATE  \n",
       "0                    2020-06-30  \n",
       "1                           NaT  \n",
       "2                    2020-06-30  \n",
       "3                           NaT  \n",
       "4                    2020-06-30  \n",
       "...                         ...  \n",
       "166520               2021-06-30  \n",
       "166521               2021-06-30  \n",
       "166522               2021-06-30  \n",
       "166523               2021-06-30  \n",
       "166524               2021-06-30  \n",
       "\n",
       "[166525 rows x 78 columns]>"
      ]
     },
     "execution_count": 39,
     "metadata": {},
     "output_type": "execute_result"
    }
   ],
   "source": [
    "# drop all null/nan values across 2012-2020 disclosure datasets\n",
    "df_2012.dropna\n",
    "df_2013.dropna\n",
    "df_2014.dropna\n",
    "df_2015.dropna\n",
    "df_2016.dropna\n",
    "df_2017.dropna\n",
    "df_2018.dropna\n",
    "df_2019.dropna\n",
    "df_2020.dropna"
   ]
  },
  {
   "cell_type": "code",
   "execution_count": null,
   "id": "3b1d4adb",
   "metadata": {},
   "outputs": [],
   "source": []
  },
  {
   "cell_type": "markdown",
   "id": "990f2466",
   "metadata": {},
   "source": [
    "## Keep 10 Common Core Columns Only"
   ]
  },
  {
   "cell_type": "markdown",
   "id": "3e5777ee",
   "metadata": {},
   "source": [
    "Instead of dropping columns I retained the columns of interest. This is in case you want to derive insights from a column(s) I didn't end up keeping - you would have to append it to the relevant dataset(s) for your analysis."
   ]
  },
  {
   "cell_type": "markdown",
   "id": "08c74aeb",
   "metadata": {},
   "source": [
    "### 2012"
   ]
  },
  {
   "cell_type": "code",
   "execution_count": 40,
   "id": "8546383d",
   "metadata": {},
   "outputs": [
    {
     "data": {
      "text/plain": [
       "Index(['CASE_NUMBER', 'PW_DETERMINATION_DATE', 'PW_REDETERMINATION_DATE',\n",
       "       'PW_WITHDRAWAL_DATE', 'CASE_STATUS', 'VISA_CLASS',\n",
       "       'EMPLYER_LEGAL_BUSINESS_NAME', 'EMPLOYER_TRADE_DBA_NAME',\n",
       "       'EMPLOYER_ADDRESS_1', 'EMPLOYER_ADDRESS_2', 'EMPLOYER_CITY',\n",
       "       'EMPLOYER_STATE', 'EMPLOYER_POSTAL_CODE', 'NAIC_US_CODE',\n",
       "       'PW_JOB_TITLE', 'SUPERVISE_OTHER_EMP', 'TRAVEL_REQUIRED',\n",
       "       'PRIMARY_EDUCATION_LEVEL', 'TRAINING_REQUIRED',\n",
       "       'EMP_EXPERIENCE_REQUIRED', 'EMP_EXPERIENCE_MONTHS',\n",
       "       'PRIMARY_WORKSITE_CITY', 'PRIMARY_WORKSITE_COUNTY',\n",
       "       'PRIMARY_WORKSITE_STATE', 'PRIMARY_WORKSITE_POSTAL_CODE',\n",
       "       'PWD_SOC_CODE', 'PWD_SOC_CODE_TITLE', 'PWD_WAGE_RATE', 'PWD_WAGE_LEVEL',\n",
       "       'PW_UNIT_OF_PAY', 'PWD_WAGE_SOURCE', 'PWD_WAGE_EXPIRATION_DATE'],\n",
       "      dtype='object')"
      ]
     },
     "execution_count": 40,
     "metadata": {},
     "output_type": "execute_result"
    }
   ],
   "source": [
    "df_2012.columns"
   ]
  },
  {
   "cell_type": "code",
   "execution_count": 41,
   "id": "285adfd1",
   "metadata": {},
   "outputs": [
    {
     "data": {
      "text/html": [
       "<div>\n",
       "<style scoped>\n",
       "    .dataframe tbody tr th:only-of-type {\n",
       "        vertical-align: middle;\n",
       "    }\n",
       "\n",
       "    .dataframe tbody tr th {\n",
       "        vertical-align: top;\n",
       "    }\n",
       "\n",
       "    .dataframe thead th {\n",
       "        text-align: right;\n",
       "    }\n",
       "</style>\n",
       "<table border=\"1\" class=\"dataframe\">\n",
       "  <thead>\n",
       "    <tr style=\"text-align: right;\">\n",
       "      <th></th>\n",
       "      <th>CASE_NUMBER</th>\n",
       "      <th>PW_DETERMINATION_DATE</th>\n",
       "      <th>EMPLOYER_CITY</th>\n",
       "      <th>EMPLOYER_STATE</th>\n",
       "      <th>EMPLOYER_POSTAL_CODE</th>\n",
       "      <th>NAIC_US_CODE</th>\n",
       "      <th>PRIMARY_EDUCATION_LEVEL</th>\n",
       "      <th>EMP_EXPERIENCE_MONTHS</th>\n",
       "      <th>PWD_SOC_CODE_TITLE</th>\n",
       "      <th>PWD_WAGE_RATE</th>\n",
       "    </tr>\n",
       "  </thead>\n",
       "  <tbody>\n",
       "    <tr>\n",
       "      <th>0</th>\n",
       "      <td>P-100-11165-161436</td>\n",
       "      <td>2011-10-05</td>\n",
       "      <td>FOSTER CITY</td>\n",
       "      <td>CALIFORNIA</td>\n",
       "      <td>94404</td>\n",
       "      <td>522320.0</td>\n",
       "      <td>Bachelor's</td>\n",
       "      <td>60.0</td>\n",
       "      <td>Public Relations and Fundraising Managers</td>\n",
       "      <td>132932.8</td>\n",
       "    </tr>\n",
       "    <tr>\n",
       "      <th>1</th>\n",
       "      <td>P-100-11167-913333</td>\n",
       "      <td>2011-10-26</td>\n",
       "      <td>Virginia Beach</td>\n",
       "      <td>VIRGINIA</td>\n",
       "      <td>23464</td>\n",
       "      <td>611310.0</td>\n",
       "      <td>Master's</td>\n",
       "      <td>NaN</td>\n",
       "      <td>Public Relations and Fundraising Managers</td>\n",
       "      <td>76232.0</td>\n",
       "    </tr>\n",
       "    <tr>\n",
       "      <th>2</th>\n",
       "      <td>P-100-11173-199106</td>\n",
       "      <td>2011-12-16</td>\n",
       "      <td>PLEASANTON</td>\n",
       "      <td>CALIFORNIA</td>\n",
       "      <td>94588</td>\n",
       "      <td>541519.0</td>\n",
       "      <td>Master's</td>\n",
       "      <td>36.0</td>\n",
       "      <td>Public Relations and Fundraising Managers</td>\n",
       "      <td>103896.0</td>\n",
       "    </tr>\n",
       "    <tr>\n",
       "      <th>3</th>\n",
       "      <td>P-100-11178-104540</td>\n",
       "      <td>2011-10-12</td>\n",
       "      <td>SAN FRANCISCO</td>\n",
       "      <td>CALIFORNIA</td>\n",
       "      <td>94104</td>\n",
       "      <td>522110.0</td>\n",
       "      <td>Bachelor's</td>\n",
       "      <td>60.0</td>\n",
       "      <td>Public Relations and Fundraising Managers</td>\n",
       "      <td>137550.4</td>\n",
       "    </tr>\n",
       "    <tr>\n",
       "      <th>4</th>\n",
       "      <td>P-100-11178-932337</td>\n",
       "      <td>2011-10-03</td>\n",
       "      <td>WASHINGTON</td>\n",
       "      <td>DISTRICT OF COLUMBIA</td>\n",
       "      <td>20004</td>\n",
       "      <td>541720.0</td>\n",
       "      <td>Master's</td>\n",
       "      <td>48.0</td>\n",
       "      <td>Public Relations and Fundraising Managers</td>\n",
       "      <td>118851.2</td>\n",
       "    </tr>\n",
       "  </tbody>\n",
       "</table>\n",
       "</div>"
      ],
      "text/plain": [
       "          CASE_NUMBER PW_DETERMINATION_DATE   EMPLOYER_CITY  \\\n",
       "0  P-100-11165-161436            2011-10-05     FOSTER CITY   \n",
       "1  P-100-11167-913333            2011-10-26  Virginia Beach   \n",
       "2  P-100-11173-199106            2011-12-16      PLEASANTON   \n",
       "3  P-100-11178-104540            2011-10-12   SAN FRANCISCO   \n",
       "4  P-100-11178-932337            2011-10-03      WASHINGTON   \n",
       "\n",
       "         EMPLOYER_STATE EMPLOYER_POSTAL_CODE  NAIC_US_CODE  \\\n",
       "0            CALIFORNIA                94404      522320.0   \n",
       "1              VIRGINIA                23464      611310.0   \n",
       "2            CALIFORNIA                94588      541519.0   \n",
       "3            CALIFORNIA                94104      522110.0   \n",
       "4  DISTRICT OF COLUMBIA                20004      541720.0   \n",
       "\n",
       "  PRIMARY_EDUCATION_LEVEL  EMP_EXPERIENCE_MONTHS  \\\n",
       "0              Bachelor's                   60.0   \n",
       "1                Master's                    NaN   \n",
       "2                Master's                   36.0   \n",
       "3              Bachelor's                   60.0   \n",
       "4                Master's                   48.0   \n",
       "\n",
       "                          PWD_SOC_CODE_TITLE  PWD_WAGE_RATE  \n",
       "0  Public Relations and Fundraising Managers       132932.8  \n",
       "1  Public Relations and Fundraising Managers        76232.0  \n",
       "2  Public Relations and Fundraising Managers       103896.0  \n",
       "3  Public Relations and Fundraising Managers       137550.4  \n",
       "4  Public Relations and Fundraising Managers       118851.2  "
      ]
     },
     "execution_count": 41,
     "metadata": {},
     "output_type": "execute_result"
    }
   ],
   "source": [
    "col_2012 = ['CASE_NUMBER', 'PW_DETERMINATION_DATE', 'EMPLOYER_CITY', 'EMPLOYER_STATE', 'EMPLOYER_POSTAL_CODE', \n",
    "            'NAIC_US_CODE', 'PRIMARY_EDUCATION_LEVEL', 'EMP_EXPERIENCE_MONTHS',\n",
    "            'PWD_SOC_CODE_TITLE', 'PWD_WAGE_RATE']\n",
    "df_2012 = df_2012[col_2012]\n",
    "df_2012.head()"
   ]
  },
  {
   "cell_type": "markdown",
   "id": "67b6d565",
   "metadata": {},
   "source": [
    "### 2013"
   ]
  },
  {
   "cell_type": "code",
   "execution_count": 42,
   "id": "2e51a3a5",
   "metadata": {},
   "outputs": [
    {
     "data": {
      "text/plain": [
       "Index(['CASE_NUMBER', 'PW_DETERM_DATE', 'PW_REDETERMINATION_DATE',\n",
       "       'PW_WITHDRAWAL_DATE', 'CASE_STATUS', 'VISA_CLASS',\n",
       "       'EMPLOYER_LEGAL_BUSINESS_NAME', 'EMPLOYER_TRADE_DBA_NAME',\n",
       "       'EMPLOYER_ADDFRESS_1', 'EMPLOYER_ADDRESS_2', 'EMPLOYER_CITY',\n",
       "       'EMPLOYER_STATE', 'EMPLOYER_POSTAL_CODE', 'NAICS_CODE', 'PW_JOB_TITLE',\n",
       "       'SUPERVISE_OTHER_EMP', 'TRAVEL_REQD', 'PRIMARY_EDUCATION_LEVEL',\n",
       "       'TRAINING_REQ', 'EMP_EXPERIENCE_MONTHS', 'PRIMARY_WORKSITE_CITY',\n",
       "       'PRIMARY_WORKSITE_STATE', 'PRIMARY_WORKSITE_POSTAL_CODE',\n",
       "       'PWD_SOC_CODE', 'PWD_SOC_TITLE', 'PWD_WAGE_RATE', 'PWD_WAGE_LEVEL',\n",
       "       'PWD_UNIT_OF_PAY', 'PWD_WAGE_SOURCE', 'PWD_WAGE_EXPIRATION_DATE'],\n",
       "      dtype='object')"
      ]
     },
     "execution_count": 42,
     "metadata": {},
     "output_type": "execute_result"
    }
   ],
   "source": [
    "df_2013.columns"
   ]
  },
  {
   "cell_type": "code",
   "execution_count": 43,
   "id": "afcc6e4c",
   "metadata": {},
   "outputs": [
    {
     "data": {
      "text/html": [
       "<div>\n",
       "<style scoped>\n",
       "    .dataframe tbody tr th:only-of-type {\n",
       "        vertical-align: middle;\n",
       "    }\n",
       "\n",
       "    .dataframe tbody tr th {\n",
       "        vertical-align: top;\n",
       "    }\n",
       "\n",
       "    .dataframe thead th {\n",
       "        text-align: right;\n",
       "    }\n",
       "</style>\n",
       "<table border=\"1\" class=\"dataframe\">\n",
       "  <thead>\n",
       "    <tr style=\"text-align: right;\">\n",
       "      <th></th>\n",
       "      <th>CASE_NUMBER</th>\n",
       "      <th>PW_DETERM_DATE</th>\n",
       "      <th>EMPLOYER_CITY</th>\n",
       "      <th>EMPLOYER_STATE</th>\n",
       "      <th>EMPLOYER_POSTAL_CODE</th>\n",
       "      <th>NAICS_CODE</th>\n",
       "      <th>PRIMARY_EDUCATION_LEVEL</th>\n",
       "      <th>EMP_EXPERIENCE_MONTHS</th>\n",
       "      <th>PWD_SOC_TITLE</th>\n",
       "      <th>PWD_WAGE_RATE</th>\n",
       "    </tr>\n",
       "  </thead>\n",
       "  <tbody>\n",
       "    <tr>\n",
       "      <th>0</th>\n",
       "      <td>P-100-12223-130698</td>\n",
       "      <td>2012-10-01 09:49:42</td>\n",
       "      <td>CHARLOTTE</td>\n",
       "      <td>NORTH CAROLINA</td>\n",
       "      <td>28203</td>\n",
       "      <td>541210.0</td>\n",
       "      <td>Bachelor's</td>\n",
       "      <td>24.0</td>\n",
       "      <td>Accountants and Auditors</td>\n",
       "      <td>65915.0</td>\n",
       "    </tr>\n",
       "    <tr>\n",
       "      <th>1</th>\n",
       "      <td>P-100-12223-949389</td>\n",
       "      <td>2012-10-01 09:50:57</td>\n",
       "      <td>HOUSTON</td>\n",
       "      <td>TEXAS</td>\n",
       "      <td>77079</td>\n",
       "      <td>541330.0</td>\n",
       "      <td>Master's</td>\n",
       "      <td>36.0</td>\n",
       "      <td>Electrical Engineers</td>\n",
       "      <td>91146.0</td>\n",
       "    </tr>\n",
       "    <tr>\n",
       "      <th>2</th>\n",
       "      <td>P-100-12223-500370</td>\n",
       "      <td>2012-10-01 09:53:00</td>\n",
       "      <td>Itasca</td>\n",
       "      <td>ILLINOIS</td>\n",
       "      <td>60143</td>\n",
       "      <td>541511.0</td>\n",
       "      <td>Bachelor's</td>\n",
       "      <td>60.0</td>\n",
       "      <td>Software Developers, Applications</td>\n",
       "      <td>111072.0</td>\n",
       "    </tr>\n",
       "    <tr>\n",
       "      <th>3</th>\n",
       "      <td>P-100-12223-369146</td>\n",
       "      <td>2012-10-01 09:55:34</td>\n",
       "      <td>Elko</td>\n",
       "      <td>NEVADA</td>\n",
       "      <td>89801</td>\n",
       "      <td>212221.0</td>\n",
       "      <td>Bachelor's</td>\n",
       "      <td>96.0</td>\n",
       "      <td>Architectural and Engineering Managers</td>\n",
       "      <td>110115.0</td>\n",
       "    </tr>\n",
       "    <tr>\n",
       "      <th>4</th>\n",
       "      <td>P-100-12223-542884</td>\n",
       "      <td>2012-10-01 09:56:05</td>\n",
       "      <td>WESTON</td>\n",
       "      <td>FLORIDA</td>\n",
       "      <td>33331</td>\n",
       "      <td>541511.0</td>\n",
       "      <td>Bachelor's</td>\n",
       "      <td>60.0</td>\n",
       "      <td>Computer and Information Research Scientists</td>\n",
       "      <td>98342.0</td>\n",
       "    </tr>\n",
       "  </tbody>\n",
       "</table>\n",
       "</div>"
      ],
      "text/plain": [
       "          CASE_NUMBER      PW_DETERM_DATE EMPLOYER_CITY  EMPLOYER_STATE  \\\n",
       "0  P-100-12223-130698 2012-10-01 09:49:42     CHARLOTTE  NORTH CAROLINA   \n",
       "1  P-100-12223-949389 2012-10-01 09:50:57       HOUSTON           TEXAS   \n",
       "2  P-100-12223-500370 2012-10-01 09:53:00        Itasca        ILLINOIS   \n",
       "3  P-100-12223-369146 2012-10-01 09:55:34          Elko          NEVADA   \n",
       "4  P-100-12223-542884 2012-10-01 09:56:05        WESTON         FLORIDA   \n",
       "\n",
       "  EMPLOYER_POSTAL_CODE  NAICS_CODE PRIMARY_EDUCATION_LEVEL  \\\n",
       "0                28203    541210.0              Bachelor's   \n",
       "1                77079    541330.0                Master's   \n",
       "2                60143    541511.0              Bachelor's   \n",
       "3                89801    212221.0              Bachelor's   \n",
       "4                33331    541511.0              Bachelor's   \n",
       "\n",
       "   EMP_EXPERIENCE_MONTHS                                 PWD_SOC_TITLE  \\\n",
       "0                   24.0                      Accountants and Auditors   \n",
       "1                   36.0                          Electrical Engineers   \n",
       "2                   60.0             Software Developers, Applications   \n",
       "3                   96.0        Architectural and Engineering Managers   \n",
       "4                   60.0  Computer and Information Research Scientists   \n",
       "\n",
       "   PWD_WAGE_RATE  \n",
       "0        65915.0  \n",
       "1        91146.0  \n",
       "2       111072.0  \n",
       "3       110115.0  \n",
       "4        98342.0  "
      ]
     },
     "execution_count": 43,
     "metadata": {},
     "output_type": "execute_result"
    }
   ],
   "source": [
    "col_2013 = ['CASE_NUMBER', 'PW_DETERM_DATE', 'EMPLOYER_CITY', 'EMPLOYER_STATE', 'EMPLOYER_POSTAL_CODE', \n",
    "            'NAICS_CODE', 'PRIMARY_EDUCATION_LEVEL', 'EMP_EXPERIENCE_MONTHS',\n",
    "            'PWD_SOC_TITLE', 'PWD_WAGE_RATE']\n",
    "df_2013 = df_2013[col_2013]\n",
    "df_2013.head()"
   ]
  },
  {
   "cell_type": "markdown",
   "id": "609326b5",
   "metadata": {},
   "source": [
    "### 2014"
   ]
  },
  {
   "cell_type": "code",
   "execution_count": 44,
   "id": "a2b51e8d",
   "metadata": {},
   "outputs": [
    {
     "data": {
      "text/plain": [
       "Index(['CASE_NUMBER', 'PW_DETERMINATION_DATE', 'PW_REDETERMINATION_DATE',\n",
       "       'PW_WITHDRAWAL_DATE', 'CASE_STATUS', 'VISA_CLASS',\n",
       "       'EMPLOYER_LEGAL_BUSINESS_NAME', 'EMPLOYER_TRADE_DBA_NAME',\n",
       "       'EMPLOYER ADDRESS 1', 'EMPLOYER ADDRESS 2', 'EMPLOYER CITY',\n",
       "       'EMPLOYER_WORKSITE_COUNTY', 'EMPLOYER STATE', 'EMPLOYER POSTAL CODE',\n",
       "       'NAICS_US_CODE', 'PW_JOB_TITLE', 'SUPERVISE_OTHER_EMP',\n",
       "       'TRAVEL_REQUIRED', 'PRIMARY_EDUCATION_LEVEL', 'TRAINING_REQUIRED',\n",
       "       'EMP_EXPERIENCE_REQUIRED', 'EMP_EXPERIENCE_MONTHS',\n",
       "       'PRIMARY_WORKSITE_CITY', 'PRIMARY_WORKSITE_COUNTY',\n",
       "       'PRIMARY_WORKSITE_STATE', 'PRIMARY_WORKSITE_POSTAL_CODE',\n",
       "       'PWD_SOC_CODE', 'PWD_SOC_TITLE', 'PWD_WAGE_RATE', 'PWD_WAGE_LEVEL',\n",
       "       'PWD_UNIT_OF_PAY', 'PWD_WAGE_SOURCE', 'PWD_WAGE_EXPIRATION_DATE'],\n",
       "      dtype='object')"
      ]
     },
     "execution_count": 44,
     "metadata": {},
     "output_type": "execute_result"
    }
   ],
   "source": [
    "df_2014.columns"
   ]
  },
  {
   "cell_type": "code",
   "execution_count": 45,
   "id": "c014ac1f",
   "metadata": {},
   "outputs": [
    {
     "data": {
      "text/html": [
       "<div>\n",
       "<style scoped>\n",
       "    .dataframe tbody tr th:only-of-type {\n",
       "        vertical-align: middle;\n",
       "    }\n",
       "\n",
       "    .dataframe tbody tr th {\n",
       "        vertical-align: top;\n",
       "    }\n",
       "\n",
       "    .dataframe thead th {\n",
       "        text-align: right;\n",
       "    }\n",
       "</style>\n",
       "<table border=\"1\" class=\"dataframe\">\n",
       "  <thead>\n",
       "    <tr style=\"text-align: right;\">\n",
       "      <th></th>\n",
       "      <th>CASE_NUMBER</th>\n",
       "      <th>PW_DETERMINATION_DATE</th>\n",
       "      <th>EMPLOYER CITY</th>\n",
       "      <th>EMPLOYER STATE</th>\n",
       "      <th>EMPLOYER POSTAL CODE</th>\n",
       "      <th>NAICS_US_CODE</th>\n",
       "      <th>PRIMARY_EDUCATION_LEVEL</th>\n",
       "      <th>EMP_EXPERIENCE_MONTHS</th>\n",
       "      <th>PWD_SOC_TITLE</th>\n",
       "      <th>PWD_WAGE_RATE</th>\n",
       "    </tr>\n",
       "  </thead>\n",
       "  <tbody>\n",
       "    <tr>\n",
       "      <th>0</th>\n",
       "      <td>P-200-14058-667562</td>\n",
       "      <td>2014-04-17 12:42:45</td>\n",
       "      <td>MAYAGUEZ</td>\n",
       "      <td>PUERTO RICO</td>\n",
       "      <td>681</td>\n",
       "      <td>611310.0</td>\n",
       "      <td>Doctorate (PhD)</td>\n",
       "      <td>12.0</td>\n",
       "      <td>Computer Science Teachers, Postsecondary</td>\n",
       "      <td>24950.0</td>\n",
       "    </tr>\n",
       "    <tr>\n",
       "      <th>1</th>\n",
       "      <td>P-200-14098-291112</td>\n",
       "      <td>2014-05-20 08:34:37</td>\n",
       "      <td>MAYAGUEZ</td>\n",
       "      <td>PUERTO RICO</td>\n",
       "      <td>681</td>\n",
       "      <td>611310.0</td>\n",
       "      <td>Doctorate (PhD)</td>\n",
       "      <td>NaN</td>\n",
       "      <td>Art, Drama, and Music Teachers, Postsecondary</td>\n",
       "      <td>32123.0</td>\n",
       "    </tr>\n",
       "    <tr>\n",
       "      <th>2</th>\n",
       "      <td>P-200-14142-252007</td>\n",
       "      <td>2014-07-01 10:14:54</td>\n",
       "      <td>MAYAGUEZ</td>\n",
       "      <td>PUERTO RICO</td>\n",
       "      <td>681</td>\n",
       "      <td>611310.0</td>\n",
       "      <td>Doctorate (PhD)</td>\n",
       "      <td>NaN</td>\n",
       "      <td>Biological Science Teachers, Postsecondary</td>\n",
       "      <td>46860.0</td>\n",
       "    </tr>\n",
       "    <tr>\n",
       "      <th>3</th>\n",
       "      <td>P-100-13259-424616</td>\n",
       "      <td>2013-11-21 09:41:24</td>\n",
       "      <td>SUNRISE</td>\n",
       "      <td>FLORIDA</td>\n",
       "      <td>33323</td>\n",
       "      <td>561310.0</td>\n",
       "      <td>Master's</td>\n",
       "      <td>NaN</td>\n",
       "      <td>Physical Therapists</td>\n",
       "      <td>72738.0</td>\n",
       "    </tr>\n",
       "    <tr>\n",
       "      <th>4</th>\n",
       "      <td>P-100-13259-585413</td>\n",
       "      <td>2013-11-21 09:12:38</td>\n",
       "      <td>SUNRISE</td>\n",
       "      <td>FLORIDA</td>\n",
       "      <td>33323</td>\n",
       "      <td>561310.0</td>\n",
       "      <td>Master's</td>\n",
       "      <td>NaN</td>\n",
       "      <td>Physical Therapists</td>\n",
       "      <td>72738.0</td>\n",
       "    </tr>\n",
       "  </tbody>\n",
       "</table>\n",
       "</div>"
      ],
      "text/plain": [
       "          CASE_NUMBER PW_DETERMINATION_DATE EMPLOYER CITY EMPLOYER STATE  \\\n",
       "0  P-200-14058-667562   2014-04-17 12:42:45      MAYAGUEZ    PUERTO RICO   \n",
       "1  P-200-14098-291112   2014-05-20 08:34:37      MAYAGUEZ    PUERTO RICO   \n",
       "2  P-200-14142-252007   2014-07-01 10:14:54      MAYAGUEZ    PUERTO RICO   \n",
       "3  P-100-13259-424616   2013-11-21 09:41:24       SUNRISE        FLORIDA   \n",
       "4  P-100-13259-585413   2013-11-21 09:12:38       SUNRISE        FLORIDA   \n",
       "\n",
       "  EMPLOYER POSTAL CODE  NAICS_US_CODE PRIMARY_EDUCATION_LEVEL  \\\n",
       "0                  681       611310.0         Doctorate (PhD)   \n",
       "1                  681       611310.0         Doctorate (PhD)   \n",
       "2                  681       611310.0         Doctorate (PhD)   \n",
       "3                33323       561310.0                Master's   \n",
       "4                33323       561310.0                Master's   \n",
       "\n",
       "   EMP_EXPERIENCE_MONTHS                                  PWD_SOC_TITLE  \\\n",
       "0                   12.0       Computer Science Teachers, Postsecondary   \n",
       "1                    NaN  Art, Drama, and Music Teachers, Postsecondary   \n",
       "2                    NaN     Biological Science Teachers, Postsecondary   \n",
       "3                    NaN                            Physical Therapists   \n",
       "4                    NaN                            Physical Therapists   \n",
       "\n",
       "   PWD_WAGE_RATE  \n",
       "0        24950.0  \n",
       "1        32123.0  \n",
       "2        46860.0  \n",
       "3        72738.0  \n",
       "4        72738.0  "
      ]
     },
     "execution_count": 45,
     "metadata": {},
     "output_type": "execute_result"
    }
   ],
   "source": [
    "col_2014 = ['CASE_NUMBER', 'PW_DETERMINATION_DATE', 'EMPLOYER CITY', 'EMPLOYER STATE', 'EMPLOYER POSTAL CODE', \n",
    "            'NAICS_US_CODE', 'PRIMARY_EDUCATION_LEVEL', 'EMP_EXPERIENCE_MONTHS',\n",
    "            'PWD_SOC_TITLE', 'PWD_WAGE_RATE']\n",
    "df_2014 = df_2014[col_2014]\n",
    "df_2014.head()"
   ]
  },
  {
   "cell_type": "markdown",
   "id": "110ed714",
   "metadata": {},
   "source": [
    "### 2015"
   ]
  },
  {
   "cell_type": "code",
   "execution_count": 46,
   "id": "a33baf23",
   "metadata": {},
   "outputs": [
    {
     "data": {
      "text/plain": [
       "Index(['CASE_NUMBER', 'STATUS', 'SUBMIT_DATE', 'CASE_ASSIGNED_TO_ANALYST',\n",
       "       'CASE_SENT_TO_CO_FOR_APPROVAL', 'DETERMINATION_ISSUED',\n",
       "       'DATE_REDETERMINATION_RECEIVED', 'DATE_REDETERMINATION_ISSUED',\n",
       "       'WITHDRAWAL_DATE', 'VOIDED_DATE', 'VISA_CLASS', 'BUSINESS_NAME',\n",
       "       'TRADE_NAME', 'EMPLOYER ADDRESS 1', 'EMPLOYER ADDRESS 2',\n",
       "       'EMPLOYER CITY', 'EMPLOYER STATE', 'EMPLOYER POSTAL CODE',\n",
       "       'EMPLOYER COUNTRY', 'EMPLOYER PROVINCE', 'EMPLOYER PHONE',\n",
       "       'EMPLOYER EXTENSION', 'EIN', 'NAIC_ID', 'JOB_TITLE',\n",
       "       'SUGGESTED SOC CODE', 'SUGGESTED SOC TITLE', 'WORK_HOUR_NUM_BASIC',\n",
       "       'WORK_HOUR_NUM_OVERTIME', 'SUPERVISOR_JOB_TITLE', 'SUPERVISE_OTHER_EMP',\n",
       "       'SUPERVISE_HOW_MANY', 'SUPERVISE_LEVEL', 'TRAVEL_REQD',\n",
       "       'EDUCATION_LEVEL', 'OTHER_EDU', 'MAJOR', 'SECOND_DIPLOMA',\n",
       "       'SECOND_DIPLOMA_MAJOR', 'TRAINING_REQ', 'NUM_MONTHS_TRAINING',\n",
       "       'NAME_REQD_TRAINING', 'EMP_EXPERIENCE_REQD', 'EMP_EXP_NUM_MONTHS',\n",
       "       'OCCUPATION_REQ', 'WORKSITE_ADDRESS_1', 'WORKSITE_ADDRESS_2',\n",
       "       'WORKSITE_CITY', 'WORKSITE_COUNTY', 'WORKSITE_STATE', 'WORKSITE_ZIP',\n",
       "       'OTHER_WORKSITE_LOCATION', 'WORKSITE_COUNTS', 'PW_TRACKING_NUMBER',\n",
       "       'DATE_REQUEST_RECIEVED', 'SOC_CODE', 'SOC_CODE_NAME', 'PREVAIL_WAGE',\n",
       "       'PAY_RANGE_DESC', 'WAGE_LEVEL', 'REQUESTED_WAGE_SOURCE',\n",
       "       'PREVAILING_WAGE_SOURCE', 'PREVAIL_WAGE_DETERM_DATE',\n",
       "       'PREVAIL_WAGE_EXPIRE_DATE', 'CONTACT LAST NAME', 'CONTACT FIRST NAME',\n",
       "       'CONTACT MIDDLE NAME', 'CONTACT JOB TITLE', 'CONTACT ADDRESS 1',\n",
       "       'CONTACT ADDRESS 2', 'CONTACT CITY', 'CONTACT STATE',\n",
       "       'CONTACT POSTAL CODE', 'CONTACT COUNTRY', 'CONTACT PROVINCE',\n",
       "       'CONTACT PHONE', 'CONTACT EXTENSION', 'CONTACT FAX', 'CONTACT EMAIL',\n",
       "       'REQUEST_ACWIA', 'REQUEST_CBA', 'REQUEST_DBA_SCA', 'TYPE_DBA_SCA',\n",
       "       'REQUEST_SURVEY', 'SURVEY_NAME', 'SURVEY_PUBLICATION_DATE'],\n",
       "      dtype='object')"
      ]
     },
     "execution_count": 46,
     "metadata": {},
     "output_type": "execute_result"
    }
   ],
   "source": [
    "df_2015.columns"
   ]
  },
  {
   "cell_type": "code",
   "execution_count": 47,
   "id": "51797081",
   "metadata": {},
   "outputs": [
    {
     "data": {
      "text/html": [
       "<div>\n",
       "<style scoped>\n",
       "    .dataframe tbody tr th:only-of-type {\n",
       "        vertical-align: middle;\n",
       "    }\n",
       "\n",
       "    .dataframe tbody tr th {\n",
       "        vertical-align: top;\n",
       "    }\n",
       "\n",
       "    .dataframe thead th {\n",
       "        text-align: right;\n",
       "    }\n",
       "</style>\n",
       "<table border=\"1\" class=\"dataframe\">\n",
       "  <thead>\n",
       "    <tr style=\"text-align: right;\">\n",
       "      <th></th>\n",
       "      <th>CASE_NUMBER</th>\n",
       "      <th>DETERMINATION_ISSUED</th>\n",
       "      <th>EMPLOYER CITY</th>\n",
       "      <th>EMPLOYER STATE</th>\n",
       "      <th>EMPLOYER POSTAL CODE</th>\n",
       "      <th>NAIC_ID</th>\n",
       "      <th>EDUCATION_LEVEL</th>\n",
       "      <th>EMP_EXP_NUM_MONTHS</th>\n",
       "      <th>SOC_CODE_NAME</th>\n",
       "      <th>PREVAIL_WAGE</th>\n",
       "    </tr>\n",
       "  </thead>\n",
       "  <tbody>\n",
       "    <tr>\n",
       "      <th>0</th>\n",
       "      <td>P-100-14211-856774</td>\n",
       "      <td>2014-10-01 16:24:33</td>\n",
       "      <td>NEW YORK</td>\n",
       "      <td>NEW YORK</td>\n",
       "      <td>10282</td>\n",
       "      <td>523110.0</td>\n",
       "      <td>Bachelor's</td>\n",
       "      <td>72.0</td>\n",
       "      <td>Financial Managers</td>\n",
       "      <td>220813.0</td>\n",
       "    </tr>\n",
       "    <tr>\n",
       "      <th>1</th>\n",
       "      <td>P-100-14219-887596</td>\n",
       "      <td>2014-10-01 11:33:07</td>\n",
       "      <td>Green Bay</td>\n",
       "      <td>WISCONSIN</td>\n",
       "      <td>54301</td>\n",
       "      <td>311513.0</td>\n",
       "      <td>Master's</td>\n",
       "      <td>12.0</td>\n",
       "      <td>Software Developers, Applications</td>\n",
       "      <td>73798.0</td>\n",
       "    </tr>\n",
       "    <tr>\n",
       "      <th>2</th>\n",
       "      <td>P-100-14219-970333</td>\n",
       "      <td>2014-10-01 11:07:44</td>\n",
       "      <td>Green Bay</td>\n",
       "      <td>WISCONSIN</td>\n",
       "      <td>54301</td>\n",
       "      <td>311513.0</td>\n",
       "      <td>Master's</td>\n",
       "      <td>24.0</td>\n",
       "      <td>Software Developers, Applications</td>\n",
       "      <td>73798.0</td>\n",
       "    </tr>\n",
       "    <tr>\n",
       "      <th>3</th>\n",
       "      <td>P-100-14219-186566</td>\n",
       "      <td>2014-10-01 11:25:16</td>\n",
       "      <td>Green Bay</td>\n",
       "      <td>WISCONSIN</td>\n",
       "      <td>54301</td>\n",
       "      <td>311513.0</td>\n",
       "      <td>Master's</td>\n",
       "      <td>6.0</td>\n",
       "      <td>Software Developers, Applications</td>\n",
       "      <td>73798.0</td>\n",
       "    </tr>\n",
       "    <tr>\n",
       "      <th>4</th>\n",
       "      <td>P-100-14219-981177</td>\n",
       "      <td>2014-10-01 10:18:03</td>\n",
       "      <td>Green Bay</td>\n",
       "      <td>WISCONSIN</td>\n",
       "      <td>54301</td>\n",
       "      <td>311513.0</td>\n",
       "      <td>Bachelor's</td>\n",
       "      <td>12.0</td>\n",
       "      <td>Software Developers, Applications</td>\n",
       "      <td>65395.0</td>\n",
       "    </tr>\n",
       "  </tbody>\n",
       "</table>\n",
       "</div>"
      ],
      "text/plain": [
       "          CASE_NUMBER DETERMINATION_ISSUED EMPLOYER CITY EMPLOYER STATE  \\\n",
       "0  P-100-14211-856774  2014-10-01 16:24:33      NEW YORK       NEW YORK   \n",
       "1  P-100-14219-887596  2014-10-01 11:33:07     Green Bay      WISCONSIN   \n",
       "2  P-100-14219-970333  2014-10-01 11:07:44     Green Bay      WISCONSIN   \n",
       "3  P-100-14219-186566  2014-10-01 11:25:16     Green Bay      WISCONSIN   \n",
       "4  P-100-14219-981177  2014-10-01 10:18:03     Green Bay      WISCONSIN   \n",
       "\n",
       "  EMPLOYER POSTAL CODE   NAIC_ID EDUCATION_LEVEL  EMP_EXP_NUM_MONTHS  \\\n",
       "0                10282  523110.0      Bachelor's                72.0   \n",
       "1                54301  311513.0        Master's                12.0   \n",
       "2                54301  311513.0        Master's                24.0   \n",
       "3                54301  311513.0        Master's                 6.0   \n",
       "4                54301  311513.0      Bachelor's                12.0   \n",
       "\n",
       "                       SOC_CODE_NAME  PREVAIL_WAGE  \n",
       "0                 Financial Managers      220813.0  \n",
       "1  Software Developers, Applications       73798.0  \n",
       "2  Software Developers, Applications       73798.0  \n",
       "3  Software Developers, Applications       73798.0  \n",
       "4  Software Developers, Applications       65395.0  "
      ]
     },
     "execution_count": 47,
     "metadata": {},
     "output_type": "execute_result"
    }
   ],
   "source": [
    "col_2015 = ['CASE_NUMBER', 'DETERMINATION_ISSUED', 'EMPLOYER CITY', 'EMPLOYER STATE', 'EMPLOYER POSTAL CODE', \n",
    "            'NAIC_ID', 'EDUCATION_LEVEL', 'EMP_EXP_NUM_MONTHS',\n",
    "            'SOC_CODE_NAME', 'PREVAIL_WAGE']\n",
    "df_2015 = df_2015[col_2015]\n",
    "df_2015.head()"
   ]
  },
  {
   "cell_type": "markdown",
   "id": "a7b76481",
   "metadata": {},
   "source": [
    "### 2016"
   ]
  },
  {
   "cell_type": "code",
   "execution_count": 48,
   "id": "b7a4c7f6",
   "metadata": {},
   "outputs": [
    {
     "data": {
      "text/plain": [
       "Index(['CASE_NUMBER', 'SUBMIT_DATE', 'DETERMINATION_DATE',\n",
       "       'REDETERMINATION_DATE', 'WITHDRAWAL_DATE', 'CASE_STATUS', 'VISA_CLASS',\n",
       "       'BUSINESS_NAME', 'TRADE_NAME', 'EMPLOYER_ADDRESS_1',\n",
       "       'EMPLOYER_ADDRESS_2', 'EMPLOYER_CITY', 'EMPLOYER_STATE',\n",
       "       'EMPLOYER_POSTAL_CODE', 'EMPLOYER_COUNTRY', 'EMPLOYER_PROVINCE',\n",
       "       'EMPLOYER_PHONE', 'EMPLOYER_EXTENSION', 'NAICS_CODE', 'JOB_TITLE',\n",
       "       'SUGGESTED_SOC_CODE', 'SUGGESTED_SOC_TITLE', 'WORK_HOUR_NUM_BASIC',\n",
       "       'WORK_HOUR_NUM_OVERTIME', 'SUPERVISOR_JOB_TITLE', 'SUPERVISE_OTHER_EMP',\n",
       "       'SUPERVISE_HOW_MANY', 'SUPERVISE_LEVEL', 'TRAVEL_REQUIRED',\n",
       "       'PRIMARY_EDUCATION_LEVEL', 'OTHER_EDUCATION', 'MAJOR', 'SECOND_DIPLOMA',\n",
       "       'SECOND_DIPLOMA_MAJOR', 'TRAINING_REQUIRED',\n",
       "       'NUMBER_OF_MONTHS_TRAINING', 'NAME_REQUIRED_TRAINING',\n",
       "       'EMP_EXPERIENCE_REQUIRED', 'EMP_EXPERIENCE_MONTHS',\n",
       "       'OCCUPATION_REQUIRED', 'PRIMARY_WORKSITE_CITY',\n",
       "       'PRIMARY_WORKSITE_COUNTY', 'PRIMARY_WORKSITE_STATE',\n",
       "       'PRIMARY_WORKSITE_POSTAL_CODE', 'OTHER_WORKSITE_LOCATION',\n",
       "       'WORKSITE_COUNTS', 'PWD_SOC_CODE', 'PWD_SOC_TITLE', 'PWD_WAGE_RATE',\n",
       "       'PWD_UNIT_OF_PAY', 'PWD_WAGE_LEVEL', 'REQUESTED_WAGE_SOURCE',\n",
       "       'PWD_WAGE_SOURCE', 'PWD_WAGE_EXPIRATION_DATE', 'SURVEY_NAME',\n",
       "       'SURVEY_PUBLICATION_DATE'],\n",
       "      dtype='object')"
      ]
     },
     "execution_count": 48,
     "metadata": {},
     "output_type": "execute_result"
    }
   ],
   "source": [
    "df_2016.columns"
   ]
  },
  {
   "cell_type": "code",
   "execution_count": 49,
   "id": "0d57ec39",
   "metadata": {},
   "outputs": [
    {
     "data": {
      "text/html": [
       "<div>\n",
       "<style scoped>\n",
       "    .dataframe tbody tr th:only-of-type {\n",
       "        vertical-align: middle;\n",
       "    }\n",
       "\n",
       "    .dataframe tbody tr th {\n",
       "        vertical-align: top;\n",
       "    }\n",
       "\n",
       "    .dataframe thead th {\n",
       "        text-align: right;\n",
       "    }\n",
       "</style>\n",
       "<table border=\"1\" class=\"dataframe\">\n",
       "  <thead>\n",
       "    <tr style=\"text-align: right;\">\n",
       "      <th></th>\n",
       "      <th>CASE_NUMBER</th>\n",
       "      <th>DETERMINATION_DATE</th>\n",
       "      <th>EMPLOYER_CITY</th>\n",
       "      <th>EMPLOYER_STATE</th>\n",
       "      <th>EMPLOYER_POSTAL_CODE</th>\n",
       "      <th>NAICS_CODE</th>\n",
       "      <th>PRIMARY_EDUCATION_LEVEL</th>\n",
       "      <th>EMP_EXPERIENCE_MONTHS</th>\n",
       "      <th>PWD_SOC_TITLE</th>\n",
       "      <th>PWD_WAGE_RATE</th>\n",
       "    </tr>\n",
       "  </thead>\n",
       "  <tbody>\n",
       "    <tr>\n",
       "      <th>0</th>\n",
       "      <td>P-000-16123-008346</td>\n",
       "      <td>2016-07-28 11:39:43</td>\n",
       "      <td>Dublin</td>\n",
       "      <td>OHIO</td>\n",
       "      <td>43017</td>\n",
       "      <td>541330.0</td>\n",
       "      <td>Bachelor's</td>\n",
       "      <td>60.0</td>\n",
       "      <td>Mechanical Engineers</td>\n",
       "      <td>91229.0</td>\n",
       "    </tr>\n",
       "    <tr>\n",
       "      <th>1</th>\n",
       "      <td>P-100-13169-119431</td>\n",
       "      <td>2016-06-02 06:58:10</td>\n",
       "      <td>MIAMI</td>\n",
       "      <td>FLORIDA</td>\n",
       "      <td>33126</td>\n",
       "      <td>3341.0</td>\n",
       "      <td>Bachelor's</td>\n",
       "      <td>24.0</td>\n",
       "      <td>Marketing Managers</td>\n",
       "      <td>96997.0</td>\n",
       "    </tr>\n",
       "    <tr>\n",
       "      <th>2</th>\n",
       "      <td>P-100-13169-315374</td>\n",
       "      <td>NaT</td>\n",
       "      <td>LAKELAND</td>\n",
       "      <td>FLORIDA</td>\n",
       "      <td>33805-4500</td>\n",
       "      <td>622110.0</td>\n",
       "      <td>Bachelor's</td>\n",
       "      <td>NaN</td>\n",
       "      <td>NaN</td>\n",
       "      <td>NaN</td>\n",
       "    </tr>\n",
       "    <tr>\n",
       "      <th>3</th>\n",
       "      <td>P-100-13169-460026</td>\n",
       "      <td>2015-11-30 09:17:20</td>\n",
       "      <td>LAGRANGE</td>\n",
       "      <td>ILLINOIS</td>\n",
       "      <td>60525</td>\n",
       "      <td>336510.0</td>\n",
       "      <td>Master's</td>\n",
       "      <td>6.0</td>\n",
       "      <td>Electrical Engineers</td>\n",
       "      <td>94848.0</td>\n",
       "    </tr>\n",
       "    <tr>\n",
       "      <th>4</th>\n",
       "      <td>P-100-13169-809489</td>\n",
       "      <td>2016-03-09 14:17:51</td>\n",
       "      <td>ALBUQUERQUE</td>\n",
       "      <td>NEW MEXICO</td>\n",
       "      <td>87109</td>\n",
       "      <td>722211.0</td>\n",
       "      <td>None</td>\n",
       "      <td>NaN</td>\n",
       "      <td>Cooks, Fast Food</td>\n",
       "      <td>17805.0</td>\n",
       "    </tr>\n",
       "  </tbody>\n",
       "</table>\n",
       "</div>"
      ],
      "text/plain": [
       "          CASE_NUMBER  DETERMINATION_DATE EMPLOYER_CITY EMPLOYER_STATE  \\\n",
       "0  P-000-16123-008346 2016-07-28 11:39:43        Dublin           OHIO   \n",
       "1  P-100-13169-119431 2016-06-02 06:58:10         MIAMI        FLORIDA   \n",
       "2  P-100-13169-315374                 NaT      LAKELAND        FLORIDA   \n",
       "3  P-100-13169-460026 2015-11-30 09:17:20      LAGRANGE       ILLINOIS   \n",
       "4  P-100-13169-809489 2016-03-09 14:17:51   ALBUQUERQUE     NEW MEXICO   \n",
       "\n",
       "  EMPLOYER_POSTAL_CODE  NAICS_CODE PRIMARY_EDUCATION_LEVEL  \\\n",
       "0                43017    541330.0              Bachelor's   \n",
       "1                33126      3341.0              Bachelor's   \n",
       "2           33805-4500    622110.0              Bachelor's   \n",
       "3                60525    336510.0                Master's   \n",
       "4                87109    722211.0                    None   \n",
       "\n",
       "   EMP_EXPERIENCE_MONTHS         PWD_SOC_TITLE  PWD_WAGE_RATE  \n",
       "0                   60.0  Mechanical Engineers        91229.0  \n",
       "1                   24.0    Marketing Managers        96997.0  \n",
       "2                    NaN                   NaN            NaN  \n",
       "3                    6.0  Electrical Engineers        94848.0  \n",
       "4                    NaN      Cooks, Fast Food        17805.0  "
      ]
     },
     "execution_count": 49,
     "metadata": {},
     "output_type": "execute_result"
    }
   ],
   "source": [
    "col_2016 = ['CASE_NUMBER', 'DETERMINATION_DATE', 'EMPLOYER_CITY', 'EMPLOYER_STATE', 'EMPLOYER_POSTAL_CODE', \n",
    "            'NAICS_CODE', 'PRIMARY_EDUCATION_LEVEL', 'EMP_EXPERIENCE_MONTHS',\n",
    "            'PWD_SOC_TITLE', 'PWD_WAGE_RATE']\n",
    "df_2016 = df_2016[col_2016]\n",
    "df_2016.head()"
   ]
  },
  {
   "cell_type": "code",
   "execution_count": null,
   "id": "a655d1d8",
   "metadata": {},
   "outputs": [],
   "source": []
  },
  {
   "cell_type": "markdown",
   "id": "dae7be03",
   "metadata": {},
   "source": [
    "### 2017"
   ]
  },
  {
   "cell_type": "code",
   "execution_count": 50,
   "id": "b7b684aa",
   "metadata": {},
   "outputs": [
    {
     "data": {
      "text/plain": [
       "Index(['CASE_NUMBER', 'SUBMIT_DATE', 'DETERMINATION_DATE',\n",
       "       'REDETERMINATION_DATE', 'CENTER_DIRECTOR_REVIEW_DATE',\n",
       "       'WITHDRAWAL_DATE', 'CASE_STATUS', 'VISA_CLASS', 'BUSINESS_NAME',\n",
       "       'TRADE_NAME', 'EMPLOYER_ADDRESS_1', 'EMPLOYER_ADDRESS_2',\n",
       "       'EMPLOYER_CITY', 'EMPLOYER_STATE', 'EMPLOYER_POSTAL_CODE',\n",
       "       'EMPLOYER_COUNTRY', 'EMPLOYER_PROVINCE', 'EMPLOYER_PHONE',\n",
       "       'EMPLOYER _EXTENSION', 'NAICS_CODE', 'JOB_TITLE', 'SUGGESTED_SOC_CODE',\n",
       "       'SUGGESTED_SOC_TITLE', 'WORK_HOUR_NUM_BASIC', 'WORK_HOUR_NUM_OVERTIME',\n",
       "       'SUPERVISOR_JOB_TITLE', 'SUPERVISE_OTHER_EMP', 'SUPERVISE_HOW_MANY',\n",
       "       'SUPERVISE_LEVEL', 'TRAVEL_REQUIRED', 'PRIMARY_EDUCATION_LEVEL',\n",
       "       'OTHER_EDUCATION', 'MAJOR', 'SECOND_DIPLOMA', 'SECOND_DIPLOMA_MAJOR',\n",
       "       'TRAINING_REQUIRED', 'NUMBER_OF_MONTHS_TRAINING',\n",
       "       'NAME_REQUIRED_TRAINING', 'EMP_EXPERIENCE_REQUIRED',\n",
       "       'EMP_EXPERIENCE_MONTHS', 'OCCUPATION_REQUIRED', 'PRIMARY_WORKSITE_CITY',\n",
       "       'PRIMARY_WORKSITE_COUNTY', 'PRIMARY_WORKSITE_STATE',\n",
       "       'PRIMARY_WORKSITE_POSTAL_CODE', 'OTHER_WORKSITE_LOCATION',\n",
       "       'WORKSITE_COUNTS', 'PWD_SOC_CODE', 'PWD_SOC_TITLE', 'PWD_WAGE_RATE',\n",
       "       'PWD_UNIT_OF_PAY', 'PWD_WAGE_LEVEL', 'REQUESTED_WAGE_SOURCE',\n",
       "       'PWD_WAGE_SOURCE', 'PWD_WAGE_EXPIRATION_DATE', 'SURVEY_NAME',\n",
       "       'SURVEY_PUBLICATION_DATE'],\n",
       "      dtype='object')"
      ]
     },
     "execution_count": 50,
     "metadata": {},
     "output_type": "execute_result"
    }
   ],
   "source": [
    "df_2017.columns"
   ]
  },
  {
   "cell_type": "code",
   "execution_count": 51,
   "id": "25e69a21",
   "metadata": {},
   "outputs": [
    {
     "data": {
      "text/html": [
       "<div>\n",
       "<style scoped>\n",
       "    .dataframe tbody tr th:only-of-type {\n",
       "        vertical-align: middle;\n",
       "    }\n",
       "\n",
       "    .dataframe tbody tr th {\n",
       "        vertical-align: top;\n",
       "    }\n",
       "\n",
       "    .dataframe thead th {\n",
       "        text-align: right;\n",
       "    }\n",
       "</style>\n",
       "<table border=\"1\" class=\"dataframe\">\n",
       "  <thead>\n",
       "    <tr style=\"text-align: right;\">\n",
       "      <th></th>\n",
       "      <th>CASE_NUMBER</th>\n",
       "      <th>DETERMINATION_DATE</th>\n",
       "      <th>EMPLOYER_CITY</th>\n",
       "      <th>EMPLOYER_STATE</th>\n",
       "      <th>EMPLOYER_POSTAL_CODE</th>\n",
       "      <th>NAICS_CODE</th>\n",
       "      <th>PRIMARY_EDUCATION_LEVEL</th>\n",
       "      <th>EMP_EXPERIENCE_MONTHS</th>\n",
       "      <th>PWD_SOC_TITLE</th>\n",
       "      <th>PWD_WAGE_RATE</th>\n",
       "    </tr>\n",
       "  </thead>\n",
       "  <tbody>\n",
       "    <tr>\n",
       "      <th>0</th>\n",
       "      <td>P-100-15296-269498</td>\n",
       "      <td>2016-01-14 06:59:44</td>\n",
       "      <td>Virginia Beach</td>\n",
       "      <td>VIRGINIA</td>\n",
       "      <td>23452</td>\n",
       "      <td>333991.0</td>\n",
       "      <td>Bachelor's</td>\n",
       "      <td>60.0</td>\n",
       "      <td>Purchasing Managers</td>\n",
       "      <td>128107.0</td>\n",
       "    </tr>\n",
       "    <tr>\n",
       "      <th>1</th>\n",
       "      <td>P-100-15364-152277</td>\n",
       "      <td>2016-03-11 15:44:10</td>\n",
       "      <td>NEW YORK</td>\n",
       "      <td>NEW YORK</td>\n",
       "      <td>10020</td>\n",
       "      <td>515111.0</td>\n",
       "      <td>Bachelor's</td>\n",
       "      <td>60.0</td>\n",
       "      <td>Computer Occupations, All Other</td>\n",
       "      <td>125861.0</td>\n",
       "    </tr>\n",
       "    <tr>\n",
       "      <th>2</th>\n",
       "      <td>P-100-15281-440683</td>\n",
       "      <td>2016-03-04 06:13:42</td>\n",
       "      <td>Washington, DC</td>\n",
       "      <td>DISTRICT OF COLUMBIA</td>\n",
       "      <td>20024</td>\n",
       "      <td>445120.0</td>\n",
       "      <td>High School/GED</td>\n",
       "      <td>12.0</td>\n",
       "      <td>First-Line Supervisors of Retail Sales Workers</td>\n",
       "      <td>55349.0</td>\n",
       "    </tr>\n",
       "    <tr>\n",
       "      <th>3</th>\n",
       "      <td>P-100-16019-532359</td>\n",
       "      <td>2016-03-28 18:31:47</td>\n",
       "      <td>Lorman</td>\n",
       "      <td>MISSISSIPPI</td>\n",
       "      <td>39096-7500</td>\n",
       "      <td>611310.0</td>\n",
       "      <td>Master's</td>\n",
       "      <td>NaN</td>\n",
       "      <td>Education Administrators, Postsecondary</td>\n",
       "      <td>53227.0</td>\n",
       "    </tr>\n",
       "    <tr>\n",
       "      <th>4</th>\n",
       "      <td>P-100-16008-390722</td>\n",
       "      <td>2016-03-16 19:33:30</td>\n",
       "      <td>ALEXANDRIA</td>\n",
       "      <td>VIRGINIA</td>\n",
       "      <td>22314</td>\n",
       "      <td>541110.0</td>\n",
       "      <td>Master's</td>\n",
       "      <td>NaN</td>\n",
       "      <td>Electrical Engineers</td>\n",
       "      <td>134368.0</td>\n",
       "    </tr>\n",
       "  </tbody>\n",
       "</table>\n",
       "</div>"
      ],
      "text/plain": [
       "          CASE_NUMBER  DETERMINATION_DATE   EMPLOYER_CITY  \\\n",
       "0  P-100-15296-269498 2016-01-14 06:59:44  Virginia Beach   \n",
       "1  P-100-15364-152277 2016-03-11 15:44:10        NEW YORK   \n",
       "2  P-100-15281-440683 2016-03-04 06:13:42  Washington, DC   \n",
       "3  P-100-16019-532359 2016-03-28 18:31:47          Lorman   \n",
       "4  P-100-16008-390722 2016-03-16 19:33:30      ALEXANDRIA   \n",
       "\n",
       "         EMPLOYER_STATE EMPLOYER_POSTAL_CODE  NAICS_CODE  \\\n",
       "0              VIRGINIA                23452    333991.0   \n",
       "1              NEW YORK                10020    515111.0   \n",
       "2  DISTRICT OF COLUMBIA                20024    445120.0   \n",
       "3           MISSISSIPPI           39096-7500    611310.0   \n",
       "4              VIRGINIA                22314    541110.0   \n",
       "\n",
       "  PRIMARY_EDUCATION_LEVEL  EMP_EXPERIENCE_MONTHS  \\\n",
       "0              Bachelor's                   60.0   \n",
       "1              Bachelor's                   60.0   \n",
       "2         High School/GED                   12.0   \n",
       "3                Master's                    NaN   \n",
       "4                Master's                    NaN   \n",
       "\n",
       "                                    PWD_SOC_TITLE  PWD_WAGE_RATE  \n",
       "0                             Purchasing Managers       128107.0  \n",
       "1                 Computer Occupations, All Other       125861.0  \n",
       "2  First-Line Supervisors of Retail Sales Workers        55349.0  \n",
       "3         Education Administrators, Postsecondary        53227.0  \n",
       "4                            Electrical Engineers       134368.0  "
      ]
     },
     "execution_count": 51,
     "metadata": {},
     "output_type": "execute_result"
    }
   ],
   "source": [
    "col_2017 = ['CASE_NUMBER', 'DETERMINATION_DATE', 'EMPLOYER_CITY', 'EMPLOYER_STATE', 'EMPLOYER_POSTAL_CODE', \n",
    "            'NAICS_CODE', 'PRIMARY_EDUCATION_LEVEL', 'EMP_EXPERIENCE_MONTHS',\n",
    "            'PWD_SOC_TITLE', 'PWD_WAGE_RATE']\n",
    "df_2017 = df_2017[col_2017]\n",
    "df_2017.head()"
   ]
  },
  {
   "cell_type": "markdown",
   "id": "5f093bc2",
   "metadata": {},
   "source": [
    "### 2018"
   ]
  },
  {
   "cell_type": "code",
   "execution_count": 52,
   "id": "d5b74b14",
   "metadata": {},
   "outputs": [
    {
     "data": {
      "text/plain": [
       "Index(['CASE_NUMBER', 'SUBMIT_DATE', 'DETERMINATION_DATE',\n",
       "       'REDTERMINATION_DATE', 'CENTER_DIRECTOR_REVIEW_DATE', 'WITHDRAWAL_DATE',\n",
       "       'CASE_STATUS', 'VISA_CLASS', 'BUSINESS_NAME', 'TRADE_NAME',\n",
       "       'EMPLOYER _ADDRESS_1', 'EMPLOYER_ ADDRESS _2', 'EMPLOYER _CITY',\n",
       "       'EMPLOYER _STATE', 'EMPLOYER_ POSTAL _CODE', 'EMPLOYER _COUNTRY',\n",
       "       'EMPLOYER _PROVINCE', 'EMPLOYER _PHONE', 'EMPLOYER_ EXTENSION',\n",
       "       'NAICS_CODE', 'JOB_TITLE', 'SUGGESTED _SOC_CODE', 'SUGGESTED_SOC_TITLE',\n",
       "       'WORK_HOUR_NUM_BASIC', 'WORK_HOUR_NUM_OVERTIME', 'SUPERVISOR_JOB_TITLE',\n",
       "       'SUPERVISE_OTHER_EMP', 'SUPERVISE_HOW_MANY', 'SUPERVISE_LEVEL',\n",
       "       'TRAVEL_REQUIRED', 'PRIMARY_EDUCATION_LEVEL', 'OTHER_EDUCATION',\n",
       "       'MAJOR', 'SECOND_DIPLOMA', 'SECOND_DIPLOMA_MAJOR', 'TRAINING_REQUIRED',\n",
       "       'NUMBER_OF_MONTHS_TRAINING', 'NAME_REQUIRED_TRAINING',\n",
       "       'EMP_EXPERIENCE_REQUIRED', 'EMP_EXPERIENCE_MONTHS',\n",
       "       'OCCUPATION_REQUIRED', 'PRIMARY_WORKSITE_CITY',\n",
       "       'PRIMARY_WORKSITE_COUNTY', 'PRIMARY_WORKSITE_STATE',\n",
       "       'PRIMARY_WORKSITE_POSTAL_CODE', 'OTHER_WORKSITE_LOCATION',\n",
       "       'WORKSITE_COUNTS', 'PWD_SOC_CODE', 'PWD_SOC_TITLE', 'PWD_WAGE_RATE',\n",
       "       'PWD_UNIT_OF_PAY', 'PWD_WAGE_LEVEL', 'REQUESTED_WAGE_SOURCE',\n",
       "       'PWD_WAGE_SOURCE', 'PWD_WAGE_EXPIRATION_DATE', 'SURVEY_NAME',\n",
       "       'SURVEY_PUBLICATION_DATE'],\n",
       "      dtype='object')"
      ]
     },
     "execution_count": 52,
     "metadata": {},
     "output_type": "execute_result"
    }
   ],
   "source": [
    "df_2018.columns"
   ]
  },
  {
   "cell_type": "code",
   "execution_count": 53,
   "id": "85f9defb",
   "metadata": {},
   "outputs": [
    {
     "data": {
      "text/html": [
       "<div>\n",
       "<style scoped>\n",
       "    .dataframe tbody tr th:only-of-type {\n",
       "        vertical-align: middle;\n",
       "    }\n",
       "\n",
       "    .dataframe tbody tr th {\n",
       "        vertical-align: top;\n",
       "    }\n",
       "\n",
       "    .dataframe thead th {\n",
       "        text-align: right;\n",
       "    }\n",
       "</style>\n",
       "<table border=\"1\" class=\"dataframe\">\n",
       "  <thead>\n",
       "    <tr style=\"text-align: right;\">\n",
       "      <th></th>\n",
       "      <th>CASE_NUMBER</th>\n",
       "      <th>DETERMINATION_DATE</th>\n",
       "      <th>EMPLOYER _CITY</th>\n",
       "      <th>EMPLOYER _STATE</th>\n",
       "      <th>EMPLOYER_ POSTAL _CODE</th>\n",
       "      <th>NAICS_CODE</th>\n",
       "      <th>PRIMARY_EDUCATION_LEVEL</th>\n",
       "      <th>EMP_EXPERIENCE_MONTHS</th>\n",
       "      <th>PWD_SOC_TITLE</th>\n",
       "      <th>PWD_WAGE_RATE</th>\n",
       "    </tr>\n",
       "  </thead>\n",
       "  <tbody>\n",
       "    <tr>\n",
       "      <th>0</th>\n",
       "      <td>P-100-13178-508271</td>\n",
       "      <td>2018-07-17 15:00:14</td>\n",
       "      <td>Santa Clara</td>\n",
       "      <td>CALIFORNIA</td>\n",
       "      <td>95051</td>\n",
       "      <td>334111.0</td>\n",
       "      <td>Master's</td>\n",
       "      <td>NaN</td>\n",
       "      <td>Electronics Engineers, Except Computer</td>\n",
       "      <td>110802.0</td>\n",
       "    </tr>\n",
       "    <tr>\n",
       "      <th>1</th>\n",
       "      <td>P-100-13179-438045</td>\n",
       "      <td>2018-03-29 09:24:47</td>\n",
       "      <td>Santa Clara</td>\n",
       "      <td>CALIFORNIA</td>\n",
       "      <td>95051</td>\n",
       "      <td>334111.0</td>\n",
       "      <td>Master's</td>\n",
       "      <td>72.0</td>\n",
       "      <td>Architectural and Engineering Managers</td>\n",
       "      <td>193877.0</td>\n",
       "    </tr>\n",
       "    <tr>\n",
       "      <th>2</th>\n",
       "      <td>P-100-13181-471917</td>\n",
       "      <td>2018-01-18 17:35:20</td>\n",
       "      <td>Somerset</td>\n",
       "      <td>NEW JERSEY</td>\n",
       "      <td>8873</td>\n",
       "      <td>541511.0</td>\n",
       "      <td>Master's</td>\n",
       "      <td>NaN</td>\n",
       "      <td>Computer Systems Analysts</td>\n",
       "      <td>82410.0</td>\n",
       "    </tr>\n",
       "    <tr>\n",
       "      <th>3</th>\n",
       "      <td>P-100-13191-184946</td>\n",
       "      <td>2018-08-22 18:01:55</td>\n",
       "      <td>SANTA CLARA</td>\n",
       "      <td>CALIFORNIA</td>\n",
       "      <td>95051</td>\n",
       "      <td>334111.0</td>\n",
       "      <td>Master's</td>\n",
       "      <td>96.0</td>\n",
       "      <td>Computer Occupations, All Other</td>\n",
       "      <td>122725.0</td>\n",
       "    </tr>\n",
       "    <tr>\n",
       "      <th>4</th>\n",
       "      <td>P-100-13197-383372</td>\n",
       "      <td>2018-07-25 12:03:22</td>\n",
       "      <td>SANTA CLARA</td>\n",
       "      <td>CALIFORNIA</td>\n",
       "      <td>95051</td>\n",
       "      <td>334111.0</td>\n",
       "      <td>Master's</td>\n",
       "      <td>36.0</td>\n",
       "      <td>Software Developers, Systems Software</td>\n",
       "      <td>146619.0</td>\n",
       "    </tr>\n",
       "  </tbody>\n",
       "</table>\n",
       "</div>"
      ],
      "text/plain": [
       "          CASE_NUMBER  DETERMINATION_DATE EMPLOYER _CITY EMPLOYER _STATE  \\\n",
       "0  P-100-13178-508271 2018-07-17 15:00:14    Santa Clara      CALIFORNIA   \n",
       "1  P-100-13179-438045 2018-03-29 09:24:47    Santa Clara      CALIFORNIA   \n",
       "2  P-100-13181-471917 2018-01-18 17:35:20       Somerset      NEW JERSEY   \n",
       "3  P-100-13191-184946 2018-08-22 18:01:55    SANTA CLARA      CALIFORNIA   \n",
       "4  P-100-13197-383372 2018-07-25 12:03:22    SANTA CLARA      CALIFORNIA   \n",
       "\n",
       "  EMPLOYER_ POSTAL _CODE  NAICS_CODE PRIMARY_EDUCATION_LEVEL  \\\n",
       "0                  95051    334111.0                Master's   \n",
       "1                  95051    334111.0                Master's   \n",
       "2                   8873    541511.0                Master's   \n",
       "3                  95051    334111.0                Master's   \n",
       "4                  95051    334111.0                Master's   \n",
       "\n",
       "   EMP_EXPERIENCE_MONTHS                           PWD_SOC_TITLE  \\\n",
       "0                    NaN  Electronics Engineers, Except Computer   \n",
       "1                   72.0  Architectural and Engineering Managers   \n",
       "2                    NaN               Computer Systems Analysts   \n",
       "3                   96.0         Computer Occupations, All Other   \n",
       "4                   36.0   Software Developers, Systems Software   \n",
       "\n",
       "   PWD_WAGE_RATE  \n",
       "0       110802.0  \n",
       "1       193877.0  \n",
       "2        82410.0  \n",
       "3       122725.0  \n",
       "4       146619.0  "
      ]
     },
     "execution_count": 53,
     "metadata": {},
     "output_type": "execute_result"
    }
   ],
   "source": [
    "col_2018 = ['CASE_NUMBER', 'DETERMINATION_DATE', 'EMPLOYER _CITY', 'EMPLOYER _STATE', 'EMPLOYER_ POSTAL _CODE', \n",
    "            'NAICS_CODE', 'PRIMARY_EDUCATION_LEVEL', 'EMP_EXPERIENCE_MONTHS',\n",
    "            'PWD_SOC_TITLE', 'PWD_WAGE_RATE']\n",
    "df_2018 = df_2018[col_2018]\n",
    "df_2018.head()"
   ]
  },
  {
   "cell_type": "markdown",
   "id": "56152ea4",
   "metadata": {},
   "source": [
    "### 2019"
   ]
  },
  {
   "cell_type": "code",
   "execution_count": 54,
   "id": "b41fc5ab",
   "metadata": {},
   "outputs": [
    {
     "data": {
      "text/plain": [
       "Index(['CASE_NUMBER', 'SUBMIT_DATE', 'DETERMINATION_DATE',\n",
       "       'REDETERMINATION_DATE', 'CENTER_DIRECTOR_REVIEW_DATE',\n",
       "       'WITHDRAWAL_DATE', 'CASE_STATUS', 'VISA_CLASS', 'BUSINESS_NAME',\n",
       "       'TRADE_NAME', 'EMPLOYER_ADDRESS_1', 'EMPLOYER_ADDRESS_2',\n",
       "       'EMPLOYER_CITY', 'EMPLOYER_STATE', 'EMPLOYER_POSTAL_CODE',\n",
       "       'EMPLOYER_COUNTRY', 'EMPLOYER_PROVINCE', 'EMPLOYER_PHONE',\n",
       "       'EMPLOYER_EXTENSION', 'NAICS_CODE', 'JOB_TITLE', 'SUGGESTED_SOC_CODE',\n",
       "       'SUGGESTED_SOC_TITLE', 'SUPERVISOR_JOB_TITLE', 'SUPERVISE_OTHER_EMP',\n",
       "       'SUPERVISE_HOW_MANY', 'SUPERVISE_LEVEL', 'TRAVEL_REQUIRED',\n",
       "       'PRIMARY_EDUCATION_LEVEL', 'OTHER_EDUCATION', 'MAJOR', 'SECOND_DIPLOMA',\n",
       "       'SECOND_DIPLOMA_MAJOR', 'TRAINING_REQUIRED',\n",
       "       'NUMBER_OF_MONTHS_TRAINING', 'NAME_REQUIRED_TRAINING',\n",
       "       'EMP_EXPERIENCE_REQUIRED', 'EMP_EXPERIENCE_MONTHS',\n",
       "       'OCCUPATION_REQUIRED', 'PRIMARY_WORKSITE_CITY',\n",
       "       'PRIMARY_WORKSITE_COUNTY', 'PRIMARY_WORKSITE_STATE',\n",
       "       'PRIMARY_WORKSITE_POSTAL_CODE', 'OTHER_WORKSITE_LOCATION',\n",
       "       'WORKSITE_COUNTS', 'PWD_SOC_CODE', 'PWD_SOC_TITLE', 'PWD_WAGE_RATE',\n",
       "       'PWD_UNIT_OF_PAY', 'PWD_WAGE_LEVEL', 'REQUESTED_WAGE_SOURCE',\n",
       "       'PWD_WAGE_SOURCE', 'PWD_WAGE_EXPIRATION_DATE', 'SURVEY_NAME',\n",
       "       'SURVEY_PUBLICATION_DATE'],\n",
       "      dtype='object')"
      ]
     },
     "execution_count": 54,
     "metadata": {},
     "output_type": "execute_result"
    }
   ],
   "source": [
    "df_2019.columns"
   ]
  },
  {
   "cell_type": "code",
   "execution_count": 55,
   "id": "75c824b1",
   "metadata": {},
   "outputs": [
    {
     "data": {
      "text/html": [
       "<div>\n",
       "<style scoped>\n",
       "    .dataframe tbody tr th:only-of-type {\n",
       "        vertical-align: middle;\n",
       "    }\n",
       "\n",
       "    .dataframe tbody tr th {\n",
       "        vertical-align: top;\n",
       "    }\n",
       "\n",
       "    .dataframe thead th {\n",
       "        text-align: right;\n",
       "    }\n",
       "</style>\n",
       "<table border=\"1\" class=\"dataframe\">\n",
       "  <thead>\n",
       "    <tr style=\"text-align: right;\">\n",
       "      <th></th>\n",
       "      <th>CASE_NUMBER</th>\n",
       "      <th>DETERMINATION_DATE</th>\n",
       "      <th>EMPLOYER_CITY</th>\n",
       "      <th>EMPLOYER_STATE</th>\n",
       "      <th>EMPLOYER_POSTAL_CODE</th>\n",
       "      <th>NAICS_CODE</th>\n",
       "      <th>PRIMARY_EDUCATION_LEVEL</th>\n",
       "      <th>EMP_EXPERIENCE_MONTHS</th>\n",
       "      <th>PWD_SOC_TITLE</th>\n",
       "      <th>PWD_WAGE_RATE</th>\n",
       "    </tr>\n",
       "  </thead>\n",
       "  <tbody>\n",
       "    <tr>\n",
       "      <th>0</th>\n",
       "      <td>P-100-13170-020952</td>\n",
       "      <td>2019-07-26</td>\n",
       "      <td>San Pedro</td>\n",
       "      <td>CALIFORNIA</td>\n",
       "      <td>90731</td>\n",
       "      <td>541511.0</td>\n",
       "      <td>Bachelor's</td>\n",
       "      <td>NaN</td>\n",
       "      <td>Software Developers, Systems Software</td>\n",
       "      <td>85550.0</td>\n",
       "    </tr>\n",
       "    <tr>\n",
       "      <th>1</th>\n",
       "      <td>P-100-13171-791719</td>\n",
       "      <td>2019-03-22</td>\n",
       "      <td>BRONX</td>\n",
       "      <td>NEW YORK</td>\n",
       "      <td>10457</td>\n",
       "      <td>621491.0</td>\n",
       "      <td>Other degree (JD, MD, etc.)</td>\n",
       "      <td>NaN</td>\n",
       "      <td>Internists, General</td>\n",
       "      <td>100734.0</td>\n",
       "    </tr>\n",
       "    <tr>\n",
       "      <th>2</th>\n",
       "      <td>P-100-13183-094888</td>\n",
       "      <td>2019-02-13</td>\n",
       "      <td>SANTA CLARA</td>\n",
       "      <td>CALIFORNIA</td>\n",
       "      <td>95051</td>\n",
       "      <td>334111.0</td>\n",
       "      <td>Master's</td>\n",
       "      <td>24.0</td>\n",
       "      <td>Computer Systems Analysts</td>\n",
       "      <td>110815.0</td>\n",
       "    </tr>\n",
       "    <tr>\n",
       "      <th>3</th>\n",
       "      <td>P-100-13183-678592</td>\n",
       "      <td>2019-03-05</td>\n",
       "      <td>SANTA CLARA</td>\n",
       "      <td>CALIFORNIA</td>\n",
       "      <td>95051</td>\n",
       "      <td>334111.0</td>\n",
       "      <td>Bachelor's</td>\n",
       "      <td>12.0</td>\n",
       "      <td>Software Developers, Systems Software</td>\n",
       "      <td>96325.0</td>\n",
       "    </tr>\n",
       "    <tr>\n",
       "      <th>4</th>\n",
       "      <td>P-100-13183-899843</td>\n",
       "      <td>2019-05-06</td>\n",
       "      <td>SANTA CLARA</td>\n",
       "      <td>CALIFORNIA</td>\n",
       "      <td>95051</td>\n",
       "      <td>334111.0</td>\n",
       "      <td>Doctorate (PhD)</td>\n",
       "      <td>24.0</td>\n",
       "      <td>Software Developers, Applications</td>\n",
       "      <td>132184.0</td>\n",
       "    </tr>\n",
       "  </tbody>\n",
       "</table>\n",
       "</div>"
      ],
      "text/plain": [
       "          CASE_NUMBER DETERMINATION_DATE EMPLOYER_CITY EMPLOYER_STATE  \\\n",
       "0  P-100-13170-020952         2019-07-26     San Pedro     CALIFORNIA   \n",
       "1  P-100-13171-791719         2019-03-22         BRONX       NEW YORK   \n",
       "2  P-100-13183-094888         2019-02-13   SANTA CLARA     CALIFORNIA   \n",
       "3  P-100-13183-678592         2019-03-05   SANTA CLARA     CALIFORNIA   \n",
       "4  P-100-13183-899843         2019-05-06   SANTA CLARA     CALIFORNIA   \n",
       "\n",
       "  EMPLOYER_POSTAL_CODE  NAICS_CODE      PRIMARY_EDUCATION_LEVEL  \\\n",
       "0                90731    541511.0                   Bachelor's   \n",
       "1                10457    621491.0  Other degree (JD, MD, etc.)   \n",
       "2                95051    334111.0                     Master's   \n",
       "3                95051    334111.0                   Bachelor's   \n",
       "4                95051    334111.0              Doctorate (PhD)   \n",
       "\n",
       "   EMP_EXPERIENCE_MONTHS                          PWD_SOC_TITLE  PWD_WAGE_RATE  \n",
       "0                    NaN  Software Developers, Systems Software        85550.0  \n",
       "1                    NaN                    Internists, General       100734.0  \n",
       "2                   24.0              Computer Systems Analysts       110815.0  \n",
       "3                   12.0  Software Developers, Systems Software        96325.0  \n",
       "4                   24.0      Software Developers, Applications       132184.0  "
      ]
     },
     "execution_count": 55,
     "metadata": {},
     "output_type": "execute_result"
    }
   ],
   "source": [
    "col_2019 = ['CASE_NUMBER', 'DETERMINATION_DATE', 'EMPLOYER_CITY', 'EMPLOYER_STATE', 'EMPLOYER_POSTAL_CODE', \n",
    "            'NAICS_CODE', 'PRIMARY_EDUCATION_LEVEL', 'EMP_EXPERIENCE_MONTHS',\n",
    "            'PWD_SOC_TITLE', 'PWD_WAGE_RATE']\n",
    "df_2019 = df_2019[col_2019]\n",
    "df_2019.head()"
   ]
  },
  {
   "cell_type": "markdown",
   "id": "984baf7f",
   "metadata": {},
   "source": [
    "### 2020"
   ]
  },
  {
   "cell_type": "code",
   "execution_count": 56,
   "id": "557d0398",
   "metadata": {},
   "outputs": [
    {
     "data": {
      "text/plain": [
       "Index(['CASE_NUMBER', 'CASE_STATUS', 'RECEIVED_DATE', 'DETERMINATION_DATE',\n",
       "       'REDETERMINATION_DATE', 'CENTER_DIRECTOR_REVIEW_DATE',\n",
       "       'WITHDRAWAL_DATE', 'VISA_CLASS', 'REQUESTOR_POC_LAST_NAME',\n",
       "       'REQUESTOR_POC_FIRST_NAME', 'REQUESTOR_POC_MIDDLE_NAME',\n",
       "       'REQUESTOR_POC_JOB_TITLE', 'REQUESTOR_POC_ADDRESS1',\n",
       "       'REQUESTOR_POC_ADDRESS2', 'REQUESTOR_POC_CITY', 'REQUESTOR_POC_STATE',\n",
       "       'REQUESTOR_POC_POSTAL_CODE', 'REQUESTOR_POC_COUNTRY',\n",
       "       'REQUESTOR_POC_PROVINCE', 'REQUESTOR_POC_PHONE',\n",
       "       'REQUESTOR_POC_PHONE_EXT', 'REQUESTOR_POC_FAX_NUMBER',\n",
       "       'REQUESTOR_POC_EMAIL', 'EMPLOYER_LEGAL_BUSINESS_NAME', 'TRADE_NAME_DBA',\n",
       "       'EMPLOYER_ADDRESS_1', 'EMPLOYER_ADDRESS_2', 'EMPLOYER_CITY',\n",
       "       'EMPLOYER_STATE', 'EMPLOYER_POSTAL_CODE', 'EMPLOYER_COUNTRY',\n",
       "       'EMPLOYER_PROVINCE', 'EMPLOYER_PHONE', 'EMPLOYER_EXTENSION',\n",
       "       'NAICS_CODE', 'COVERED_BY_ACWIA', 'CBA', 'DBA_SCA', 'SURVEY',\n",
       "       'SURVEY_NAME', 'SURVEY_PUBLICATION_DATE', 'JOB_TITLE',\n",
       "       'SUGGESTED_SOC_CODE', 'SUGGESTED_SOC_TITLE', 'SUPERVISOR_JOB_TITLE',\n",
       "       'SUPERVISE_OTHER_EMP', 'SUPERVISE_HOW_MANY', 'SUPERVISION_LEVEL',\n",
       "       'TRAVEL_REQUIRED', 'TRAVEL_DETAILS', 'PRIMARY_EDUCATION_LEVEL',\n",
       "       'OTHER_EDUCATION', 'MAJOR', 'SECOND_DIPLOMA', 'SECOND_DIPLOMA_MAJOR',\n",
       "       'TRAINING_REQUIRED', 'NUMBER_OF_MONTHS_TRAINING',\n",
       "       'NAME_REQUIRED_TRAINING', 'EMP_EXPERIENCE_REQUIRED',\n",
       "       'EMP_EXPERIENCE_MONTHS', 'OCCUPATION_REQUIRED', 'SPECIAL_REQUIREMENTS',\n",
       "       'PRIMARY_WORKSITE_ADDRESS_1', 'PRIMARY_WORKSITE_ADDRESS_2',\n",
       "       'PRIMARY_WORKSITE_CITY', 'PRIMARY_WORKSITE_COUNTY',\n",
       "       'PRIMARY_WORKSITE_STATE', 'PRIMARY_WORKSITE_POSTAL_CODE',\n",
       "       'OTHER_WORKSITE_LOCATION', 'PWD_SOC_CODE', 'PWD_SOC_TITLE',\n",
       "       'PWD_WAGE_RATE', 'PWD_OES_WAGE_LEVEL', 'PWD_UNIT_OF_PAY',\n",
       "       'PWD_WAGE_SOURCE', 'PWD_SURVEY_NAME', 'WAGE_DET_NOTES',\n",
       "       'PWD_WAGE_EXPIRATION_DATE'],\n",
       "      dtype='object')"
      ]
     },
     "execution_count": 56,
     "metadata": {},
     "output_type": "execute_result"
    }
   ],
   "source": [
    "df_2020.columns"
   ]
  },
  {
   "cell_type": "code",
   "execution_count": 57,
   "id": "66d9f6e9",
   "metadata": {},
   "outputs": [
    {
     "data": {
      "text/html": [
       "<div>\n",
       "<style scoped>\n",
       "    .dataframe tbody tr th:only-of-type {\n",
       "        vertical-align: middle;\n",
       "    }\n",
       "\n",
       "    .dataframe tbody tr th {\n",
       "        vertical-align: top;\n",
       "    }\n",
       "\n",
       "    .dataframe thead th {\n",
       "        text-align: right;\n",
       "    }\n",
       "</style>\n",
       "<table border=\"1\" class=\"dataframe\">\n",
       "  <thead>\n",
       "    <tr style=\"text-align: right;\">\n",
       "      <th></th>\n",
       "      <th>CASE_NUMBER</th>\n",
       "      <th>DETERMINATION_DATE</th>\n",
       "      <th>EMPLOYER_CITY</th>\n",
       "      <th>EMPLOYER_STATE</th>\n",
       "      <th>EMPLOYER_POSTAL_CODE</th>\n",
       "      <th>NAICS_CODE</th>\n",
       "      <th>PRIMARY_EDUCATION_LEVEL</th>\n",
       "      <th>EMP_EXPERIENCE_MONTHS</th>\n",
       "      <th>PWD_SOC_TITLE</th>\n",
       "      <th>PWD_WAGE_RATE</th>\n",
       "    </tr>\n",
       "  </thead>\n",
       "  <tbody>\n",
       "    <tr>\n",
       "      <th>0</th>\n",
       "      <td>P-100-18302-187834</td>\n",
       "      <td>2019-09-09</td>\n",
       "      <td>Culpeper</td>\n",
       "      <td>VA</td>\n",
       "      <td>22701</td>\n",
       "      <td>541990.0</td>\n",
       "      <td>Bachelor's</td>\n",
       "      <td>60.0</td>\n",
       "      <td>Computer and Information Systems Managers</td>\n",
       "      <td>199534.0</td>\n",
       "    </tr>\n",
       "    <tr>\n",
       "      <th>1</th>\n",
       "      <td>P-100-18306-211405</td>\n",
       "      <td>NaT</td>\n",
       "      <td>AUSTIN</td>\n",
       "      <td>TX</td>\n",
       "      <td>78758</td>\n",
       "      <td>334419.0</td>\n",
       "      <td>Bachelor's</td>\n",
       "      <td>12.0</td>\n",
       "      <td>NaN</td>\n",
       "      <td>NaN</td>\n",
       "    </tr>\n",
       "    <tr>\n",
       "      <th>2</th>\n",
       "      <td>P-100-18353-210924</td>\n",
       "      <td>2019-10-25</td>\n",
       "      <td>Leominster</td>\n",
       "      <td>MA</td>\n",
       "      <td>01453</td>\n",
       "      <td>23822.0</td>\n",
       "      <td>None</td>\n",
       "      <td>48.0</td>\n",
       "      <td>Helpers--Pipelayers, Plumbers, Pipefitters, an...</td>\n",
       "      <td>40955.0</td>\n",
       "    </tr>\n",
       "    <tr>\n",
       "      <th>3</th>\n",
       "      <td>P-100-19013-734977</td>\n",
       "      <td>NaT</td>\n",
       "      <td>Fort Washington</td>\n",
       "      <td>PA</td>\n",
       "      <td>19034</td>\n",
       "      <td>541710.0</td>\n",
       "      <td>Other degree (JD, MD, etc.)</td>\n",
       "      <td>24.0</td>\n",
       "      <td>NaN</td>\n",
       "      <td>NaN</td>\n",
       "    </tr>\n",
       "    <tr>\n",
       "      <th>4</th>\n",
       "      <td>P-100-19036-214674</td>\n",
       "      <td>2019-10-21</td>\n",
       "      <td>New York</td>\n",
       "      <td>NY</td>\n",
       "      <td>10019</td>\n",
       "      <td>541810.0</td>\n",
       "      <td>Bachelor's</td>\n",
       "      <td>48.0</td>\n",
       "      <td>Market Research Analysts and Marketing Special...</td>\n",
       "      <td>99362.0</td>\n",
       "    </tr>\n",
       "  </tbody>\n",
       "</table>\n",
       "</div>"
      ],
      "text/plain": [
       "          CASE_NUMBER DETERMINATION_DATE    EMPLOYER_CITY EMPLOYER_STATE  \\\n",
       "0  P-100-18302-187834         2019-09-09         Culpeper             VA   \n",
       "1  P-100-18306-211405                NaT           AUSTIN             TX   \n",
       "2  P-100-18353-210924         2019-10-25       Leominster             MA   \n",
       "3  P-100-19013-734977                NaT  Fort Washington             PA   \n",
       "4  P-100-19036-214674         2019-10-21         New York             NY   \n",
       "\n",
       "  EMPLOYER_POSTAL_CODE  NAICS_CODE      PRIMARY_EDUCATION_LEVEL  \\\n",
       "0                22701    541990.0                   Bachelor's   \n",
       "1                78758    334419.0                   Bachelor's   \n",
       "2                01453     23822.0                         None   \n",
       "3                19034    541710.0  Other degree (JD, MD, etc.)   \n",
       "4                10019    541810.0                   Bachelor's   \n",
       "\n",
       "   EMP_EXPERIENCE_MONTHS                                      PWD_SOC_TITLE  \\\n",
       "0                   60.0          Computer and Information Systems Managers   \n",
       "1                   12.0                                                NaN   \n",
       "2                   48.0  Helpers--Pipelayers, Plumbers, Pipefitters, an...   \n",
       "3                   24.0                                                NaN   \n",
       "4                   48.0  Market Research Analysts and Marketing Special...   \n",
       "\n",
       "   PWD_WAGE_RATE  \n",
       "0       199534.0  \n",
       "1            NaN  \n",
       "2        40955.0  \n",
       "3            NaN  \n",
       "4        99362.0  "
      ]
     },
     "execution_count": 57,
     "metadata": {},
     "output_type": "execute_result"
    }
   ],
   "source": [
    "col_2020 = ['CASE_NUMBER', 'DETERMINATION_DATE', 'EMPLOYER_CITY', 'EMPLOYER_STATE', 'EMPLOYER_POSTAL_CODE', \n",
    "            'NAICS_CODE', 'PRIMARY_EDUCATION_LEVEL', 'EMP_EXPERIENCE_MONTHS',\n",
    "            'PWD_SOC_TITLE', 'PWD_WAGE_RATE']\n",
    "df_2020 = df_2020[col_2020]\n",
    "df_2020.head()"
   ]
  },
  {
   "cell_type": "markdown",
   "id": "553e30e2",
   "metadata": {},
   "source": [
    "### Renaming Columns According to 2012 Dataset"
   ]
  },
  {
   "cell_type": "code",
   "execution_count": 58,
   "id": "6f6a659d",
   "metadata": {},
   "outputs": [
    {
     "data": {
      "text/plain": [
       "Index(['CASE_NUMBER', 'PW_DETERMINATION_DATE', 'EMPLOYER_CITY',\n",
       "       'EMPLOYER_STATE', 'EMPLOYER_POSTAL_CODE', 'NAIC_US_CODE',\n",
       "       'PRIMARY_EDUCATION_LEVEL', 'EMP_EXPERIENCE_MONTHS',\n",
       "       'PWD_SOC_CODE_TITLE', 'PWD_WAGE_RATE'],\n",
       "      dtype='object')"
      ]
     },
     "execution_count": 58,
     "metadata": {},
     "output_type": "execute_result"
    }
   ],
   "source": [
    "# df_can.rename(columns={'OdName':'Country', 'AreaName':'Continent','RegName':'Region'}, inplace=True)\n",
    "\n",
    "# 2013\n",
    "df_2013.rename(columns={'PW_DETERM_DATE':'PW_DETERMINATION_DATE', df_2013.columns[5]:'NAIC_US_CODE', \n",
    "                        'PWD_SOC_TITLE': 'PWD_SOC_CODE_TITLE'}, inplace=True)\n",
    "df_2013.columns"
   ]
  },
  {
   "cell_type": "code",
   "execution_count": 59,
   "id": "0e2727dc",
   "metadata": {},
   "outputs": [
    {
     "data": {
      "text/plain": [
       "Index(['CASE_NUMBER', 'PW_DETERMINATION_DATE', 'EMPLOYER_CITY',\n",
       "       'EMPLOYER_STATE', 'EMPLOYER_POSTAL_CODE', 'NAIC_US_CODE',\n",
       "       'PRIMARY_EDUCATION_LEVEL', 'EMP_EXPERIENCE_MONTHS',\n",
       "       'PWD_SOC_CODE_TITLE', 'PWD_WAGE_RATE'],\n",
       "      dtype='object')"
      ]
     },
     "execution_count": 59,
     "metadata": {},
     "output_type": "execute_result"
    }
   ],
   "source": [
    "# 2014\n",
    "df_2014.rename(columns={'EMPLOYER CITY':'EMPLOYER_CITY', 'EMPLOYER STATE': 'EMPLOYER_STATE', \n",
    "                        'EMPLOYER POSTAL CODE': 'EMPLOYER_POSTAL_CODE', \n",
    "                        'PWD_SOC_TITLE': 'PWD_SOC_CODE_TITLE', \n",
    "                       'NAICS_US_CODE': 'NAIC_US_CODE'}, inplace=True)\n",
    "\n",
    "df_2014.columns"
   ]
  },
  {
   "cell_type": "code",
   "execution_count": 60,
   "id": "034c1811",
   "metadata": {},
   "outputs": [
    {
     "name": "stdout",
     "output_type": "stream",
     "text": [
      "Index(['CASE_NUMBER', 'PW_DETERMINATION_DATE', 'EMPLOYER_CITY',\n",
      "       'EMPLOYER_STATE', 'EMPLOYER_POSTAL_CODE', 'NAIC_US_CODE',\n",
      "       'PRIMARY_EDUCATION_LEVEL', 'EMP_EXPERIENCE_MONTHS',\n",
      "       'PWD_SOC_CODE_TITLE', 'PWD_WAGE_RATE'],\n",
      "      dtype='object')\n"
     ]
    }
   ],
   "source": [
    "# 2015\n",
    "df_2015.rename(columns={df_2015.columns[1]:'PW_DETERMINATION_DATE', 'EMPLOYER STATE': 'EMPLOYER_STATE', \n",
    "                        'EMPLOYER POSTAL CODE': 'EMPLOYER_POSTAL_CODE',\n",
    "                        'EMPLOYER CITY':'EMPLOYER_CITY', df_2015.columns[5]: 'NAIC_US_CODE',\n",
    "                       'EDUCATION_LEVEL': 'PRIMARY_EDUCATION_LEVEL',\n",
    "                       'EMP_EXP_NUM_MONTHS': 'EMP_EXPERIENCE_MONTHS',\n",
    "                       'SOC_CODE_NAME':'PWD_SOC_CODE_TITLE', \n",
    "                        'PREVAIL_WAGE': 'PWD_WAGE_RATE'}, inplace=True)\n",
    "\n",
    "print(df_2015.columns)"
   ]
  },
  {
   "cell_type": "code",
   "execution_count": 61,
   "id": "e661725a",
   "metadata": {},
   "outputs": [
    {
     "data": {
      "text/plain": [
       "Index(['CASE_NUMBER', 'PW_DETERMINATION_DATE', 'EMPLOYER_CITY',\n",
       "       'EMPLOYER_STATE', 'EMPLOYER_POSTAL_CODE', 'NAIC_US_CODE',\n",
       "       'PRIMARY_EDUCATION_LEVEL', 'EMP_EXPERIENCE_MONTHS',\n",
       "       'PWD_SOC_CODE_TITLE', 'PWD_WAGE_RATE'],\n",
       "      dtype='object')"
      ]
     },
     "execution_count": 61,
     "metadata": {},
     "output_type": "execute_result"
    }
   ],
   "source": [
    "df_2012.columns"
   ]
  },
  {
   "cell_type": "code",
   "execution_count": 62,
   "id": "9f062716",
   "metadata": {},
   "outputs": [
    {
     "data": {
      "text/plain": [
       "Index(['CASE_NUMBER', 'PW_DETERMINATION_DATE', 'EMPLOYER_CITY',\n",
       "       'EMPLOYER_STATE', 'EMPLOYER_POSTAL_CODE', 'NAIC_US_CODE',\n",
       "       'PRIMARY_EDUCATION_LEVEL', 'EMP_EXPERIENCE_MONTHS',\n",
       "       'PWD_SOC_CODE_TITLE', 'PWD_WAGE_RATE'],\n",
       "      dtype='object')"
      ]
     },
     "execution_count": 62,
     "metadata": {},
     "output_type": "execute_result"
    }
   ],
   "source": [
    "# 2016\n",
    "df_2016.rename(columns={df_2016.columns[0]:'CASE_NUMBER',\n",
    "                       df_2016.columns[1]:'PW_DETERMINATION_DATE',\n",
    "                       df_2016.columns[2]:'EMPLOYER_CITY',\n",
    "                       df_2016.columns[3]:'EMPLOYER_STATE',\n",
    "                       df_2016.columns[4]:'EMPLOYER_POSTAL_CODE',\n",
    "                       df_2016.columns[5]:'NAIC_US_CODE',\n",
    "                       df_2016.columns[6]:'PRIMARY_EDUCATION_LEVEL',\n",
    "                       df_2016.columns[7]:'EMP_EXPERIENCE_MONTHS',\n",
    "                       df_2016.columns[8]:'PWD_SOC_CODE_TITLE',\n",
    "                       df_2016.columns[9]:'PWD_WAGE_RATE'}, inplace=True)\n",
    "df_2016.columns"
   ]
  },
  {
   "cell_type": "code",
   "execution_count": 63,
   "id": "0371ecb5",
   "metadata": {},
   "outputs": [
    {
     "data": {
      "text/plain": [
       "Index(['CASE_NUMBER', 'PW_DETERMINATION_DATE', 'EMPLOYER_CITY',\n",
       "       'EMPLOYER_STATE', 'EMPLOYER_POSTAL_CODE', 'NAIC_US_CODE',\n",
       "       'PRIMARY_EDUCATION_LEVEL', 'EMP_EXPERIENCE_MONTHS',\n",
       "       'PWD_SOC_CODE_TITLE', 'PWD_WAGE_RATE'],\n",
       "      dtype='object')"
      ]
     },
     "execution_count": 63,
     "metadata": {},
     "output_type": "execute_result"
    }
   ],
   "source": [
    "# 2017\n",
    "df_2017.rename(columns={df_2017.columns[0]:'CASE_NUMBER',\n",
    "                       df_2017.columns[1]:'PW_DETERMINATION_DATE',\n",
    "                       df_2017.columns[2]:'EMPLOYER_CITY',\n",
    "                       df_2017.columns[3]:'EMPLOYER_STATE',\n",
    "                       df_2017.columns[4]:'EMPLOYER_POSTAL_CODE',\n",
    "                       df_2017.columns[5]:'NAIC_US_CODE',\n",
    "                       df_2017.columns[6]:'PRIMARY_EDUCATION_LEVEL',\n",
    "                       df_2017.columns[7]:'EMP_EXPERIENCE_MONTHS',\n",
    "                       df_2017.columns[8]:'PWD_SOC_CODE_TITLE',\n",
    "                       df_2017.columns[9]:'PWD_WAGE_RATE'}, inplace=True)\n",
    "df_2017.columns"
   ]
  },
  {
   "cell_type": "code",
   "execution_count": 64,
   "id": "67f2bcb4",
   "metadata": {},
   "outputs": [
    {
     "data": {
      "text/plain": [
       "Index(['CASE_NUMBER', 'PW_DETERMINATION_DATE', 'EMPLOYER_CITY',\n",
       "       'EMPLOYER_STATE', 'EMPLOYER_POSTAL_CODE', 'NAIC_US_CODE',\n",
       "       'PRIMARY_EDUCATION_LEVEL', 'EMP_EXPERIENCE_MONTHS',\n",
       "       'PWD_SOC_CODE_TITLE', 'PWD_WAGE_RATE'],\n",
       "      dtype='object')"
      ]
     },
     "execution_count": 64,
     "metadata": {},
     "output_type": "execute_result"
    }
   ],
   "source": [
    "# 2018\n",
    "df_2018.rename(columns={df_2018.columns[0]:'CASE_NUMBER',\n",
    "                       df_2018.columns[1]:'PW_DETERMINATION_DATE',\n",
    "                       df_2018.columns[2]:'EMPLOYER_CITY',\n",
    "                       df_2018.columns[3]:'EMPLOYER_STATE',\n",
    "                       df_2018.columns[4]:'EMPLOYER_POSTAL_CODE',\n",
    "                       df_2018.columns[5]:'NAIC_US_CODE',\n",
    "                       df_2018.columns[6]:'PRIMARY_EDUCATION_LEVEL',\n",
    "                       df_2018.columns[7]:'EMP_EXPERIENCE_MONTHS',\n",
    "                       df_2018.columns[8]:'PWD_SOC_CODE_TITLE',\n",
    "                       df_2018.columns[9]:'PWD_WAGE_RATE'}, inplace=True)\n",
    "df_2018.columns"
   ]
  },
  {
   "cell_type": "code",
   "execution_count": 65,
   "id": "86dfd55e",
   "metadata": {},
   "outputs": [
    {
     "data": {
      "text/plain": [
       "Index(['CASE_NUMBER', 'PW_DETERMINATION_DATE', 'EMPLOYER_CITY',\n",
       "       'EMPLOYER_STATE', 'EMPLOYER_POSTAL_CODE', 'NAIC_US_CODE',\n",
       "       'PRIMARY_EDUCATION_LEVEL', 'EMP_EXPERIENCE_MONTHS',\n",
       "       'PWD_SOC_CODE_TITLE', 'PWD_WAGE_RATE'],\n",
       "      dtype='object')"
      ]
     },
     "execution_count": 65,
     "metadata": {},
     "output_type": "execute_result"
    }
   ],
   "source": [
    "# 2019\n",
    "df_2019.rename(columns={df_2019.columns[0]:'CASE_NUMBER',\n",
    "                       df_2019.columns[1]:'PW_DETERMINATION_DATE',\n",
    "                       df_2019.columns[2]:'EMPLOYER_CITY',\n",
    "                       df_2019.columns[3]:'EMPLOYER_STATE',\n",
    "                       df_2019.columns[4]:'EMPLOYER_POSTAL_CODE',\n",
    "                       df_2019.columns[5]:'NAIC_US_CODE',\n",
    "                       df_2019.columns[6]:'PRIMARY_EDUCATION_LEVEL',\n",
    "                       df_2019.columns[7]:'EMP_EXPERIENCE_MONTHS',\n",
    "                       df_2019.columns[8]:'PWD_SOC_CODE_TITLE',\n",
    "                       df_2019.columns[9]:'PWD_WAGE_RATE'}, inplace=True)\n",
    "df_2019.columns"
   ]
  },
  {
   "cell_type": "code",
   "execution_count": 66,
   "id": "ecd65981",
   "metadata": {},
   "outputs": [
    {
     "name": "stderr",
     "output_type": "stream",
     "text": [
      "C:\\Users\\yashw\\anaconda3\\lib\\site-packages\\pandas\\core\\frame.py:4441: SettingWithCopyWarning: \n",
      "A value is trying to be set on a copy of a slice from a DataFrame\n",
      "\n",
      "See the caveats in the documentation: https://pandas.pydata.org/pandas-docs/stable/user_guide/indexing.html#returning-a-view-versus-a-copy\n",
      "  return super().rename(\n"
     ]
    },
    {
     "data": {
      "text/plain": [
       "Index(['CASE_NUMBER', 'PW_DETERMINATION_DATE', 'EMPLOYER_CITY',\n",
       "       'EMPLOYER_STATE', 'EMPLOYER_POSTAL_CODE', 'NAIC_US_CODE',\n",
       "       'PRIMARY_EDUCATION_LEVEL', 'EMP_EXPERIENCE_MONTHS',\n",
       "       'PWD_SOC_CODE_TITLE', 'PWD_WAGE_RATE'],\n",
       "      dtype='object')"
      ]
     },
     "execution_count": 66,
     "metadata": {},
     "output_type": "execute_result"
    }
   ],
   "source": [
    "# 2020\n",
    "df_2020.rename(columns={df_2020.columns[0]:'CASE_NUMBER',\n",
    "                       df_2020.columns[1]:'PW_DETERMINATION_DATE',\n",
    "                       df_2020.columns[2]:'EMPLOYER_CITY',\n",
    "                       df_2020.columns[3]:'EMPLOYER_STATE',\n",
    "                       df_2020.columns[4]:'EMPLOYER_POSTAL_CODE',\n",
    "                       df_2020.columns[5]:'NAIC_US_CODE',\n",
    "                       df_2020.columns[6]:'PRIMARY_EDUCATION_LEVEL',\n",
    "                       df_2020.columns[7]:'EMP_EXPERIENCE_MONTHS',\n",
    "                       df_2020.columns[8]:'PWD_SOC_CODE_TITLE',\n",
    "                       df_2020.columns[9]:'PWD_WAGE_RATE'}, inplace=True)\n",
    "df_2020.columns"
   ]
  },
  {
   "cell_type": "markdown",
   "id": "b8f1738d",
   "metadata": {},
   "source": [
    "## Drop Duplicates"
   ]
  },
  {
   "cell_type": "code",
   "execution_count": 67,
   "id": "72635467",
   "metadata": {},
   "outputs": [
    {
     "data": {
      "text/html": [
       "<div>\n",
       "<style scoped>\n",
       "    .dataframe tbody tr th:only-of-type {\n",
       "        vertical-align: middle;\n",
       "    }\n",
       "\n",
       "    .dataframe tbody tr th {\n",
       "        vertical-align: top;\n",
       "    }\n",
       "\n",
       "    .dataframe thead th {\n",
       "        text-align: right;\n",
       "    }\n",
       "</style>\n",
       "<table border=\"1\" class=\"dataframe\">\n",
       "  <thead>\n",
       "    <tr style=\"text-align: right;\">\n",
       "      <th></th>\n",
       "      <th>CASE_NUMBER</th>\n",
       "      <th>PW_DETERMINATION_DATE</th>\n",
       "      <th>EMPLOYER_CITY</th>\n",
       "      <th>EMPLOYER_STATE</th>\n",
       "      <th>EMPLOYER_POSTAL_CODE</th>\n",
       "      <th>NAIC_US_CODE</th>\n",
       "      <th>PRIMARY_EDUCATION_LEVEL</th>\n",
       "      <th>EMP_EXPERIENCE_MONTHS</th>\n",
       "      <th>PWD_SOC_CODE_TITLE</th>\n",
       "      <th>PWD_WAGE_RATE</th>\n",
       "    </tr>\n",
       "  </thead>\n",
       "  <tbody>\n",
       "    <tr>\n",
       "      <th>0</th>\n",
       "      <td>P-100-18302-187834</td>\n",
       "      <td>2019-09-09</td>\n",
       "      <td>Culpeper</td>\n",
       "      <td>VA</td>\n",
       "      <td>22701</td>\n",
       "      <td>541990.0</td>\n",
       "      <td>Bachelor's</td>\n",
       "      <td>60.0</td>\n",
       "      <td>Computer and Information Systems Managers</td>\n",
       "      <td>199534.00</td>\n",
       "    </tr>\n",
       "    <tr>\n",
       "      <th>1</th>\n",
       "      <td>P-100-18306-211405</td>\n",
       "      <td>NaT</td>\n",
       "      <td>AUSTIN</td>\n",
       "      <td>TX</td>\n",
       "      <td>78758</td>\n",
       "      <td>334419.0</td>\n",
       "      <td>Bachelor's</td>\n",
       "      <td>12.0</td>\n",
       "      <td>NaN</td>\n",
       "      <td>NaN</td>\n",
       "    </tr>\n",
       "    <tr>\n",
       "      <th>2</th>\n",
       "      <td>P-100-18353-210924</td>\n",
       "      <td>2019-10-25</td>\n",
       "      <td>Leominster</td>\n",
       "      <td>MA</td>\n",
       "      <td>01453</td>\n",
       "      <td>23822.0</td>\n",
       "      <td>None</td>\n",
       "      <td>48.0</td>\n",
       "      <td>Helpers--Pipelayers, Plumbers, Pipefitters, an...</td>\n",
       "      <td>40955.00</td>\n",
       "    </tr>\n",
       "    <tr>\n",
       "      <th>3</th>\n",
       "      <td>P-100-19013-734977</td>\n",
       "      <td>NaT</td>\n",
       "      <td>Fort Washington</td>\n",
       "      <td>PA</td>\n",
       "      <td>19034</td>\n",
       "      <td>541710.0</td>\n",
       "      <td>Other degree (JD, MD, etc.)</td>\n",
       "      <td>24.0</td>\n",
       "      <td>NaN</td>\n",
       "      <td>NaN</td>\n",
       "    </tr>\n",
       "    <tr>\n",
       "      <th>4</th>\n",
       "      <td>P-100-19036-214674</td>\n",
       "      <td>2019-10-21</td>\n",
       "      <td>New York</td>\n",
       "      <td>NY</td>\n",
       "      <td>10019</td>\n",
       "      <td>541810.0</td>\n",
       "      <td>Bachelor's</td>\n",
       "      <td>48.0</td>\n",
       "      <td>Market Research Analysts and Marketing Special...</td>\n",
       "      <td>99362.00</td>\n",
       "    </tr>\n",
       "    <tr>\n",
       "      <th>...</th>\n",
       "      <td>...</td>\n",
       "      <td>...</td>\n",
       "      <td>...</td>\n",
       "      <td>...</td>\n",
       "      <td>...</td>\n",
       "      <td>...</td>\n",
       "      <td>...</td>\n",
       "      <td>...</td>\n",
       "      <td>...</td>\n",
       "      <td>...</td>\n",
       "    </tr>\n",
       "    <tr>\n",
       "      <th>166520</th>\n",
       "      <td>P-500-20244-795208</td>\n",
       "      <td>2020-09-30</td>\n",
       "      <td>SAIPAN</td>\n",
       "      <td>MP</td>\n",
       "      <td>96950</td>\n",
       "      <td>561320.0</td>\n",
       "      <td>Bachelor's</td>\n",
       "      <td>48.0</td>\n",
       "      <td>Accountants</td>\n",
       "      <td>14.85</td>\n",
       "    </tr>\n",
       "    <tr>\n",
       "      <th>166521</th>\n",
       "      <td>P-500-20244-795214</td>\n",
       "      <td>2020-09-30</td>\n",
       "      <td>Gualo Rai</td>\n",
       "      <td>MP</td>\n",
       "      <td>96950</td>\n",
       "      <td>311811.0</td>\n",
       "      <td>None</td>\n",
       "      <td>12.0</td>\n",
       "      <td>Bakers</td>\n",
       "      <td>7.90</td>\n",
       "    </tr>\n",
       "    <tr>\n",
       "      <th>166522</th>\n",
       "      <td>P-500-20244-795224</td>\n",
       "      <td>2020-09-30</td>\n",
       "      <td>SAIPAN</td>\n",
       "      <td>MP</td>\n",
       "      <td>96950</td>\n",
       "      <td>56132.0</td>\n",
       "      <td>High School/GED</td>\n",
       "      <td>6.0</td>\n",
       "      <td>Maids and Housekeeping Cleaners</td>\n",
       "      <td>7.59</td>\n",
       "    </tr>\n",
       "    <tr>\n",
       "      <th>166523</th>\n",
       "      <td>P-500-20244-795225</td>\n",
       "      <td>2020-09-30</td>\n",
       "      <td>SAIPAN</td>\n",
       "      <td>MP</td>\n",
       "      <td>96950</td>\n",
       "      <td>56132.0</td>\n",
       "      <td>Bachelor's</td>\n",
       "      <td>24.0</td>\n",
       "      <td>Bookkeeping, Accounting, and Auditing Clerks</td>\n",
       "      <td>9.49</td>\n",
       "    </tr>\n",
       "    <tr>\n",
       "      <th>166524</th>\n",
       "      <td>P-500-20244-795229</td>\n",
       "      <td>2020-09-30</td>\n",
       "      <td>SAIPAN</td>\n",
       "      <td>MP</td>\n",
       "      <td>96950</td>\n",
       "      <td>56132.0</td>\n",
       "      <td>High School/GED</td>\n",
       "      <td>24.0</td>\n",
       "      <td>Maintenance and Repair Workers, General</td>\n",
       "      <td>8.71</td>\n",
       "    </tr>\n",
       "  </tbody>\n",
       "</table>\n",
       "<p>166525 rows × 10 columns</p>\n",
       "</div>"
      ],
      "text/plain": [
       "               CASE_NUMBER PW_DETERMINATION_DATE    EMPLOYER_CITY  \\\n",
       "0       P-100-18302-187834            2019-09-09         Culpeper   \n",
       "1       P-100-18306-211405                   NaT           AUSTIN   \n",
       "2       P-100-18353-210924            2019-10-25       Leominster   \n",
       "3       P-100-19013-734977                   NaT  Fort Washington   \n",
       "4       P-100-19036-214674            2019-10-21         New York   \n",
       "...                    ...                   ...              ...   \n",
       "166520  P-500-20244-795208            2020-09-30           SAIPAN   \n",
       "166521  P-500-20244-795214            2020-09-30        Gualo Rai   \n",
       "166522  P-500-20244-795224            2020-09-30           SAIPAN   \n",
       "166523  P-500-20244-795225            2020-09-30           SAIPAN   \n",
       "166524  P-500-20244-795229            2020-09-30           SAIPAN   \n",
       "\n",
       "       EMPLOYER_STATE EMPLOYER_POSTAL_CODE  NAIC_US_CODE  \\\n",
       "0                  VA                22701      541990.0   \n",
       "1                  TX                78758      334419.0   \n",
       "2                  MA                01453       23822.0   \n",
       "3                  PA                19034      541710.0   \n",
       "4                  NY                10019      541810.0   \n",
       "...               ...                  ...           ...   \n",
       "166520             MP                96950      561320.0   \n",
       "166521             MP                96950      311811.0   \n",
       "166522             MP                96950       56132.0   \n",
       "166523             MP                96950       56132.0   \n",
       "166524             MP                96950       56132.0   \n",
       "\n",
       "            PRIMARY_EDUCATION_LEVEL  EMP_EXPERIENCE_MONTHS  \\\n",
       "0                        Bachelor's                   60.0   \n",
       "1                        Bachelor's                   12.0   \n",
       "2                              None                   48.0   \n",
       "3       Other degree (JD, MD, etc.)                   24.0   \n",
       "4                        Bachelor's                   48.0   \n",
       "...                             ...                    ...   \n",
       "166520                   Bachelor's                   48.0   \n",
       "166521                         None                   12.0   \n",
       "166522             High School/GED                     6.0   \n",
       "166523                   Bachelor's                   24.0   \n",
       "166524             High School/GED                    24.0   \n",
       "\n",
       "                                       PWD_SOC_CODE_TITLE  PWD_WAGE_RATE  \n",
       "0               Computer and Information Systems Managers      199534.00  \n",
       "1                                                     NaN            NaN  \n",
       "2       Helpers--Pipelayers, Plumbers, Pipefitters, an...       40955.00  \n",
       "3                                                     NaN            NaN  \n",
       "4       Market Research Analysts and Marketing Special...       99362.00  \n",
       "...                                                   ...            ...  \n",
       "166520                                        Accountants          14.85  \n",
       "166521                                             Bakers           7.90  \n",
       "166522                    Maids and Housekeeping Cleaners           7.59  \n",
       "166523       Bookkeeping, Accounting, and Auditing Clerks           9.49  \n",
       "166524            Maintenance and Repair Workers, General           8.71  \n",
       "\n",
       "[166525 rows x 10 columns]"
      ]
     },
     "execution_count": 67,
     "metadata": {},
     "output_type": "execute_result"
    }
   ],
   "source": [
    "df_2012.drop_duplicates()\n",
    "df_2013.drop_duplicates()\n",
    "df_2014.drop_duplicates()\n",
    "df_2015.drop_duplicates()\n",
    "df_2016.drop_duplicates()\n",
    "df_2017.drop_duplicates()\n",
    "df_2018.drop_duplicates()\n",
    "df_2019.drop_duplicates()\n",
    "df_2020.drop_duplicates()"
   ]
  },
  {
   "cell_type": "code",
   "execution_count": 68,
   "id": "8057c858",
   "metadata": {},
   "outputs": [
    {
     "name": "stdout",
     "output_type": "stream",
     "text": [
      "1471 8 3 3 0 0 0 41 0\n"
     ]
    }
   ],
   "source": [
    "# count duplicates \n",
    "print(df_2012.duplicated().sum(), df_2013.duplicated().sum(), df_2014.duplicated().sum(), df_2015.duplicated().sum(), \n",
    "     df_2016.duplicated().sum(), df_2017.duplicated().sum(), df_2018.duplicated().sum(), df_2019.duplicated().sum(),\n",
    "     df_2020.duplicated().sum())"
   ]
  },
  {
   "cell_type": "markdown",
   "id": "4089e84d",
   "metadata": {},
   "source": [
    "# End - Preprocessing"
   ]
  },
  {
   "cell_type": "markdown",
   "id": "07d2510f",
   "metadata": {},
   "source": [
    "# YASH WALI CODE STARTS HERE"
   ]
  },
  {
   "cell_type": "code",
   "execution_count": 69,
   "id": "9c91ca2f",
   "metadata": {},
   "outputs": [],
   "source": [
    "#Making duplicates for my use.\n",
    "df_2012_yw = df_2012.copy()\n",
    "df_2013_yw = df_2013.copy()\n",
    "df_2014_yw = df_2014.copy()\n",
    "df_2015_yw = df_2015.copy()\n",
    "df_2016_yw = df_2016.copy()\n",
    "df_2017_yw = df_2017.copy()\n",
    "df_2018_yw = df_2018.copy()\n",
    "df_2019_yw = df_2019.copy()\n",
    "df_2020_yw = df_2020.copy()"
   ]
  },
  {
   "cell_type": "code",
   "execution_count": 70,
   "id": "a70bc732",
   "metadata": {},
   "outputs": [
    {
     "name": "stdout",
     "output_type": "stream",
     "text": [
      "CASE_NUMBER                    0\n",
      "PW_DETERMINATION_DATE       7175\n",
      "EMPLOYER_CITY                  1\n",
      "EMPLOYER_STATE                10\n",
      "EMPLOYER_POSTAL_CODE           1\n",
      "NAIC_US_CODE                 103\n",
      "PRIMARY_EDUCATION_LEVEL       16\n",
      "EMP_EXPERIENCE_MONTHS      43460\n",
      "PWD_SOC_CODE_TITLE          7175\n",
      "PWD_WAGE_RATE               7175\n",
      "dtype: int64\n",
      "CASE_NUMBER                    0\n",
      "PW_DETERMINATION_DATE       6490\n",
      "EMPLOYER_CITY                  1\n",
      "EMPLOYER_STATE                12\n",
      "EMPLOYER_POSTAL_CODE           1\n",
      "NAIC_US_CODE                  48\n",
      "PRIMARY_EDUCATION_LEVEL        7\n",
      "EMP_EXPERIENCE_MONTHS      34652\n",
      "PWD_SOC_CODE_TITLE          6490\n",
      "PWD_WAGE_RATE               6490\n",
      "dtype: int64\n",
      "CASE_NUMBER                    0\n",
      "PW_DETERMINATION_DATE       6192\n",
      "EMPLOYER_CITY                  1\n",
      "EMPLOYER_STATE                10\n",
      "EMPLOYER_POSTAL_CODE           1\n",
      "NAIC_US_CODE                   3\n",
      "PRIMARY_EDUCATION_LEVEL        5\n",
      "EMP_EXPERIENCE_MONTHS      36396\n",
      "PWD_SOC_CODE_TITLE          6192\n",
      "PWD_WAGE_RATE               6192\n",
      "dtype: int64\n",
      "CASE_NUMBER                    0\n",
      "PW_DETERMINATION_DATE       7749\n",
      "EMPLOYER_CITY                  0\n",
      "EMPLOYER_STATE                 5\n",
      "EMPLOYER_POSTAL_CODE           0\n",
      "NAIC_US_CODE                   2\n",
      "PRIMARY_EDUCATION_LEVEL        0\n",
      "EMP_EXPERIENCE_MONTHS      35993\n",
      "PWD_SOC_CODE_TITLE          7749\n",
      "PWD_WAGE_RATE               7749\n",
      "dtype: int64\n",
      "CASE_NUMBER                    0\n",
      "PW_DETERMINATION_DATE       8217\n",
      "EMPLOYER_CITY                  1\n",
      "EMPLOYER_STATE                 6\n",
      "EMPLOYER_POSTAL_CODE           1\n",
      "NAIC_US_CODE                   7\n",
      "PRIMARY_EDUCATION_LEVEL        1\n",
      "EMP_EXPERIENCE_MONTHS      36542\n",
      "PWD_SOC_CODE_TITLE          8217\n",
      "PWD_WAGE_RATE               8217\n",
      "dtype: int64\n",
      "CASE_NUMBER                    0\n",
      "PW_DETERMINATION_DATE       8866\n",
      "EMPLOYER_CITY                  1\n",
      "EMPLOYER_STATE                14\n",
      "EMPLOYER_POSTAL_CODE           1\n",
      "NAIC_US_CODE                   3\n",
      "PRIMARY_EDUCATION_LEVEL        1\n",
      "EMP_EXPERIENCE_MONTHS      44418\n",
      "PWD_SOC_CODE_TITLE          8866\n",
      "PWD_WAGE_RATE               8866\n",
      "dtype: int64\n",
      "CASE_NUMBER                    0\n",
      "PW_DETERMINATION_DATE       7485\n",
      "EMPLOYER_CITY                  0\n",
      "EMPLOYER_STATE                 6\n",
      "EMPLOYER_POSTAL_CODE           0\n",
      "NAIC_US_CODE                   1\n",
      "PRIMARY_EDUCATION_LEVEL        1\n",
      "EMP_EXPERIENCE_MONTHS      36786\n",
      "PWD_SOC_CODE_TITLE          7485\n",
      "PWD_WAGE_RATE               7485\n",
      "dtype: int64\n",
      "CASE_NUMBER                    0\n",
      "PW_DETERMINATION_DATE       7584\n",
      "EMPLOYER_CITY                  0\n",
      "EMPLOYER_STATE                23\n",
      "EMPLOYER_POSTAL_CODE           7\n",
      "NAIC_US_CODE                   5\n",
      "PRIMARY_EDUCATION_LEVEL        0\n",
      "EMP_EXPERIENCE_MONTHS      41264\n",
      "PWD_SOC_CODE_TITLE          7012\n",
      "PWD_WAGE_RATE               7012\n",
      "dtype: int64\n",
      "CASE_NUMBER                    0\n",
      "PW_DETERMINATION_DATE       6295\n",
      "EMPLOYER_CITY                  0\n",
      "EMPLOYER_STATE                57\n",
      "EMPLOYER_POSTAL_CODE           2\n",
      "NAIC_US_CODE                  29\n",
      "PRIMARY_EDUCATION_LEVEL        0\n",
      "EMP_EXPERIENCE_MONTHS      40631\n",
      "PWD_SOC_CODE_TITLE          5493\n",
      "PWD_WAGE_RATE               5493\n",
      "dtype: int64\n",
      "1471\n",
      "8\n",
      "3\n",
      "3\n",
      "0\n",
      "0\n",
      "0\n",
      "41\n",
      "0\n"
     ]
    }
   ],
   "source": [
    "#Checking for null values and duplicates.\n",
    "print(df_2012_yw.isna().sum())\n",
    "print(df_2013_yw.isna().sum())\n",
    "print(df_2014_yw.isna().sum())\n",
    "print(df_2015_yw.isna().sum())\n",
    "print(df_2016_yw.isna().sum())\n",
    "print(df_2017_yw.isna().sum())\n",
    "print(df_2018_yw.isna().sum())\n",
    "print(df_2019_yw.isna().sum())\n",
    "print(df_2020_yw.isna().sum())\n",
    "\n",
    "print(df_2012_yw.duplicated().sum())\n",
    "print(df_2013_yw.duplicated().sum())\n",
    "print(df_2014_yw.duplicated().sum())\n",
    "print(df_2015_yw.duplicated().sum())\n",
    "print(df_2016_yw.duplicated().sum())\n",
    "print(df_2017_yw.duplicated().sum())\n",
    "print(df_2018_yw.duplicated().sum())\n",
    "print(df_2019_yw.duplicated().sum())\n",
    "print(df_2020_yw.duplicated().sum())"
   ]
  },
  {
   "cell_type": "code",
   "execution_count": 71,
   "id": "1bbdfc07",
   "metadata": {},
   "outputs": [
    {
     "name": "stdout",
     "output_type": "stream",
     "text": [
      "0\n",
      "0\n",
      "0\n",
      "0\n",
      "0\n",
      "0\n",
      "0\n",
      "0\n",
      "0\n"
     ]
    }
   ],
   "source": [
    "#Note: I will not drop all rows with null values, as I might not need that particular column from that dataset\n",
    "#for my visualization.\n",
    "#I will however, remove the duplicated values, as it serves not purpose to have duplicate rows.\n",
    "df_2012_yw.drop_duplicates(inplace=True)\n",
    "df_2013_yw.drop_duplicates(inplace=True)\n",
    "df_2014_yw.drop_duplicates(inplace=True)\n",
    "df_2015_yw.drop_duplicates(inplace=True)\n",
    "df_2016_yw.drop_duplicates(inplace=True)\n",
    "df_2017_yw.drop_duplicates(inplace=True)\n",
    "df_2018_yw.drop_duplicates(inplace=True)\n",
    "df_2019_yw.drop_duplicates(inplace=True)\n",
    "df_2020_yw.drop_duplicates(inplace=True)\n",
    "\n",
    "print(df_2012_yw.duplicated().sum())\n",
    "print(df_2013_yw.duplicated().sum())\n",
    "print(df_2014_yw.duplicated().sum())\n",
    "print(df_2015_yw.duplicated().sum())\n",
    "print(df_2016_yw.duplicated().sum())\n",
    "print(df_2017_yw.duplicated().sum())\n",
    "print(df_2018_yw.duplicated().sum())\n",
    "print(df_2019_yw.duplicated().sum())\n",
    "print(df_2020_yw.duplicated().sum())"
   ]
  },
  {
   "cell_type": "markdown",
   "id": "7e52dab8",
   "metadata": {},
   "source": [
    "Visualizing the data. For visualizing the Wage rate by job category, I require the fields:\n",
    "1) PWD_SOC_CODE_TITLE  \n",
    "2) PWD_WAGE_RATE\n",
    "\n",
    "    Thus, I will remove all rows with null values in the above two columns.\n"
   ]
  },
  {
   "cell_type": "code",
   "execution_count": 72,
   "id": "64fcf54a",
   "metadata": {},
   "outputs": [],
   "source": [
    "df_2012_yw.dropna(subset=['PWD_WAGE_RATE', 'PWD_SOC_CODE_TITLE'],inplace=True)\n",
    "df_2013_yw.dropna(subset=['PWD_WAGE_RATE', 'PWD_SOC_CODE_TITLE'],inplace=True)\n",
    "df_2014_yw.dropna(subset=['PWD_WAGE_RATE', 'PWD_SOC_CODE_TITLE'],inplace=True)\n",
    "df_2015_yw.dropna(subset=['PWD_WAGE_RATE', 'PWD_SOC_CODE_TITLE'],inplace=True)\n",
    "df_2016_yw.dropna(subset=['PWD_WAGE_RATE', 'PWD_SOC_CODE_TITLE'],inplace=True)\n",
    "df_2017_yw.dropna(subset=['PWD_WAGE_RATE', 'PWD_SOC_CODE_TITLE'],inplace=True)\n",
    "df_2018_yw.dropna(subset=['PWD_WAGE_RATE', 'PWD_SOC_CODE_TITLE'],inplace=True)\n",
    "df_2019_yw.dropna(subset=['PWD_WAGE_RATE', 'PWD_SOC_CODE_TITLE'],inplace=True)\n",
    "df_2020_yw.dropna(subset=['PWD_WAGE_RATE', 'PWD_SOC_CODE_TITLE'],inplace=True)"
   ]
  },
  {
   "cell_type": "markdown",
   "id": "9b4dc63b",
   "metadata": {},
   "source": [
    "Subsetting the dataframes into ones with only useful columns:"
   ]
  },
  {
   "cell_type": "code",
   "execution_count": 73,
   "id": "8d3d7f84",
   "metadata": {},
   "outputs": [],
   "source": [
    "df_2012_yw_jc=df_2012_yw.filter(['PWD_WAGE_RATE', 'PWD_SOC_CODE_TITLE'],axis=1)\n",
    "df_2013_yw_jc=df_2013_yw.filter(['PWD_WAGE_RATE', 'PWD_SOC_CODE_TITLE'],axis=1)\n",
    "df_2014_yw_jc=df_2014_yw.filter(['PWD_WAGE_RATE', 'PWD_SOC_CODE_TITLE'],axis=1)\n",
    "df_2015_yw_jc=df_2015_yw.filter(['PWD_WAGE_RATE', 'PWD_SOC_CODE_TITLE'],axis=1)\n",
    "df_2016_yw_jc=df_2016_yw.filter(['PWD_WAGE_RATE', 'PWD_SOC_CODE_TITLE'],axis=1)\n",
    "df_2017_yw_jc=df_2017_yw.filter(['PWD_WAGE_RATE', 'PWD_SOC_CODE_TITLE'],axis=1)\n",
    "df_2018_yw_jc=df_2018_yw.filter(['PWD_WAGE_RATE', 'PWD_SOC_CODE_TITLE'],axis=1)\n",
    "df_2019_yw_jc=df_2019_yw.filter(['PWD_WAGE_RATE', 'PWD_SOC_CODE_TITLE'],axis=1)\n",
    "df_2020_yw_jc=df_2020_yw.filter(['PWD_WAGE_RATE', 'PWD_SOC_CODE_TITLE'],axis=1)"
   ]
  },
  {
   "cell_type": "markdown",
   "id": "b009d216",
   "metadata": {},
   "source": [
    "Finding average Wage rate for All job categories."
   ]
  },
  {
   "cell_type": "code",
   "execution_count": 74,
   "id": "97517f39",
   "metadata": {},
   "outputs": [],
   "source": [
    "df_2012_yw_jca = df_2012_yw_jc.groupby('PWD_SOC_CODE_TITLE', as_index=False)['PWD_WAGE_RATE'].mean()\n",
    "df_2013_yw_jca = df_2013_yw_jc.groupby('PWD_SOC_CODE_TITLE', as_index=False)['PWD_WAGE_RATE'].mean()\n",
    "df_2014_yw_jca = df_2014_yw_jc.groupby('PWD_SOC_CODE_TITLE', as_index=False)['PWD_WAGE_RATE'].mean()\n",
    "df_2015_yw_jca = df_2015_yw_jc.groupby('PWD_SOC_CODE_TITLE', as_index=False)['PWD_WAGE_RATE'].mean()\n",
    "df_2016_yw_jca = df_2016_yw_jc.groupby('PWD_SOC_CODE_TITLE', as_index=False)['PWD_WAGE_RATE'].mean()\n",
    "df_2017_yw_jca = df_2017_yw_jc.groupby('PWD_SOC_CODE_TITLE', as_index=False)['PWD_WAGE_RATE'].mean()\n",
    "df_2018_yw_jca = df_2018_yw_jc.groupby('PWD_SOC_CODE_TITLE', as_index=False)['PWD_WAGE_RATE'].mean()\n",
    "df_2019_yw_jca = df_2019_yw_jc.groupby('PWD_SOC_CODE_TITLE', as_index=False)['PWD_WAGE_RATE'].mean()\n",
    "df_2020_yw_jca = df_2020_yw_jc.groupby('PWD_SOC_CODE_TITLE', as_index=False)['PWD_WAGE_RATE'].mean()"
   ]
  },
  {
   "cell_type": "markdown",
   "id": "2508426b",
   "metadata": {},
   "source": [
    "Choosing 5 most common Job Categories by using value_counts() of 2012 as done in the beginning of this file:\n",
    "1)  Software Developers, Applications---------------29433  \n",
    "2)  Computer Systems Analysts-----------------------10341  \n",
    "3)  Software Developers, Systems Software-----------7047  \n",
    "4)  Electronics Engineers, Except Computer----------5381  \n",
    "5)  Computer and Information Systems Managers-------4946  "
   ]
  },
  {
   "cell_type": "markdown",
   "id": "6004a87e",
   "metadata": {},
   "source": [
    "Building the Dataframe for plotting by subsetting, and using other methods as follows:"
   ]
  },
  {
   "cell_type": "code",
   "execution_count": 75,
   "id": "fb85ce58",
   "metadata": {},
   "outputs": [
    {
     "data": {
      "text/html": [
       "<div>\n",
       "<style scoped>\n",
       "    .dataframe tbody tr th:only-of-type {\n",
       "        vertical-align: middle;\n",
       "    }\n",
       "\n",
       "    .dataframe tbody tr th {\n",
       "        vertical-align: top;\n",
       "    }\n",
       "\n",
       "    .dataframe thead th {\n",
       "        text-align: right;\n",
       "    }\n",
       "</style>\n",
       "<table border=\"1\" class=\"dataframe\">\n",
       "  <thead>\n",
       "    <tr style=\"text-align: right;\">\n",
       "      <th></th>\n",
       "      <th>Software Developers, Applications Wage Rate</th>\n",
       "      <th>Year</th>\n",
       "    </tr>\n",
       "  </thead>\n",
       "  <tbody>\n",
       "    <tr>\n",
       "      <th>0</th>\n",
       "      <td>90631.107558</td>\n",
       "      <td>2012</td>\n",
       "    </tr>\n",
       "    <tr>\n",
       "      <th>1</th>\n",
       "      <td>93037.920259</td>\n",
       "      <td>2013</td>\n",
       "    </tr>\n",
       "    <tr>\n",
       "      <th>2</th>\n",
       "      <td>95060.325147</td>\n",
       "      <td>2014</td>\n",
       "    </tr>\n",
       "    <tr>\n",
       "      <th>3</th>\n",
       "      <td>99084.129703</td>\n",
       "      <td>2015</td>\n",
       "    </tr>\n",
       "    <tr>\n",
       "      <th>4</th>\n",
       "      <td>101544.618380</td>\n",
       "      <td>2016</td>\n",
       "    </tr>\n",
       "    <tr>\n",
       "      <th>5</th>\n",
       "      <td>102802.479720</td>\n",
       "      <td>2017</td>\n",
       "    </tr>\n",
       "    <tr>\n",
       "      <th>6</th>\n",
       "      <td>104651.291624</td>\n",
       "      <td>2018</td>\n",
       "    </tr>\n",
       "    <tr>\n",
       "      <th>7</th>\n",
       "      <td>106615.311140</td>\n",
       "      <td>2019</td>\n",
       "    </tr>\n",
       "    <tr>\n",
       "      <th>8</th>\n",
       "      <td>108381.729738</td>\n",
       "      <td>2020</td>\n",
       "    </tr>\n",
       "  </tbody>\n",
       "</table>\n",
       "</div>"
      ],
      "text/plain": [
       "   Software Developers, Applications Wage Rate  Year\n",
       "0                                 90631.107558  2012\n",
       "1                                 93037.920259  2013\n",
       "2                                 95060.325147  2014\n",
       "3                                 99084.129703  2015\n",
       "4                                101544.618380  2016\n",
       "5                                102802.479720  2017\n",
       "6                                104651.291624  2018\n",
       "7                                106615.311140  2019\n",
       "8                                108381.729738  2020"
      ]
     },
     "execution_count": 75,
     "metadata": {},
     "output_type": "execute_result"
    }
   ],
   "source": [
    "df_plot_1 = df_2012_yw_jca[df_2012_yw_jca['PWD_SOC_CODE_TITLE']=='Software Developers, Applications']\n",
    "df_plot_1 = df_plot_1.append(df_2013_yw_jca[df_2013_yw_jca['PWD_SOC_CODE_TITLE']=='Software Developers, Applications'],ignore_index = True)\n",
    "df_plot_1 = df_plot_1.append(df_2014_yw_jca[df_2014_yw_jca['PWD_SOC_CODE_TITLE']=='Software Developers, Applications'],ignore_index = True)\n",
    "df_plot_1 = df_plot_1.append(df_2015_yw_jca[df_2015_yw_jca['PWD_SOC_CODE_TITLE']=='Software Developers, Applications'],ignore_index = True)\n",
    "df_plot_1 = df_plot_1.append(df_2016_yw_jca[df_2016_yw_jca['PWD_SOC_CODE_TITLE']=='Software Developers, Applications'],ignore_index = True)\n",
    "df_plot_1 = df_plot_1.append(df_2017_yw_jca[df_2017_yw_jca['PWD_SOC_CODE_TITLE']=='Software Developers, Applications'],ignore_index = True)\n",
    "df_plot_1 = df_plot_1.append(df_2018_yw_jca[df_2018_yw_jca['PWD_SOC_CODE_TITLE']=='Software Developers, Applications'],ignore_index = True)\n",
    "df_plot_1 = df_plot_1.append(df_2019_yw_jca[df_2019_yw_jca['PWD_SOC_CODE_TITLE']=='Software Developers, Applications'],ignore_index = True)\n",
    "df_plot_1 = df_plot_1.append(df_2020_yw_jca[df_2020_yw_jca['PWD_SOC_CODE_TITLE']=='Software Developers, Applications'],ignore_index = True)\n",
    "df_plot_1['Year']=['2012','2013','2014','2015','2016','2017','2018','2019','2020',]\n",
    "df_plot_1.rename(columns={df_plot_1.columns[0]:'PWD_SOC_CODE_TITLE',\n",
    "                       df_plot_1.columns[1]:'Software Developers, Applications Wage Rate',\n",
    "                       df_plot_1.columns[2]:'Year'},inplace=True)\n",
    "df_plot_1.drop(['PWD_SOC_CODE_TITLE'], axis=1, inplace=True)\n",
    "df_plot_1"
   ]
  },
  {
   "cell_type": "code",
   "execution_count": 76,
   "id": "a4b52df5",
   "metadata": {},
   "outputs": [],
   "source": [
    "df_temp = df_2012_yw_jca[df_2012_yw_jca['PWD_SOC_CODE_TITLE']=='Computer Systems Analysts']\n",
    "df_temp = df_2012_yw_jca[df_2012_yw_jca['PWD_SOC_CODE_TITLE']=='Computer Systems Analysts']\n",
    "df_temp = df_temp.append(df_2013_yw_jca[df_2013_yw_jca['PWD_SOC_CODE_TITLE']=='Computer Systems Analysts'],ignore_index = True)\n",
    "df_temp = df_temp.append(df_2014_yw_jca[df_2014_yw_jca['PWD_SOC_CODE_TITLE']=='Computer Systems Analysts'],ignore_index = True)\n",
    "df_temp = df_temp.append(df_2015_yw_jca[df_2015_yw_jca['PWD_SOC_CODE_TITLE']=='Computer Systems Analysts'],ignore_index = True)\n",
    "df_temp = df_temp.append(df_2016_yw_jca[df_2016_yw_jca['PWD_SOC_CODE_TITLE']=='Computer Systems Analysts'],ignore_index = True)\n",
    "df_temp = df_temp.append(df_2017_yw_jca[df_2017_yw_jca['PWD_SOC_CODE_TITLE']=='Computer Systems Analysts'],ignore_index = True)\n",
    "df_temp = df_temp.append(df_2018_yw_jca[df_2018_yw_jca['PWD_SOC_CODE_TITLE']=='Computer Systems Analysts'],ignore_index = True)\n",
    "df_temp = df_temp.append(df_2019_yw_jca[df_2019_yw_jca['PWD_SOC_CODE_TITLE']=='Computer Systems Analysts'],ignore_index = True)\n",
    "df_temp = df_temp.append(df_2020_yw_jca[df_2020_yw_jca['PWD_SOC_CODE_TITLE']=='Computer Systems Analysts'],ignore_index = True)\n",
    "df_temp.drop(['PWD_SOC_CODE_TITLE'], axis=1, inplace=True)\n",
    "df_plot_1['Computer Systems Analysts Wage Rate'] = df_temp['PWD_WAGE_RATE']"
   ]
  },
  {
   "cell_type": "code",
   "execution_count": 77,
   "id": "79cec823",
   "metadata": {},
   "outputs": [],
   "source": [
    "df_temp = df_2012_yw_jca[df_2012_yw_jca['PWD_SOC_CODE_TITLE']=='Software Developers, Systems Software']\n",
    "df_temp = df_2012_yw_jca[df_2012_yw_jca['PWD_SOC_CODE_TITLE']=='Software Developers, Systems Software']\n",
    "df_temp = df_temp.append(df_2013_yw_jca[df_2013_yw_jca['PWD_SOC_CODE_TITLE']=='Software Developers, Systems Software'],ignore_index = True)\n",
    "df_temp = df_temp.append(df_2014_yw_jca[df_2014_yw_jca['PWD_SOC_CODE_TITLE']=='Software Developers, Systems Software'],ignore_index = True)\n",
    "df_temp = df_temp.append(df_2015_yw_jca[df_2015_yw_jca['PWD_SOC_CODE_TITLE']=='Software Developers, Systems Software'],ignore_index = True)\n",
    "df_temp = df_temp.append(df_2016_yw_jca[df_2016_yw_jca['PWD_SOC_CODE_TITLE']=='Software Developers, Systems Software'],ignore_index = True)\n",
    "df_temp = df_temp.append(df_2017_yw_jca[df_2017_yw_jca['PWD_SOC_CODE_TITLE']=='Software Developers, Systems Software'],ignore_index = True)\n",
    "df_temp = df_temp.append(df_2018_yw_jca[df_2018_yw_jca['PWD_SOC_CODE_TITLE']=='Software Developers, Systems Software'],ignore_index = True)\n",
    "df_temp = df_temp.append(df_2019_yw_jca[df_2019_yw_jca['PWD_SOC_CODE_TITLE']=='Software Developers, Systems Software'],ignore_index = True)\n",
    "df_temp = df_temp.append(df_2020_yw_jca[df_2020_yw_jca['PWD_SOC_CODE_TITLE']=='Software Developers, Systems Software'],ignore_index = True)\n",
    "df_temp.drop(['PWD_SOC_CODE_TITLE'], axis=1, inplace=True)\n",
    "df_plot_1['Software Developers, Systems Software Wage Rate'] = df_temp['PWD_WAGE_RATE']"
   ]
  },
  {
   "cell_type": "code",
   "execution_count": 78,
   "id": "b217e0cb",
   "metadata": {},
   "outputs": [],
   "source": [
    "df_temp = df_2012_yw_jca[df_2012_yw_jca['PWD_SOC_CODE_TITLE']=='Electronics Engineers, Except Computer']\n",
    "df_temp = df_2012_yw_jca[df_2012_yw_jca['PWD_SOC_CODE_TITLE']=='Electronics Engineers, Except Computer']\n",
    "df_temp = df_temp.append(df_2013_yw_jca[df_2013_yw_jca['PWD_SOC_CODE_TITLE']=='Electronics Engineers, Except Computer'],ignore_index = True)\n",
    "df_temp = df_temp.append(df_2014_yw_jca[df_2014_yw_jca['PWD_SOC_CODE_TITLE']=='Electronics Engineers, Except Computer'],ignore_index = True)\n",
    "df_temp = df_temp.append(df_2015_yw_jca[df_2015_yw_jca['PWD_SOC_CODE_TITLE']=='Electronics Engineers, Except Computer'],ignore_index = True)\n",
    "df_temp = df_temp.append(df_2016_yw_jca[df_2016_yw_jca['PWD_SOC_CODE_TITLE']=='Electronics Engineers, Except Computer'],ignore_index = True)\n",
    "df_temp = df_temp.append(df_2017_yw_jca[df_2017_yw_jca['PWD_SOC_CODE_TITLE']=='Electronics Engineers, Except Computer'],ignore_index = True)\n",
    "df_temp = df_temp.append(df_2018_yw_jca[df_2018_yw_jca['PWD_SOC_CODE_TITLE']=='Electronics Engineers, Except Computer'],ignore_index = True)\n",
    "df_temp = df_temp.append(df_2019_yw_jca[df_2019_yw_jca['PWD_SOC_CODE_TITLE']=='Electronics Engineers, Except Computer'],ignore_index = True)\n",
    "df_temp = df_temp.append(df_2020_yw_jca[df_2020_yw_jca['PWD_SOC_CODE_TITLE']=='Electronics Engineers, Except Computer'],ignore_index = True)\n",
    "df_temp.drop(['PWD_SOC_CODE_TITLE'], axis=1, inplace=True)\n",
    "df_plot_1['Electronics Engineers, Except Computer Wage Rate'] = df_temp['PWD_WAGE_RATE']"
   ]
  },
  {
   "cell_type": "code",
   "execution_count": 79,
   "id": "abd40bfd",
   "metadata": {},
   "outputs": [],
   "source": [
    "df_temp = df_2012_yw_jca[df_2012_yw_jca['PWD_SOC_CODE_TITLE']=='Computer and Information Systems Managers']\n",
    "df_temp = df_2012_yw_jca[df_2012_yw_jca['PWD_SOC_CODE_TITLE']=='Computer and Information Systems Managers']\n",
    "df_temp = df_temp.append(df_2013_yw_jca[df_2013_yw_jca['PWD_SOC_CODE_TITLE']=='Computer and Information Systems Managers'],ignore_index = True)\n",
    "df_temp = df_temp.append(df_2014_yw_jca[df_2014_yw_jca['PWD_SOC_CODE_TITLE']=='Computer and Information Systems Managers'],ignore_index = True)\n",
    "df_temp = df_temp.append(df_2015_yw_jca[df_2015_yw_jca['PWD_SOC_CODE_TITLE']=='Computer and Information Systems Managers'],ignore_index = True)\n",
    "df_temp = df_temp.append(df_2016_yw_jca[df_2016_yw_jca['PWD_SOC_CODE_TITLE']=='Computer and Information Systems Managers'],ignore_index = True)\n",
    "df_temp = df_temp.append(df_2017_yw_jca[df_2017_yw_jca['PWD_SOC_CODE_TITLE']=='Computer and Information Systems Managers'],ignore_index = True)\n",
    "df_temp = df_temp.append(df_2018_yw_jca[df_2018_yw_jca['PWD_SOC_CODE_TITLE']=='Computer and Information Systems Managers'],ignore_index = True)\n",
    "df_temp = df_temp.append(df_2019_yw_jca[df_2019_yw_jca['PWD_SOC_CODE_TITLE']=='Computer and Information Systems Managers'],ignore_index = True)\n",
    "df_temp = df_temp.append(df_2020_yw_jca[df_2020_yw_jca['PWD_SOC_CODE_TITLE']=='Computer and Information Systems Managers'],ignore_index = True)\n",
    "df_temp.drop(['PWD_SOC_CODE_TITLE'], axis=1, inplace=True)\n",
    "df_plot_1['Computer and Information Systems Managers Wage Rate'] = df_temp['PWD_WAGE_RATE']"
   ]
  },
  {
   "cell_type": "code",
   "execution_count": 80,
   "id": "516de201",
   "metadata": {},
   "outputs": [
    {
     "data": {
      "text/html": [
       "<div>\n",
       "<style scoped>\n",
       "    .dataframe tbody tr th:only-of-type {\n",
       "        vertical-align: middle;\n",
       "    }\n",
       "\n",
       "    .dataframe tbody tr th {\n",
       "        vertical-align: top;\n",
       "    }\n",
       "\n",
       "    .dataframe thead th {\n",
       "        text-align: right;\n",
       "    }\n",
       "</style>\n",
       "<table border=\"1\" class=\"dataframe\">\n",
       "  <thead>\n",
       "    <tr style=\"text-align: right;\">\n",
       "      <th></th>\n",
       "      <th>Software Developers, Applications Wage Rate</th>\n",
       "      <th>Year</th>\n",
       "      <th>Computer Systems Analysts Wage Rate</th>\n",
       "      <th>Software Developers, Systems Software Wage Rate</th>\n",
       "      <th>Electronics Engineers, Except Computer Wage Rate</th>\n",
       "      <th>Computer and Information Systems Managers Wage Rate</th>\n",
       "    </tr>\n",
       "  </thead>\n",
       "  <tbody>\n",
       "    <tr>\n",
       "      <th>0</th>\n",
       "      <td>90631.107558</td>\n",
       "      <td>2012</td>\n",
       "      <td>85474.716298</td>\n",
       "      <td>99879.203795</td>\n",
       "      <td>92264.918031</td>\n",
       "      <td>134406.975549</td>\n",
       "    </tr>\n",
       "    <tr>\n",
       "      <th>1</th>\n",
       "      <td>93037.920259</td>\n",
       "      <td>2013</td>\n",
       "      <td>86776.279033</td>\n",
       "      <td>102230.961900</td>\n",
       "      <td>96382.046414</td>\n",
       "      <td>138995.741528</td>\n",
       "    </tr>\n",
       "    <tr>\n",
       "      <th>2</th>\n",
       "      <td>95060.325147</td>\n",
       "      <td>2014</td>\n",
       "      <td>88566.756699</td>\n",
       "      <td>106288.803015</td>\n",
       "      <td>99442.336257</td>\n",
       "      <td>145621.654723</td>\n",
       "    </tr>\n",
       "    <tr>\n",
       "      <th>3</th>\n",
       "      <td>99084.129703</td>\n",
       "      <td>2015</td>\n",
       "      <td>91253.539876</td>\n",
       "      <td>111352.076546</td>\n",
       "      <td>101492.729126</td>\n",
       "      <td>147947.630400</td>\n",
       "    </tr>\n",
       "    <tr>\n",
       "      <th>4</th>\n",
       "      <td>101544.618380</td>\n",
       "      <td>2016</td>\n",
       "      <td>92889.668935</td>\n",
       "      <td>111634.002206</td>\n",
       "      <td>100742.408174</td>\n",
       "      <td>146137.051353</td>\n",
       "    </tr>\n",
       "    <tr>\n",
       "      <th>5</th>\n",
       "      <td>102802.479720</td>\n",
       "      <td>2017</td>\n",
       "      <td>94998.721887</td>\n",
       "      <td>113527.157236</td>\n",
       "      <td>102956.615394</td>\n",
       "      <td>152887.273486</td>\n",
       "    </tr>\n",
       "    <tr>\n",
       "      <th>6</th>\n",
       "      <td>104651.291624</td>\n",
       "      <td>2018</td>\n",
       "      <td>96428.071221</td>\n",
       "      <td>115452.833487</td>\n",
       "      <td>105032.964859</td>\n",
       "      <td>156501.461974</td>\n",
       "    </tr>\n",
       "    <tr>\n",
       "      <th>7</th>\n",
       "      <td>106615.311140</td>\n",
       "      <td>2019</td>\n",
       "      <td>97789.077705</td>\n",
       "      <td>115923.917556</td>\n",
       "      <td>105329.190854</td>\n",
       "      <td>162818.330426</td>\n",
       "    </tr>\n",
       "    <tr>\n",
       "      <th>8</th>\n",
       "      <td>108381.729738</td>\n",
       "      <td>2020</td>\n",
       "      <td>99290.591587</td>\n",
       "      <td>117282.367484</td>\n",
       "      <td>108223.145220</td>\n",
       "      <td>168722.477491</td>\n",
       "    </tr>\n",
       "  </tbody>\n",
       "</table>\n",
       "</div>"
      ],
      "text/plain": [
       "   Software Developers, Applications Wage Rate  Year  \\\n",
       "0                                 90631.107558  2012   \n",
       "1                                 93037.920259  2013   \n",
       "2                                 95060.325147  2014   \n",
       "3                                 99084.129703  2015   \n",
       "4                                101544.618380  2016   \n",
       "5                                102802.479720  2017   \n",
       "6                                104651.291624  2018   \n",
       "7                                106615.311140  2019   \n",
       "8                                108381.729738  2020   \n",
       "\n",
       "   Computer Systems Analysts Wage Rate  \\\n",
       "0                         85474.716298   \n",
       "1                         86776.279033   \n",
       "2                         88566.756699   \n",
       "3                         91253.539876   \n",
       "4                         92889.668935   \n",
       "5                         94998.721887   \n",
       "6                         96428.071221   \n",
       "7                         97789.077705   \n",
       "8                         99290.591587   \n",
       "\n",
       "   Software Developers, Systems Software Wage Rate  \\\n",
       "0                                     99879.203795   \n",
       "1                                    102230.961900   \n",
       "2                                    106288.803015   \n",
       "3                                    111352.076546   \n",
       "4                                    111634.002206   \n",
       "5                                    113527.157236   \n",
       "6                                    115452.833487   \n",
       "7                                    115923.917556   \n",
       "8                                    117282.367484   \n",
       "\n",
       "   Electronics Engineers, Except Computer Wage Rate  \\\n",
       "0                                      92264.918031   \n",
       "1                                      96382.046414   \n",
       "2                                      99442.336257   \n",
       "3                                     101492.729126   \n",
       "4                                     100742.408174   \n",
       "5                                     102956.615394   \n",
       "6                                     105032.964859   \n",
       "7                                     105329.190854   \n",
       "8                                     108223.145220   \n",
       "\n",
       "   Computer and Information Systems Managers Wage Rate  \n",
       "0                                      134406.975549    \n",
       "1                                      138995.741528    \n",
       "2                                      145621.654723    \n",
       "3                                      147947.630400    \n",
       "4                                      146137.051353    \n",
       "5                                      152887.273486    \n",
       "6                                      156501.461974    \n",
       "7                                      162818.330426    \n",
       "8                                      168722.477491    "
      ]
     },
     "execution_count": 80,
     "metadata": {},
     "output_type": "execute_result"
    }
   ],
   "source": [
    "#The data frame is built for plotting!\n",
    "df_plot_1"
   ]
  },
  {
   "cell_type": "markdown",
   "id": "2ae61d67",
   "metadata": {},
   "source": [
    "The above is the required Dataframe."
   ]
  },
  {
   "cell_type": "markdown",
   "id": "5a0ce438",
   "metadata": {},
   "source": [
    "#  Visualize the Time Series Graph"
   ]
  },
  {
   "cell_type": "code",
   "execution_count": 81,
   "id": "87eb58d2",
   "metadata": {},
   "outputs": [],
   "source": [
    "%matplotlib inline \n",
    "\n",
    "import matplotlib as mpl\n",
    "import matplotlib.pyplot as plt\n",
    "import plotly.express as px\n"
   ]
  },
  {
   "cell_type": "code",
   "execution_count": 118,
   "id": "e0bd762e",
   "metadata": {},
   "outputs": [
    {
     "data": {
      "text/plain": [
       "Text(0.5, 0, 'Years')"
      ]
     },
     "execution_count": 118,
     "metadata": {},
     "output_type": "execute_result"
    },
    {
     "data": {
      "image/png": "[encoded data removed]",
      "text/plain": [
       "<Figure size 1080x720 with 1 Axes>"
      ]
     },
     "metadata": {
      "needs_background": "light"
     },
     "output_type": "display_data"
    }
   ],
   "source": [
    "#Visualize the data:\n",
    "df_plot_1.plot(kind='line',figsize=(15,10),x='Year',grid=True)\n",
    "plt.title('Wage Rate for Job Categories')\n",
    "plt.ylabel('Wage Rate')\n",
    "plt.xlabel('Years')"
   ]
  },
  {
   "cell_type": "code",
   "execution_count": 119,
   "id": "abf2c44f",
   "metadata": {},
   "outputs": [
    {
     "data": {
      "application/vnd.plotly.v1+json": {
       "config": {
        "plotlyServerURL": "https://plot.ly"
       },
       "data": [
        {
         "hovertemplate": "variable=Software Developers, Applications Wage Rate<br>Year=%{x}<br>value=%{y}<extra></extra>",
         "legendgroup": "Software Developers, Applications Wage Rate",
         "line": {
          "color": "#1F77B4",
          "dash": "solid",
          "shape": "linear"
         },
         "marker": {
          "symbol": "circle"
         },
         "mode": "markers+lines",
         "name": "Software Developers, Applications Wage Rate",
         "orientation": "v",
         "showlegend": true,
         "type": "scatter",
         "x": [
          "2012",
          "2013",
          "2014",
          "2015",
          "2016",
          "2017",
          "2018",
          "2019",
          "2020"
         ],
         "xaxis": "x",
         "y": [
          90631.10755773776,
          93037.92025892867,
          95060.32514684211,
          99084.12970348382,
          101544.61838040048,
          102802.4797195279,
          104651.29162405794,
          106615.31114038973,
          108381.72973844488
         ],
         "yaxis": "y"
        },
        {
         "hovertemplate": "variable=Computer Systems Analysts Wage Rate<br>Year=%{x}<br>value=%{y}<extra></extra>",
         "legendgroup": "Computer Systems Analysts Wage Rate",
         "line": {
          "color": "#FF7F0E",
          "dash": "solid",
          "shape": "linear"
         },
         "marker": {
          "symbol": "circle"
         },
         "mode": "markers+lines",
         "name": "Computer Systems Analysts Wage Rate",
         "orientation": "v",
         "showlegend": true,
         "type": "scatter",
         "x": [
          "2012",
          "2013",
          "2014",
          "2015",
          "2016",
          "2017",
          "2018",
          "2019",
          "2020"
         ],
         "xaxis": "x",
         "y": [
          85474.71629802533,
          86776.27903269588,
          88566.75669857697,
          91253.53987612338,
          92889.66893475683,
          94998.7218868707,
          96428.07122059431,
          97789.077704675,
          99290.59158745594
         ],
         "yaxis": "y"
        },
        {
         "hovertemplate": "variable=Software Developers, Systems Software Wage Rate<br>Year=%{x}<br>value=%{y}<extra></extra>",
         "legendgroup": "Software Developers, Systems Software Wage Rate",
         "line": {
          "color": "#2CA02C",
          "dash": "solid",
          "shape": "linear"
         },
         "marker": {
          "symbol": "circle"
         },
         "mode": "markers+lines",
         "name": "Software Developers, Systems Software Wage Rate",
         "orientation": "v",
         "showlegend": true,
         "type": "scatter",
         "x": [
          "2012",
          "2013",
          "2014",
          "2015",
          "2016",
          "2017",
          "2018",
          "2019",
          "2020"
         ],
         "xaxis": "x",
         "y": [
          99879.20379543156,
          102230.96189964762,
          106288.80301461631,
          111352.07654554442,
          111634.0022060926,
          113527.15723639457,
          115452.8334873111,
          115923.91755638461,
          117282.3674841993
         ],
         "yaxis": "y"
        },
        {
         "hovertemplate": "variable=Electronics Engineers, Except Computer Wage Rate<br>Year=%{x}<br>value=%{y}<extra></extra>",
         "legendgroup": "Electronics Engineers, Except Computer Wage Rate",
         "line": {
          "color": "#D62728",
          "dash": "solid",
          "shape": "linear"
         },
         "marker": {
          "symbol": "circle"
         },
         "mode": "markers+lines",
         "name": "Electronics Engineers, Except Computer Wage Rate",
         "orientation": "v",
         "showlegend": true,
         "type": "scatter",
         "x": [
          "2012",
          "2013",
          "2014",
          "2015",
          "2016",
          "2017",
          "2018",
          "2019",
          "2020"
         ],
         "xaxis": "x",
         "y": [
          92264.91803101044,
          96382.0464135112,
          99442.33625740898,
          101492.72912573673,
          100742.40817382307,
          102956.61539390455,
          105032.9648590671,
          105329.19085413929,
          108223.14522009321
         ],
         "yaxis": "y"
        },
        {
         "hovertemplate": "variable=Computer and Information Systems Managers Wage Rate<br>Year=%{x}<br>value=%{y}<extra></extra>",
         "legendgroup": "Computer and Information Systems Managers Wage Rate",
         "line": {
          "color": "#9467BD",
          "dash": "solid",
          "shape": "linear"
         },
         "marker": {
          "symbol": "circle"
         },
         "mode": "markers+lines",
         "name": "Computer and Information Systems Managers Wage Rate",
         "orientation": "v",
         "showlegend": true,
         "type": "scatter",
         "x": [
          "2012",
          "2013",
          "2014",
          "2015",
          "2016",
          "2017",
          "2018",
          "2019",
          "2020"
         ],
         "xaxis": "x",
         "y": [
          134406.97554909703,
          138995.74152817574,
          145621.6547230865,
          147947.6304,
          146137.05135340246,
          152887.2734864033,
          156501.46197395478,
          162818.33042608981,
          168722.47749117741
         ],
         "yaxis": "y"
        }
       ],
       "layout": {
        "legend": {
         "title": {
          "text": "variable"
         },
         "tracegroupgap": 0
        },
        "template": {
         "data": {
          "bar": [
           {
            "error_x": {
             "color": "rgb(36,36,36)"
            },
            "error_y": {
             "color": "rgb(36,36,36)"
            },
            "marker": {
             "line": {
              "color": "white",
              "width": 0.5
             },
             "pattern": {
              "fillmode": "overlay",
              "size": 10,
              "solidity": 0.2
             }
            },
            "type": "bar"
           }
          ],
          "barpolar": [
           {
            "marker": {
             "line": {
              "color": "white",
              "width": 0.5
             },
             "pattern": {
              "fillmode": "overlay",
              "size": 10,
              "solidity": 0.2
             }
            },
            "type": "barpolar"
           }
          ],
          "carpet": [
           {
            "aaxis": {
             "endlinecolor": "rgb(36,36,36)",
             "gridcolor": "white",
             "linecolor": "white",
             "minorgridcolor": "white",
             "startlinecolor": "rgb(36,36,36)"
            },
            "baxis": {
             "endlinecolor": "rgb(36,36,36)",
             "gridcolor": "white",
             "linecolor": "white",
             "minorgridcolor": "white",
             "startlinecolor": "rgb(36,36,36)"
            },
            "type": "carpet"
           }
          ],
          "choropleth": [
           {
            "colorbar": {
             "outlinewidth": 1,
             "tickcolor": "rgb(36,36,36)",
             "ticks": "outside"
            },
            "type": "choropleth"
           }
          ],
          "contour": [
           {
            "colorbar": {
             "outlinewidth": 1,
             "tickcolor": "rgb(36,36,36)",
             "ticks": "outside"
            },
            "colorscale": [
             [
              0,
              "#440154"
             ],
             [
              0.1111111111111111,
              "#482878"
             ],
             [
              0.2222222222222222,
              "#3e4989"
             ],
             [
              0.3333333333333333,
              "#31688e"
             ],
             [
              0.4444444444444444,
              "#26828e"
             ],
             [
              0.5555555555555556,
              "#1f9e89"
             ],
             [
              0.6666666666666666,
              "#35b779"
             ],
             [
              0.7777777777777778,
              "#6ece58"
             ],
             [
              0.8888888888888888,
              "#b5de2b"
             ],
             [
              1,
              "#fde725"
             ]
            ],
            "type": "contour"
           }
          ],
          "contourcarpet": [
           {
            "colorbar": {
             "outlinewidth": 1,
             "tickcolor": "rgb(36,36,36)",
             "ticks": "outside"
            },
            "type": "contourcarpet"
           }
          ],
          "heatmap": [
           {
            "colorbar": {
             "outlinewidth": 1,
             "tickcolor": "rgb(36,36,36)",
             "ticks": "outside"
            },
            "colorscale": [
             [
              0,
              "#440154"
             ],
             [
              0.1111111111111111,
              "#482878"
             ],
             [
              0.2222222222222222,
              "#3e4989"
             ],
             [
              0.3333333333333333,
              "#31688e"
             ],
             [
              0.4444444444444444,
              "#26828e"
             ],
             [
              0.5555555555555556,
              "#1f9e89"
             ],
             [
              0.6666666666666666,
              "#35b779"
             ],
             [
              0.7777777777777778,
              "#6ece58"
             ],
             [
              0.8888888888888888,
              "#b5de2b"
             ],
             [
              1,
              "#fde725"
             ]
            ],
            "type": "heatmap"
           }
          ],
          "heatmapgl": [
           {
            "colorbar": {
             "outlinewidth": 1,
             "tickcolor": "rgb(36,36,36)",
             "ticks": "outside"
            },
            "colorscale": [
             [
              0,
              "#440154"
             ],
             [
              0.1111111111111111,
              "#482878"
             ],
             [
              0.2222222222222222,
              "#3e4989"
             ],
             [
              0.3333333333333333,
              "#31688e"
             ],
             [
              0.4444444444444444,
              "#26828e"
             ],
             [
              0.5555555555555556,
              "#1f9e89"
             ],
             [
              0.6666666666666666,
              "#35b779"
             ],
             [
              0.7777777777777778,
              "#6ece58"
             ],
             [
              0.8888888888888888,
              "#b5de2b"
             ],
             [
              1,
              "#fde725"
             ]
            ],
            "type": "heatmapgl"
           }
          ],
          "histogram": [
           {
            "marker": {
             "line": {
              "color": "white",
              "width": 0.6
             }
            },
            "type": "histogram"
           }
          ],
          "histogram2d": [
           {
            "colorbar": {
             "outlinewidth": 1,
             "tickcolor": "rgb(36,36,36)",
             "ticks": "outside"
            },
            "colorscale": [
             [
              0,
              "#440154"
             ],
             [
              0.1111111111111111,
              "#482878"
             ],
             [
              0.2222222222222222,
              "#3e4989"
             ],
             [
              0.3333333333333333,
              "#31688e"
             ],
             [
              0.4444444444444444,
              "#26828e"
             ],
             [
              0.5555555555555556,
              "#1f9e89"
             ],
             [
              0.6666666666666666,
              "#35b779"
             ],
             [
              0.7777777777777778,
              "#6ece58"
             ],
             [
              0.8888888888888888,
              "#b5de2b"
             ],
             [
              1,
              "#fde725"
             ]
            ],
            "type": "histogram2d"
           }
          ],
          "histogram2dcontour": [
           {
            "colorbar": {
             "outlinewidth": 1,
             "tickcolor": "rgb(36,36,36)",
             "ticks": "outside"
            },
            "colorscale": [
             [
              0,
              "#440154"
             ],
             [
              0.1111111111111111,
              "#482878"
             ],
             [
              0.2222222222222222,
              "#3e4989"
             ],
             [
              0.3333333333333333,
              "#31688e"
             ],
             [
              0.4444444444444444,
              "#26828e"
             ],
             [
              0.5555555555555556,
              "#1f9e89"
             ],
             [
              0.6666666666666666,
              "#35b779"
             ],
             [
              0.7777777777777778,
              "#6ece58"
             ],
             [
              0.8888888888888888,
              "#b5de2b"
             ],
             [
              1,
              "#fde725"
             ]
            ],
            "type": "histogram2dcontour"
           }
          ],
          "mesh3d": [
           {
            "colorbar": {
             "outlinewidth": 1,
             "tickcolor": "rgb(36,36,36)",
             "ticks": "outside"
            },
            "type": "mesh3d"
           }
          ],
          "parcoords": [
           {
            "line": {
             "colorbar": {
              "outlinewidth": 1,
              "tickcolor": "rgb(36,36,36)",
              "ticks": "outside"
             }
            },
            "type": "parcoords"
           }
          ],
          "pie": [
           {
            "automargin": true,
            "type": "pie"
           }
          ],
          "scatter": [
           {
            "marker": {
             "colorbar": {
              "outlinewidth": 1,
              "tickcolor": "rgb(36,36,36)",
              "ticks": "outside"
             }
            },
            "type": "scatter"
           }
          ],
          "scatter3d": [
           {
            "line": {
             "colorbar": {
              "outlinewidth": 1,
              "tickcolor": "rgb(36,36,36)",
              "ticks": "outside"
             }
            },
            "marker": {
             "colorbar": {
              "outlinewidth": 1,
              "tickcolor": "rgb(36,36,36)",
              "ticks": "outside"
             }
            },
            "type": "scatter3d"
           }
          ],
          "scattercarpet": [
           {
            "marker": {
             "colorbar": {
              "outlinewidth": 1,
              "tickcolor": "rgb(36,36,36)",
              "ticks": "outside"
             }
            },
            "type": "scattercarpet"
           }
          ],
          "scattergeo": [
           {
            "marker": {
             "colorbar": {
              "outlinewidth": 1,
              "tickcolor": "rgb(36,36,36)",
              "ticks": "outside"
             }
            },
            "type": "scattergeo"
           }
          ],
          "scattergl": [
           {
            "marker": {
             "colorbar": {
              "outlinewidth": 1,
              "tickcolor": "rgb(36,36,36)",
              "ticks": "outside"
             }
            },
            "type": "scattergl"
           }
          ],
          "scattermapbox": [
           {
            "marker": {
             "colorbar": {
              "outlinewidth": 1,
              "tickcolor": "rgb(36,36,36)",
              "ticks": "outside"
             }
            },
            "type": "scattermapbox"
           }
          ],
          "scatterpolar": [
           {
            "marker": {
             "colorbar": {
              "outlinewidth": 1,
              "tickcolor": "rgb(36,36,36)",
              "ticks": "outside"
             }
            },
            "type": "scatterpolar"
           }
          ],
          "scatterpolargl": [
           {
            "marker": {
             "colorbar": {
              "outlinewidth": 1,
              "tickcolor": "rgb(36,36,36)",
              "ticks": "outside"
             }
            },
            "type": "scatterpolargl"
           }
          ],
          "scatterternary": [
           {
            "marker": {
             "colorbar": {
              "outlinewidth": 1,
              "tickcolor": "rgb(36,36,36)",
              "ticks": "outside"
             }
            },
            "type": "scatterternary"
           }
          ],
          "surface": [
           {
            "colorbar": {
             "outlinewidth": 1,
             "tickcolor": "rgb(36,36,36)",
             "ticks": "outside"
            },
            "colorscale": [
             [
              0,
              "#440154"
             ],
             [
              0.1111111111111111,
              "#482878"
             ],
             [
              0.2222222222222222,
              "#3e4989"
             ],
             [
              0.3333333333333333,
              "#31688e"
             ],
             [
              0.4444444444444444,
              "#26828e"
             ],
             [
              0.5555555555555556,
              "#1f9e89"
             ],
             [
              0.6666666666666666,
              "#35b779"
             ],
             [
              0.7777777777777778,
              "#6ece58"
             ],
             [
              0.8888888888888888,
              "#b5de2b"
             ],
             [
              1,
              "#fde725"
             ]
            ],
            "type": "surface"
           }
          ],
          "table": [
           {
            "cells": {
             "fill": {
              "color": "rgb(237,237,237)"
             },
             "line": {
              "color": "white"
             }
            },
            "header": {
             "fill": {
              "color": "rgb(217,217,217)"
             },
             "line": {
              "color": "white"
             }
            },
            "type": "table"
           }
          ]
         },
         "layout": {
          "annotationdefaults": {
           "arrowhead": 0,
           "arrowwidth": 1
          },
          "autotypenumbers": "strict",
          "coloraxis": {
           "colorbar": {
            "outlinewidth": 1,
            "tickcolor": "rgb(36,36,36)",
            "ticks": "outside"
           }
          },
          "colorscale": {
           "diverging": [
            [
             0,
             "rgb(103,0,31)"
            ],
            [
             0.1,
             "rgb(178,24,43)"
            ],
            [
             0.2,
             "rgb(214,96,77)"
            ],
            [
             0.3,
             "rgb(244,165,130)"
            ],
            [
             0.4,
             "rgb(253,219,199)"
            ],
            [
             0.5,
             "rgb(247,247,247)"
            ],
            [
             0.6,
             "rgb(209,229,240)"
            ],
            [
             0.7,
             "rgb(146,197,222)"
            ],
            [
             0.8,
             "rgb(67,147,195)"
            ],
            [
             0.9,
             "rgb(33,102,172)"
            ],
            [
             1,
             "rgb(5,48,97)"
            ]
           ],
           "sequential": [
            [
             0,
             "#440154"
            ],
            [
             0.1111111111111111,
             "#482878"
            ],
            [
             0.2222222222222222,
             "#3e4989"
            ],
            [
             0.3333333333333333,
             "#31688e"
            ],
            [
             0.4444444444444444,
             "#26828e"
            ],
            [
             0.5555555555555556,
             "#1f9e89"
            ],
            [
             0.6666666666666666,
             "#35b779"
            ],
            [
             0.7777777777777778,
             "#6ece58"
            ],
            [
             0.8888888888888888,
             "#b5de2b"
            ],
            [
             1,
             "#fde725"
            ]
           ],
           "sequentialminus": [
            [
             0,
             "#440154"
            ],
            [
             0.1111111111111111,
             "#482878"
            ],
            [
             0.2222222222222222,
             "#3e4989"
            ],
            [
             0.3333333333333333,
             "#31688e"
            ],
            [
             0.4444444444444444,
             "#26828e"
            ],
            [
             0.5555555555555556,
             "#1f9e89"
            ],
            [
             0.6666666666666666,
             "#35b779"
            ],
            [
             0.7777777777777778,
             "#6ece58"
            ],
            [
             0.8888888888888888,
             "#b5de2b"
            ],
            [
             1,
             "#fde725"
            ]
           ]
          },
          "colorway": [
           "#1F77B4",
           "#FF7F0E",
           "#2CA02C",
           "#D62728",
           "#9467BD",
           "#8C564B",
           "#E377C2",
           "#7F7F7F",
           "#BCBD22",
           "#17BECF"
          ],
          "font": {
           "color": "rgb(36,36,36)"
          },
          "geo": {
           "bgcolor": "white",
           "lakecolor": "white",
           "landcolor": "white",
           "showlakes": true,
           "showland": true,
           "subunitcolor": "white"
          },
          "hoverlabel": {
           "align": "left"
          },
          "hovermode": "closest",
          "mapbox": {
           "style": "light"
          },
          "paper_bgcolor": "white",
          "plot_bgcolor": "white",
          "polar": {
           "angularaxis": {
            "gridcolor": "rgb(232,232,232)",
            "linecolor": "rgb(36,36,36)",
            "showgrid": false,
            "showline": true,
            "ticks": "outside"
           },
           "bgcolor": "white",
           "radialaxis": {
            "gridcolor": "rgb(232,232,232)",
            "linecolor": "rgb(36,36,36)",
            "showgrid": false,
            "showline": true,
            "ticks": "outside"
           }
          },
          "scene": {
           "xaxis": {
            "backgroundcolor": "white",
            "gridcolor": "rgb(232,232,232)",
            "gridwidth": 2,
            "linecolor": "rgb(36,36,36)",
            "showbackground": true,
            "showgrid": false,
            "showline": true,
            "ticks": "outside",
            "zeroline": false,
            "zerolinecolor": "rgb(36,36,36)"
           },
           "yaxis": {
            "backgroundcolor": "white",
            "gridcolor": "rgb(232,232,232)",
            "gridwidth": 2,
            "linecolor": "rgb(36,36,36)",
            "showbackground": true,
            "showgrid": false,
            "showline": true,
            "ticks": "outside",
            "zeroline": false,
            "zerolinecolor": "rgb(36,36,36)"
           },
           "zaxis": {
            "backgroundcolor": "white",
            "gridcolor": "rgb(232,232,232)",
            "gridwidth": 2,
            "linecolor": "rgb(36,36,36)",
            "showbackground": true,
            "showgrid": false,
            "showline": true,
            "ticks": "outside",
            "zeroline": false,
            "zerolinecolor": "rgb(36,36,36)"
           }
          },
          "shapedefaults": {
           "fillcolor": "black",
           "line": {
            "width": 0
           },
           "opacity": 0.3
          },
          "ternary": {
           "aaxis": {
            "gridcolor": "rgb(232,232,232)",
            "linecolor": "rgb(36,36,36)",
            "showgrid": false,
            "showline": true,
            "ticks": "outside"
           },
           "baxis": {
            "gridcolor": "rgb(232,232,232)",
            "linecolor": "rgb(36,36,36)",
            "showgrid": false,
            "showline": true,
            "ticks": "outside"
           },
           "bgcolor": "white",
           "caxis": {
            "gridcolor": "rgb(232,232,232)",
            "linecolor": "rgb(36,36,36)",
            "showgrid": false,
            "showline": true,
            "ticks": "outside"
           }
          },
          "title": {
           "x": 0.05
          },
          "xaxis": {
           "automargin": true,
           "gridcolor": "rgb(232,232,232)",
           "linecolor": "rgb(36,36,36)",
           "showgrid": false,
           "showline": true,
           "ticks": "outside",
           "title": {
            "standoff": 15
           },
           "zeroline": false,
           "zerolinecolor": "rgb(36,36,36)"
          },
          "yaxis": {
           "automargin": true,
           "gridcolor": "rgb(232,232,232)",
           "linecolor": "rgb(36,36,36)",
           "showgrid": false,
           "showline": true,
           "ticks": "outside",
           "title": {
            "standoff": 15
           },
           "zeroline": false,
           "zerolinecolor": "rgb(36,36,36)"
          }
         }
        },
        "title": {
         "text": "Wage Rate for Job Categories"
        },
        "xaxis": {
         "anchor": "y",
         "domain": [
          0,
          1
         ],
         "title": {
          "text": "Year"
         }
        },
        "yaxis": {
         "anchor": "x",
         "domain": [
          0,
          1
         ],
         "title": {
          "text": "value"
         }
        }
       }
      },
      "text/html": [
       "<div>                            <div id=\"fe86a923-67d4-45d2-8eda-84fac71e1d1f\" class=\"plotly-graph-div\" style=\"height:525px; width:100%;\"></div>            <script type=\"text/javascript\">                require([\"plotly\"], function(Plotly) {                    window.PLOTLYENV=window.PLOTLYENV || {};                                    if (document.getElementById(\"fe86a923-67d4-45d2-8eda-84fac71e1d1f\")) {                    Plotly.newPlot(                        \"fe86a923-67d4-45d2-8eda-84fac71e1d1f\",                        [{\"hovertemplate\":\"variable=Software Developers, Applications Wage Rate<br>Year=%{x}<br>value=%{y}<extra></extra>\",\"legendgroup\":\"Software Developers, Applications Wage Rate\",\"line\":{\"color\":\"#1F77B4\",\"dash\":\"solid\",\"shape\":\"linear\"},\"marker\":{\"symbol\":\"circle\"},\"mode\":\"markers+lines\",\"name\":\"Software Developers, Applications Wage Rate\",\"orientation\":\"v\",\"showlegend\":true,\"x\":[\"2012\",\"2013\",\"2014\",\"2015\",\"2016\",\"2017\",\"2018\",\"2019\",\"2020\"],\"xaxis\":\"x\",\"y\":[90631.10755773776,93037.92025892867,95060.32514684211,99084.12970348382,101544.61838040048,102802.4797195279,104651.29162405794,106615.31114038973,108381.72973844488],\"yaxis\":\"y\",\"type\":\"scatter\"},{\"hovertemplate\":\"variable=Computer Systems Analysts Wage Rate<br>Year=%{x}<br>value=%{y}<extra></extra>\",\"legendgroup\":\"Computer Systems Analysts Wage Rate\",\"line\":{\"color\":\"#FF7F0E\",\"dash\":\"solid\",\"shape\":\"linear\"},\"marker\":{\"symbol\":\"circle\"},\"mode\":\"markers+lines\",\"name\":\"Computer Systems Analysts Wage Rate\",\"orientation\":\"v\",\"showlegend\":true,\"x\":[\"2012\",\"2013\",\"2014\",\"2015\",\"2016\",\"2017\",\"2018\",\"2019\",\"2020\"],\"xaxis\":\"x\",\"y\":[85474.71629802533,86776.27903269588,88566.75669857697,91253.53987612338,92889.66893475683,94998.7218868707,96428.07122059431,97789.077704675,99290.59158745594],\"yaxis\":\"y\",\"type\":\"scatter\"},{\"hovertemplate\":\"variable=Software Developers, Systems Software Wage Rate<br>Year=%{x}<br>value=%{y}<extra></extra>\",\"legendgroup\":\"Software Developers, Systems Software Wage Rate\",\"line\":{\"color\":\"#2CA02C\",\"dash\":\"solid\",\"shape\":\"linear\"},\"marker\":{\"symbol\":\"circle\"},\"mode\":\"markers+lines\",\"name\":\"Software Developers, Systems Software Wage Rate\",\"orientation\":\"v\",\"showlegend\":true,\"x\":[\"2012\",\"2013\",\"2014\",\"2015\",\"2016\",\"2017\",\"2018\",\"2019\",\"2020\"],\"xaxis\":\"x\",\"y\":[99879.20379543156,102230.96189964762,106288.80301461631,111352.07654554442,111634.0022060926,113527.15723639457,115452.8334873111,115923.91755638461,117282.3674841993],\"yaxis\":\"y\",\"type\":\"scatter\"},{\"hovertemplate\":\"variable=Electronics Engineers, Except Computer Wage Rate<br>Year=%{x}<br>value=%{y}<extra></extra>\",\"legendgroup\":\"Electronics Engineers, Except Computer Wage Rate\",\"line\":{\"color\":\"#D62728\",\"dash\":\"solid\",\"shape\":\"linear\"},\"marker\":{\"symbol\":\"circle\"},\"mode\":\"markers+lines\",\"name\":\"Electronics Engineers, Except Computer Wage Rate\",\"orientation\":\"v\",\"showlegend\":true,\"x\":[\"2012\",\"2013\",\"2014\",\"2015\",\"2016\",\"2017\",\"2018\",\"2019\",\"2020\"],\"xaxis\":\"x\",\"y\":[92264.91803101044,96382.0464135112,99442.33625740898,101492.72912573673,100742.40817382307,102956.61539390455,105032.9648590671,105329.19085413929,108223.14522009321],\"yaxis\":\"y\",\"type\":\"scatter\"},{\"hovertemplate\":\"variable=Computer and Information Systems Managers Wage Rate<br>Year=%{x}<br>value=%{y}<extra></extra>\",\"legendgroup\":\"Computer and Information Systems Managers Wage Rate\",\"line\":{\"color\":\"#9467BD\",\"dash\":\"solid\",\"shape\":\"linear\"},\"marker\":{\"symbol\":\"circle\"},\"mode\":\"markers+lines\",\"name\":\"Computer and Information Systems Managers Wage Rate\",\"orientation\":\"v\",\"showlegend\":true,\"x\":[\"2012\",\"2013\",\"2014\",\"2015\",\"2016\",\"2017\",\"2018\",\"2019\",\"2020\"],\"xaxis\":\"x\",\"y\":[134406.97554909703,138995.74152817574,145621.6547230865,147947.6304,146137.05135340246,152887.2734864033,156501.46197395478,162818.33042608981,168722.47749117741],\"yaxis\":\"y\",\"type\":\"scatter\"}],                        {\"template\":{\"data\":{\"barpolar\":[{\"marker\":{\"line\":{\"color\":\"white\",\"width\":0.5},\"pattern\":{\"fillmode\":\"overlay\",\"size\":10,\"solidity\":0.2}},\"type\":\"barpolar\"}],\"bar\":[{\"error_x\":{\"color\":\"rgb(36,36,36)\"},\"error_y\":{\"color\":\"rgb(36,36,36)\"},\"marker\":{\"line\":{\"color\":\"white\",\"width\":0.5},\"pattern\":{\"fillmode\":\"overlay\",\"size\":10,\"solidity\":0.2}},\"type\":\"bar\"}],\"carpet\":[{\"aaxis\":{\"endlinecolor\":\"rgb(36,36,36)\",\"gridcolor\":\"white\",\"linecolor\":\"white\",\"minorgridcolor\":\"white\",\"startlinecolor\":\"rgb(36,36,36)\"},\"baxis\":{\"endlinecolor\":\"rgb(36,36,36)\",\"gridcolor\":\"white\",\"linecolor\":\"white\",\"minorgridcolor\":\"white\",\"startlinecolor\":\"rgb(36,36,36)\"},\"type\":\"carpet\"}],\"choropleth\":[{\"colorbar\":{\"outlinewidth\":1,\"tickcolor\":\"rgb(36,36,36)\",\"ticks\":\"outside\"},\"type\":\"choropleth\"}],\"contourcarpet\":[{\"colorbar\":{\"outlinewidth\":1,\"tickcolor\":\"rgb(36,36,36)\",\"ticks\":\"outside\"},\"type\":\"contourcarpet\"}],\"contour\":[{\"colorbar\":{\"outlinewidth\":1,\"tickcolor\":\"rgb(36,36,36)\",\"ticks\":\"outside\"},\"colorscale\":[[0.0,\"#440154\"],[0.1111111111111111,\"#482878\"],[0.2222222222222222,\"#3e4989\"],[0.3333333333333333,\"#31688e\"],[0.4444444444444444,\"#26828e\"],[0.5555555555555556,\"#1f9e89\"],[0.6666666666666666,\"#35b779\"],[0.7777777777777778,\"#6ece58\"],[0.8888888888888888,\"#b5de2b\"],[1.0,\"#fde725\"]],\"type\":\"contour\"}],\"heatmapgl\":[{\"colorbar\":{\"outlinewidth\":1,\"tickcolor\":\"rgb(36,36,36)\",\"ticks\":\"outside\"},\"colorscale\":[[0.0,\"#440154\"],[0.1111111111111111,\"#482878\"],[0.2222222222222222,\"#3e4989\"],[0.3333333333333333,\"#31688e\"],[0.4444444444444444,\"#26828e\"],[0.5555555555555556,\"#1f9e89\"],[0.6666666666666666,\"#35b779\"],[0.7777777777777778,\"#6ece58\"],[0.8888888888888888,\"#b5de2b\"],[1.0,\"#fde725\"]],\"type\":\"heatmapgl\"}],\"heatmap\":[{\"colorbar\":{\"outlinewidth\":1,\"tickcolor\":\"rgb(36,36,36)\",\"ticks\":\"outside\"},\"colorscale\":[[0.0,\"#440154\"],[0.1111111111111111,\"#482878\"],[0.2222222222222222,\"#3e4989\"],[0.3333333333333333,\"#31688e\"],[0.4444444444444444,\"#26828e\"],[0.5555555555555556,\"#1f9e89\"],[0.6666666666666666,\"#35b779\"],[0.7777777777777778,\"#6ece58\"],[0.8888888888888888,\"#b5de2b\"],[1.0,\"#fde725\"]],\"type\":\"heatmap\"}],\"histogram2dcontour\":[{\"colorbar\":{\"outlinewidth\":1,\"tickcolor\":\"rgb(36,36,36)\",\"ticks\":\"outside\"},\"colorscale\":[[0.0,\"#440154\"],[0.1111111111111111,\"#482878\"],[0.2222222222222222,\"#3e4989\"],[0.3333333333333333,\"#31688e\"],[0.4444444444444444,\"#26828e\"],[0.5555555555555556,\"#1f9e89\"],[0.6666666666666666,\"#35b779\"],[0.7777777777777778,\"#6ece58\"],[0.8888888888888888,\"#b5de2b\"],[1.0,\"#fde725\"]],\"type\":\"histogram2dcontour\"}],\"histogram2d\":[{\"colorbar\":{\"outlinewidth\":1,\"tickcolor\":\"rgb(36,36,36)\",\"ticks\":\"outside\"},\"colorscale\":[[0.0,\"#440154\"],[0.1111111111111111,\"#482878\"],[0.2222222222222222,\"#3e4989\"],[0.3333333333333333,\"#31688e\"],[0.4444444444444444,\"#26828e\"],[0.5555555555555556,\"#1f9e89\"],[0.6666666666666666,\"#35b779\"],[0.7777777777777778,\"#6ece58\"],[0.8888888888888888,\"#b5de2b\"],[1.0,\"#fde725\"]],\"type\":\"histogram2d\"}],\"histogram\":[{\"marker\":{\"line\":{\"color\":\"white\",\"width\":0.6}},\"type\":\"histogram\"}],\"mesh3d\":[{\"colorbar\":{\"outlinewidth\":1,\"tickcolor\":\"rgb(36,36,36)\",\"ticks\":\"outside\"},\"type\":\"mesh3d\"}],\"parcoords\":[{\"line\":{\"colorbar\":{\"outlinewidth\":1,\"tickcolor\":\"rgb(36,36,36)\",\"ticks\":\"outside\"}},\"type\":\"parcoords\"}],\"pie\":[{\"automargin\":true,\"type\":\"pie\"}],\"scatter3d\":[{\"line\":{\"colorbar\":{\"outlinewidth\":1,\"tickcolor\":\"rgb(36,36,36)\",\"ticks\":\"outside\"}},\"marker\":{\"colorbar\":{\"outlinewidth\":1,\"tickcolor\":\"rgb(36,36,36)\",\"ticks\":\"outside\"}},\"type\":\"scatter3d\"}],\"scattercarpet\":[{\"marker\":{\"colorbar\":{\"outlinewidth\":1,\"tickcolor\":\"rgb(36,36,36)\",\"ticks\":\"outside\"}},\"type\":\"scattercarpet\"}],\"scattergeo\":[{\"marker\":{\"colorbar\":{\"outlinewidth\":1,\"tickcolor\":\"rgb(36,36,36)\",\"ticks\":\"outside\"}},\"type\":\"scattergeo\"}],\"scattergl\":[{\"marker\":{\"colorbar\":{\"outlinewidth\":1,\"tickcolor\":\"rgb(36,36,36)\",\"ticks\":\"outside\"}},\"type\":\"scattergl\"}],\"scattermapbox\":[{\"marker\":{\"colorbar\":{\"outlinewidth\":1,\"tickcolor\":\"rgb(36,36,36)\",\"ticks\":\"outside\"}},\"type\":\"scattermapbox\"}],\"scatterpolargl\":[{\"marker\":{\"colorbar\":{\"outlinewidth\":1,\"tickcolor\":\"rgb(36,36,36)\",\"ticks\":\"outside\"}},\"type\":\"scatterpolargl\"}],\"scatterpolar\":[{\"marker\":{\"colorbar\":{\"outlinewidth\":1,\"tickcolor\":\"rgb(36,36,36)\",\"ticks\":\"outside\"}},\"type\":\"scatterpolar\"}],\"scatter\":[{\"marker\":{\"colorbar\":{\"outlinewidth\":1,\"tickcolor\":\"rgb(36,36,36)\",\"ticks\":\"outside\"}},\"type\":\"scatter\"}],\"scatterternary\":[{\"marker\":{\"colorbar\":{\"outlinewidth\":1,\"tickcolor\":\"rgb(36,36,36)\",\"ticks\":\"outside\"}},\"type\":\"scatterternary\"}],\"surface\":[{\"colorbar\":{\"outlinewidth\":1,\"tickcolor\":\"rgb(36,36,36)\",\"ticks\":\"outside\"},\"colorscale\":[[0.0,\"#440154\"],[0.1111111111111111,\"#482878\"],[0.2222222222222222,\"#3e4989\"],[0.3333333333333333,\"#31688e\"],[0.4444444444444444,\"#26828e\"],[0.5555555555555556,\"#1f9e89\"],[0.6666666666666666,\"#35b779\"],[0.7777777777777778,\"#6ece58\"],[0.8888888888888888,\"#b5de2b\"],[1.0,\"#fde725\"]],\"type\":\"surface\"}],\"table\":[{\"cells\":{\"fill\":{\"color\":\"rgb(237,237,237)\"},\"line\":{\"color\":\"white\"}},\"header\":{\"fill\":{\"color\":\"rgb(217,217,217)\"},\"line\":{\"color\":\"white\"}},\"type\":\"table\"}]},\"layout\":{\"annotationdefaults\":{\"arrowhead\":0,\"arrowwidth\":1},\"autotypenumbers\":\"strict\",\"coloraxis\":{\"colorbar\":{\"outlinewidth\":1,\"tickcolor\":\"rgb(36,36,36)\",\"ticks\":\"outside\"}},\"colorscale\":{\"diverging\":[[0.0,\"rgb(103,0,31)\"],[0.1,\"rgb(178,24,43)\"],[0.2,\"rgb(214,96,77)\"],[0.3,\"rgb(244,165,130)\"],[0.4,\"rgb(253,219,199)\"],[0.5,\"rgb(247,247,247)\"],[0.6,\"rgb(209,229,240)\"],[0.7,\"rgb(146,197,222)\"],[0.8,\"rgb(67,147,195)\"],[0.9,\"rgb(33,102,172)\"],[1.0,\"rgb(5,48,97)\"]],\"sequential\":[[0.0,\"#440154\"],[0.1111111111111111,\"#482878\"],[0.2222222222222222,\"#3e4989\"],[0.3333333333333333,\"#31688e\"],[0.4444444444444444,\"#26828e\"],[0.5555555555555556,\"#1f9e89\"],[0.6666666666666666,\"#35b779\"],[0.7777777777777778,\"#6ece58\"],[0.8888888888888888,\"#b5de2b\"],[1.0,\"#fde725\"]],\"sequentialminus\":[[0.0,\"#440154\"],[0.1111111111111111,\"#482878\"],[0.2222222222222222,\"#3e4989\"],[0.3333333333333333,\"#31688e\"],[0.4444444444444444,\"#26828e\"],[0.5555555555555556,\"#1f9e89\"],[0.6666666666666666,\"#35b779\"],[0.7777777777777778,\"#6ece58\"],[0.8888888888888888,\"#b5de2b\"],[1.0,\"#fde725\"]]},\"colorway\":[\"#1F77B4\",\"#FF7F0E\",\"#2CA02C\",\"#D62728\",\"#9467BD\",\"#8C564B\",\"#E377C2\",\"#7F7F7F\",\"#BCBD22\",\"#17BECF\"],\"font\":{\"color\":\"rgb(36,36,36)\"},\"geo\":{\"bgcolor\":\"white\",\"lakecolor\":\"white\",\"landcolor\":\"white\",\"showlakes\":true,\"showland\":true,\"subunitcolor\":\"white\"},\"hoverlabel\":{\"align\":\"left\"},\"hovermode\":\"closest\",\"mapbox\":{\"style\":\"light\"},\"paper_bgcolor\":\"white\",\"plot_bgcolor\":\"white\",\"polar\":{\"angularaxis\":{\"gridcolor\":\"rgb(232,232,232)\",\"linecolor\":\"rgb(36,36,36)\",\"showgrid\":false,\"showline\":true,\"ticks\":\"outside\"},\"bgcolor\":\"white\",\"radialaxis\":{\"gridcolor\":\"rgb(232,232,232)\",\"linecolor\":\"rgb(36,36,36)\",\"showgrid\":false,\"showline\":true,\"ticks\":\"outside\"}},\"scene\":{\"xaxis\":{\"backgroundcolor\":\"white\",\"gridcolor\":\"rgb(232,232,232)\",\"gridwidth\":2,\"linecolor\":\"rgb(36,36,36)\",\"showbackground\":true,\"showgrid\":false,\"showline\":true,\"ticks\":\"outside\",\"zeroline\":false,\"zerolinecolor\":\"rgb(36,36,36)\"},\"yaxis\":{\"backgroundcolor\":\"white\",\"gridcolor\":\"rgb(232,232,232)\",\"gridwidth\":2,\"linecolor\":\"rgb(36,36,36)\",\"showbackground\":true,\"showgrid\":false,\"showline\":true,\"ticks\":\"outside\",\"zeroline\":false,\"zerolinecolor\":\"rgb(36,36,36)\"},\"zaxis\":{\"backgroundcolor\":\"white\",\"gridcolor\":\"rgb(232,232,232)\",\"gridwidth\":2,\"linecolor\":\"rgb(36,36,36)\",\"showbackground\":true,\"showgrid\":false,\"showline\":true,\"ticks\":\"outside\",\"zeroline\":false,\"zerolinecolor\":\"rgb(36,36,36)\"}},\"shapedefaults\":{\"fillcolor\":\"black\",\"line\":{\"width\":0},\"opacity\":0.3},\"ternary\":{\"aaxis\":{\"gridcolor\":\"rgb(232,232,232)\",\"linecolor\":\"rgb(36,36,36)\",\"showgrid\":false,\"showline\":true,\"ticks\":\"outside\"},\"baxis\":{\"gridcolor\":\"rgb(232,232,232)\",\"linecolor\":\"rgb(36,36,36)\",\"showgrid\":false,\"showline\":true,\"ticks\":\"outside\"},\"bgcolor\":\"white\",\"caxis\":{\"gridcolor\":\"rgb(232,232,232)\",\"linecolor\":\"rgb(36,36,36)\",\"showgrid\":false,\"showline\":true,\"ticks\":\"outside\"}},\"title\":{\"x\":0.05},\"xaxis\":{\"automargin\":true,\"gridcolor\":\"rgb(232,232,232)\",\"linecolor\":\"rgb(36,36,36)\",\"showgrid\":false,\"showline\":true,\"ticks\":\"outside\",\"title\":{\"standoff\":15},\"zeroline\":false,\"zerolinecolor\":\"rgb(36,36,36)\"},\"yaxis\":{\"automargin\":true,\"gridcolor\":\"rgb(232,232,232)\",\"linecolor\":\"rgb(36,36,36)\",\"showgrid\":false,\"showline\":true,\"ticks\":\"outside\",\"title\":{\"standoff\":15},\"zeroline\":false,\"zerolinecolor\":\"rgb(36,36,36)\"}}},\"xaxis\":{\"anchor\":\"y\",\"domain\":[0.0,1.0],\"title\":{\"text\":\"Year\"}},\"yaxis\":{\"anchor\":\"x\",\"domain\":[0.0,1.0],\"title\":{\"text\":\"value\"}},\"legend\":{\"title\":{\"text\":\"variable\"},\"tracegroupgap\":0},\"title\":{\"text\":\"Wage Rate for Job Categories\"}},                        {\"responsive\": true}                    ).then(function(){\n",
       "                            \n",
       "var gd = document.getElementById('fe86a923-67d4-45d2-8eda-84fac71e1d1f');\n",
       "var x = new MutationObserver(function (mutations, observer) {{\n",
       "        var display = window.getComputedStyle(gd).display;\n",
       "        if (!display || display === 'none') {{\n",
       "            console.log([gd, 'removed!']);\n",
       "            Plotly.purge(gd);\n",
       "            observer.disconnect();\n",
       "        }}\n",
       "}});\n",
       "\n",
       "// Listen for the removal of the full notebook cells\n",
       "var notebookContainer = gd.closest('#notebook-container');\n",
       "if (notebookContainer) {{\n",
       "    x.observe(notebookContainer, {childList: true});\n",
       "}}\n",
       "\n",
       "// Listen for the clearing of the current output cell\n",
       "var outputEl = gd.closest('.output');\n",
       "if (outputEl) {{\n",
       "    x.observe(outputEl, {childList: true});\n",
       "}}\n",
       "\n",
       "                        })                };                });            </script>        </div>"
      ]
     },
     "metadata": {},
     "output_type": "display_data"
    }
   ],
   "source": [
    "#Interactive plot with plotly.\n",
    "fig = px.line(df_plot_1, x='Year', y=['Software Developers, Applications Wage Rate',\n",
    "                                      'Computer Systems Analysts Wage Rate',\n",
    "                                      'Software Developers, Systems Software Wage Rate',\n",
    "                                      'Electronics Engineers, Except Computer Wage Rate',\n",
    "                                      'Computer and Information Systems Managers Wage Rate'],\n",
    "                                       title='Wage Rate for Job Categories',\n",
    "                                       markers=True,\n",
    "                                       line_shape='linear',\n",
    "                                       template='simple_white')\n",
    "fig.update_xaxes()\n",
    "fig.show()"
   ]
  },
  {
   "cell_type": "markdown",
   "id": "4caedd8f",
   "metadata": {},
   "source": [
    "From the two graphs, we can clearly see the trend for the average wage rate for the Job Categories for which we have the most data. Wage Rate for all the jobs shown have grown throughout the years (2012-2020) by:\n",
    "1) Software Developers, Applications by: 20% (2.5% YOY)  \n",
    "2) Computer Systems Analysts by: 18% (2.25% YOY)  \n",
    "3) Software Developers, Systems Software by: 17% (2.125% YOY)  \n",
    "4) Electronics Engineers, Except Computer by: 17.5% (2.1875% YOY)  \n",
    "5) Computer and Information Systems Managers by: 25% (3.125% YOY)  \n",
    "  "
   ]
  },
  {
   "cell_type": "markdown",
   "id": "4808be43",
   "metadata": {},
   "source": [
    "# 2nd Visualization"
   ]
  },
  {
   "cell_type": "code",
   "execution_count": 84,
   "id": "b600e354",
   "metadata": {},
   "outputs": [],
   "source": [
    "#Making duplicates for my use.\n",
    "df_2012_yw2 = df_2012.copy()\n",
    "df_2013_yw2 = df_2013.copy()\n",
    "df_2014_yw2 = df_2014.copy()\n",
    "df_2015_yw2 = df_2015.copy()\n",
    "df_2016_yw2 = df_2016.copy()\n",
    "df_2017_yw2 = df_2017.copy()\n",
    "df_2018_yw2 = df_2018.copy()\n",
    "df_2019_yw2 = df_2019.copy()\n",
    "df_2020_yw2 = df_2020.copy()"
   ]
  },
  {
   "cell_type": "code",
   "execution_count": 85,
   "id": "4650bb93",
   "metadata": {},
   "outputs": [
    {
     "name": "stdout",
     "output_type": "stream",
     "text": [
      "0\n",
      "0\n",
      "0\n",
      "0\n",
      "0\n",
      "0\n",
      "0\n",
      "0\n",
      "0\n"
     ]
    }
   ],
   "source": [
    "#Note: I will not drop all rows with null values, as I might not need that particular column from that dataset\n",
    "#for my visualization.\n",
    "#I will however, remove the duplicated values, as it serves not purpose to have suplicate rows.\n",
    "df_2012_yw2.drop_duplicates(inplace=True)\n",
    "df_2013_yw2.drop_duplicates(inplace=True)\n",
    "df_2014_yw2.drop_duplicates(inplace=True)\n",
    "df_2015_yw2.drop_duplicates(inplace=True)\n",
    "df_2016_yw2.drop_duplicates(inplace=True)\n",
    "df_2017_yw2.drop_duplicates(inplace=True)\n",
    "df_2018_yw2.drop_duplicates(inplace=True)\n",
    "df_2019_yw2.drop_duplicates(inplace=True)\n",
    "df_2020_yw2.drop_duplicates(inplace=True)\n",
    "\n",
    "print(df_2012_yw2.duplicated().sum())\n",
    "print(df_2013_yw2.duplicated().sum())\n",
    "print(df_2014_yw2.duplicated().sum())\n",
    "print(df_2015_yw2.duplicated().sum())\n",
    "print(df_2016_yw2.duplicated().sum())\n",
    "print(df_2017_yw2.duplicated().sum())\n",
    "print(df_2018_yw2.duplicated().sum())\n",
    "print(df_2019_yw2.duplicated().sum())\n",
    "print(df_2020_yw2.duplicated().sum())"
   ]
  },
  {
   "cell_type": "markdown",
   "id": "2db1d98b",
   "metadata": {},
   "source": [
    "Visualizing the data. For visualizing the Wage rate yearly, I require the field:\n",
    "\n",
    "1) PWD_WAGE_RATE\n",
    "\n",
    "Thus, I will remove all rows with null values in the above column."
   ]
  },
  {
   "cell_type": "code",
   "execution_count": 86,
   "id": "45e9f4e7",
   "metadata": {},
   "outputs": [],
   "source": [
    "df_2012_yw2.dropna(subset=['PWD_WAGE_RATE'],inplace=True)\n",
    "df_2013_yw2.dropna(subset=['PWD_WAGE_RATE'],inplace=True)\n",
    "df_2014_yw2.dropna(subset=['PWD_WAGE_RATE'],inplace=True)\n",
    "df_2015_yw2.dropna(subset=['PWD_WAGE_RATE'],inplace=True)\n",
    "df_2016_yw2.dropna(subset=['PWD_WAGE_RATE'],inplace=True)\n",
    "df_2017_yw2.dropna(subset=['PWD_WAGE_RATE'],inplace=True)\n",
    "df_2018_yw2.dropna(subset=['PWD_WAGE_RATE'],inplace=True)\n",
    "df_2019_yw2.dropna(subset=['PWD_WAGE_RATE'],inplace=True)\n",
    "df_2020_yw2.dropna(subset=['PWD_WAGE_RATE'],inplace=True)"
   ]
  },
  {
   "cell_type": "markdown",
   "id": "329ad4c5",
   "metadata": {},
   "source": [
    "Subsetting the dataframes into ones with only useful columns:"
   ]
  },
  {
   "cell_type": "code",
   "execution_count": 107,
   "id": "67eb782b",
   "metadata": {},
   "outputs": [],
   "source": [
    "df_2012_yw_jc2=df_2012_yw2.filter(['PWD_WAGE_RATE'],axis=1)\n",
    "df_2013_yw_jc2=df_2013_yw2.filter(['PWD_WAGE_RATE'],axis=1)\n",
    "df_2014_yw_jc2=df_2014_yw2.filter(['PWD_WAGE_RATE'],axis=1)\n",
    "df_2015_yw_jc2=df_2015_yw2.filter(['PWD_WAGE_RATE'],axis=1)\n",
    "df_2016_yw_jc2=df_2016_yw2.filter(['PWD_WAGE_RATE'],axis=1)\n",
    "df_2017_yw_jc2=df_2017_yw2.filter(['PWD_WAGE_RATE'],axis=1)\n",
    "df_2018_yw_jc2=df_2018_yw2.filter(['PWD_WAGE_RATE'],axis=1)\n",
    "df_2019_yw_jc2=df_2019_yw2.filter(['PWD_WAGE_RATE'],axis=1)\n",
    "df_2020_yw_jc2=df_2020_yw2.filter(['PWD_WAGE_RATE'],axis=1)"
   ]
  },
  {
   "cell_type": "markdown",
   "id": "042ae2ea",
   "metadata": {},
   "source": [
    "Finding average Wage rate."
   ]
  },
  {
   "cell_type": "code",
   "execution_count": 108,
   "id": "34b0c35a",
   "metadata": {},
   "outputs": [],
   "source": [
    "df_2012_yw_jca2 = df_2012_yw_jc2.mean()\n",
    "df_2013_yw_jca2 = df_2013_yw_jc2.mean()\n",
    "df_2014_yw_jca2 = df_2014_yw_jc2.mean()\n",
    "df_2015_yw_jca2 = df_2015_yw_jc2.mean()\n",
    "df_2016_yw_jca2 = df_2016_yw_jc2.mean()\n",
    "df_2017_yw_jca2 = df_2017_yw_jc2.mean()\n",
    "df_2018_yw_jca2 = df_2018_yw_jc2.mean()\n",
    "df_2019_yw_jca2 = df_2019_yw_jc2.mean()\n",
    "df_2020_yw_jca2 = df_2020_yw_jc2.mean()"
   ]
  },
  {
   "cell_type": "code",
   "execution_count": 117,
   "id": "df008b1a",
   "metadata": {},
   "outputs": [
    {
     "data": {
      "text/html": [
       "<div>\n",
       "<style scoped>\n",
       "    .dataframe tbody tr th:only-of-type {\n",
       "        vertical-align: middle;\n",
       "    }\n",
       "\n",
       "    .dataframe tbody tr th {\n",
       "        vertical-align: top;\n",
       "    }\n",
       "\n",
       "    .dataframe thead th {\n",
       "        text-align: right;\n",
       "    }\n",
       "</style>\n",
       "<table border=\"1\" class=\"dataframe\">\n",
       "  <thead>\n",
       "    <tr style=\"text-align: right;\">\n",
       "      <th></th>\n",
       "      <th>Year</th>\n",
       "      <th>Wage Rate</th>\n",
       "    </tr>\n",
       "  </thead>\n",
       "  <tbody>\n",
       "    <tr>\n",
       "      <th>0</th>\n",
       "      <td>2012</td>\n",
       "      <td>77993.432177</td>\n",
       "    </tr>\n",
       "    <tr>\n",
       "      <th>1</th>\n",
       "      <td>2013</td>\n",
       "      <td>81495.656152</td>\n",
       "    </tr>\n",
       "    <tr>\n",
       "      <th>2</th>\n",
       "      <td>2014</td>\n",
       "      <td>82798.465278</td>\n",
       "    </tr>\n",
       "    <tr>\n",
       "      <th>3</th>\n",
       "      <td>2015</td>\n",
       "      <td>84583.669405</td>\n",
       "    </tr>\n",
       "    <tr>\n",
       "      <th>4</th>\n",
       "      <td>2016</td>\n",
       "      <td>82091.421003</td>\n",
       "    </tr>\n",
       "    <tr>\n",
       "      <th>5</th>\n",
       "      <td>2017</td>\n",
       "      <td>84304.695209</td>\n",
       "    </tr>\n",
       "    <tr>\n",
       "      <th>6</th>\n",
       "      <td>2018</td>\n",
       "      <td>82947.626144</td>\n",
       "    </tr>\n",
       "    <tr>\n",
       "      <th>7</th>\n",
       "      <td>2019</td>\n",
       "      <td>80506.333822</td>\n",
       "    </tr>\n",
       "    <tr>\n",
       "      <th>8</th>\n",
       "      <td>2020</td>\n",
       "      <td>83949.170504</td>\n",
       "    </tr>\n",
       "  </tbody>\n",
       "</table>\n",
       "</div>"
      ],
      "text/plain": [
       "   Year     Wage Rate\n",
       "0  2012  77993.432177\n",
       "1  2013  81495.656152\n",
       "2  2014  82798.465278\n",
       "3  2015  84583.669405\n",
       "4  2016  82091.421003\n",
       "5  2017  84304.695209\n",
       "6  2018  82947.626144\n",
       "7  2019  80506.333822\n",
       "8  2020  83949.170504"
      ]
     },
     "execution_count": 117,
     "metadata": {},
     "output_type": "execute_result"
    }
   ],
   "source": [
    "#Making a new df for the purpose of plotting.\n",
    "df_plot_2 = pd.DataFrame(columns=['Year','Wage Rate'])\n",
    "df_plot_2['Year']=['2012','2013','2014','2015','2016','2017','2018','2019','2020']\n",
    "df_plot_2['Wage Rate']=[df_2012_yw_jca2.PWD_WAGE_RATE,df_2013_yw_jca2.PWD_WAGE_RATE,df_2014_yw_jca2.PWD_WAGE_RATE,df_2015_yw_jca2.PWD_WAGE_RATE,df_2016_yw_jca2.PWD_WAGE_RATE,df_2017_yw_jca2.PWD_WAGE_RATE,df_2018_yw_jca2.PWD_WAGE_RATE,df_2019_yw_jca2.PWD_WAGE_RATE,df_2020_yw_jca2.PWD_WAGE_RATE]\n",
    "df_plot_2"
   ]
  },
  {
   "cell_type": "code",
   "execution_count": 122,
   "id": "a95391a8",
   "metadata": {},
   "outputs": [
    {
     "data": {
      "application/vnd.plotly.v1+json": {
       "config": {
        "plotlyServerURL": "https://plot.ly"
       },
       "data": [
        {
         "hovertemplate": "Year=%{x}<br>Wage Rate=%{y}<extra></extra>",
         "legendgroup": "",
         "line": {
          "color": "#1F77B4",
          "dash": "solid",
          "shape": "linear"
         },
         "marker": {
          "symbol": "circle"
         },
         "mode": "markers+lines",
         "name": "",
         "orientation": "v",
         "showlegend": false,
         "type": "scatter",
         "x": [
          "2012",
          "2013",
          "2014",
          "2015",
          "2016",
          "2017",
          "2018",
          "2019",
          "2020"
         ],
         "xaxis": "x",
         "y": [
          77993.43217730243,
          81495.65615171463,
          82798.46527785038,
          84583.66940503454,
          82091.42100268923,
          84304.69520899207,
          82947.62614371344,
          80506.333821897,
          83949.17050412158
         ],
         "yaxis": "y"
        }
       ],
       "layout": {
        "legend": {
         "tracegroupgap": 0
        },
        "margin": {
         "t": 60
        },
        "template": {
         "data": {
          "bar": [
           {
            "error_x": {
             "color": "rgb(36,36,36)"
            },
            "error_y": {
             "color": "rgb(36,36,36)"
            },
            "marker": {
             "line": {
              "color": "white",
              "width": 0.5
             },
             "pattern": {
              "fillmode": "overlay",
              "size": 10,
              "solidity": 0.2
             }
            },
            "type": "bar"
           }
          ],
          "barpolar": [
           {
            "marker": {
             "line": {
              "color": "white",
              "width": 0.5
             },
             "pattern": {
              "fillmode": "overlay",
              "size": 10,
              "solidity": 0.2
             }
            },
            "type": "barpolar"
           }
          ],
          "carpet": [
           {
            "aaxis": {
             "endlinecolor": "rgb(36,36,36)",
             "gridcolor": "white",
             "linecolor": "white",
             "minorgridcolor": "white",
             "startlinecolor": "rgb(36,36,36)"
            },
            "baxis": {
             "endlinecolor": "rgb(36,36,36)",
             "gridcolor": "white",
             "linecolor": "white",
             "minorgridcolor": "white",
             "startlinecolor": "rgb(36,36,36)"
            },
            "type": "carpet"
           }
          ],
          "choropleth": [
           {
            "colorbar": {
             "outlinewidth": 1,
             "tickcolor": "rgb(36,36,36)",
             "ticks": "outside"
            },
            "type": "choropleth"
           }
          ],
          "contour": [
           {
            "colorbar": {
             "outlinewidth": 1,
             "tickcolor": "rgb(36,36,36)",
             "ticks": "outside"
            },
            "colorscale": [
             [
              0,
              "#440154"
             ],
             [
              0.1111111111111111,
              "#482878"
             ],
             [
              0.2222222222222222,
              "#3e4989"
             ],
             [
              0.3333333333333333,
              "#31688e"
             ],
             [
              0.4444444444444444,
              "#26828e"
             ],
             [
              0.5555555555555556,
              "#1f9e89"
             ],
             [
              0.6666666666666666,
              "#35b779"
             ],
             [
              0.7777777777777778,
              "#6ece58"
             ],
             [
              0.8888888888888888,
              "#b5de2b"
             ],
             [
              1,
              "#fde725"
             ]
            ],
            "type": "contour"
           }
          ],
          "contourcarpet": [
           {
            "colorbar": {
             "outlinewidth": 1,
             "tickcolor": "rgb(36,36,36)",
             "ticks": "outside"
            },
            "type": "contourcarpet"
           }
          ],
          "heatmap": [
           {
            "colorbar": {
             "outlinewidth": 1,
             "tickcolor": "rgb(36,36,36)",
             "ticks": "outside"
            },
            "colorscale": [
             [
              0,
              "#440154"
             ],
             [
              0.1111111111111111,
              "#482878"
             ],
             [
              0.2222222222222222,
              "#3e4989"
             ],
             [
              0.3333333333333333,
              "#31688e"
             ],
             [
              0.4444444444444444,
              "#26828e"
             ],
             [
              0.5555555555555556,
              "#1f9e89"
             ],
             [
              0.6666666666666666,
              "#35b779"
             ],
             [
              0.7777777777777778,
              "#6ece58"
             ],
             [
              0.8888888888888888,
              "#b5de2b"
             ],
             [
              1,
              "#fde725"
             ]
            ],
            "type": "heatmap"
           }
          ],
          "heatmapgl": [
           {
            "colorbar": {
             "outlinewidth": 1,
             "tickcolor": "rgb(36,36,36)",
             "ticks": "outside"
            },
            "colorscale": [
             [
              0,
              "#440154"
             ],
             [
              0.1111111111111111,
              "#482878"
             ],
             [
              0.2222222222222222,
              "#3e4989"
             ],
             [
              0.3333333333333333,
              "#31688e"
             ],
             [
              0.4444444444444444,
              "#26828e"
             ],
             [
              0.5555555555555556,
              "#1f9e89"
             ],
             [
              0.6666666666666666,
              "#35b779"
             ],
             [
              0.7777777777777778,
              "#6ece58"
             ],
             [
              0.8888888888888888,
              "#b5de2b"
             ],
             [
              1,
              "#fde725"
             ]
            ],
            "type": "heatmapgl"
           }
          ],
          "histogram": [
           {
            "marker": {
             "line": {
              "color": "white",
              "width": 0.6
             }
            },
            "type": "histogram"
           }
          ],
          "histogram2d": [
           {
            "colorbar": {
             "outlinewidth": 1,
             "tickcolor": "rgb(36,36,36)",
             "ticks": "outside"
            },
            "colorscale": [
             [
              0,
              "#440154"
             ],
             [
              0.1111111111111111,
              "#482878"
             ],
             [
              0.2222222222222222,
              "#3e4989"
             ],
             [
              0.3333333333333333,
              "#31688e"
             ],
             [
              0.4444444444444444,
              "#26828e"
             ],
             [
              0.5555555555555556,
              "#1f9e89"
             ],
             [
              0.6666666666666666,
              "#35b779"
             ],
             [
              0.7777777777777778,
              "#6ece58"
             ],
             [
              0.8888888888888888,
              "#b5de2b"
             ],
             [
              1,
              "#fde725"
             ]
            ],
            "type": "histogram2d"
           }
          ],
          "histogram2dcontour": [
           {
            "colorbar": {
             "outlinewidth": 1,
             "tickcolor": "rgb(36,36,36)",
             "ticks": "outside"
            },
            "colorscale": [
             [
              0,
              "#440154"
             ],
             [
              0.1111111111111111,
              "#482878"
             ],
             [
              0.2222222222222222,
              "#3e4989"
             ],
             [
              0.3333333333333333,
              "#31688e"
             ],
             [
              0.4444444444444444,
              "#26828e"
             ],
             [
              0.5555555555555556,
              "#1f9e89"
             ],
             [
              0.6666666666666666,
              "#35b779"
             ],
             [
              0.7777777777777778,
              "#6ece58"
             ],
             [
              0.8888888888888888,
              "#b5de2b"
             ],
             [
              1,
              "#fde725"
             ]
            ],
            "type": "histogram2dcontour"
           }
          ],
          "mesh3d": [
           {
            "colorbar": {
             "outlinewidth": 1,
             "tickcolor": "rgb(36,36,36)",
             "ticks": "outside"
            },
            "type": "mesh3d"
           }
          ],
          "parcoords": [
           {
            "line": {
             "colorbar": {
              "outlinewidth": 1,
              "tickcolor": "rgb(36,36,36)",
              "ticks": "outside"
             }
            },
            "type": "parcoords"
           }
          ],
          "pie": [
           {
            "automargin": true,
            "type": "pie"
           }
          ],
          "scatter": [
           {
            "marker": {
             "colorbar": {
              "outlinewidth": 1,
              "tickcolor": "rgb(36,36,36)",
              "ticks": "outside"
             }
            },
            "type": "scatter"
           }
          ],
          "scatter3d": [
           {
            "line": {
             "colorbar": {
              "outlinewidth": 1,
              "tickcolor": "rgb(36,36,36)",
              "ticks": "outside"
             }
            },
            "marker": {
             "colorbar": {
              "outlinewidth": 1,
              "tickcolor": "rgb(36,36,36)",
              "ticks": "outside"
             }
            },
            "type": "scatter3d"
           }
          ],
          "scattercarpet": [
           {
            "marker": {
             "colorbar": {
              "outlinewidth": 1,
              "tickcolor": "rgb(36,36,36)",
              "ticks": "outside"
             }
            },
            "type": "scattercarpet"
           }
          ],
          "scattergeo": [
           {
            "marker": {
             "colorbar": {
              "outlinewidth": 1,
              "tickcolor": "rgb(36,36,36)",
              "ticks": "outside"
             }
            },
            "type": "scattergeo"
           }
          ],
          "scattergl": [
           {
            "marker": {
             "colorbar": {
              "outlinewidth": 1,
              "tickcolor": "rgb(36,36,36)",
              "ticks": "outside"
             }
            },
            "type": "scattergl"
           }
          ],
          "scattermapbox": [
           {
            "marker": {
             "colorbar": {
              "outlinewidth": 1,
              "tickcolor": "rgb(36,36,36)",
              "ticks": "outside"
             }
            },
            "type": "scattermapbox"
           }
          ],
          "scatterpolar": [
           {
            "marker": {
             "colorbar": {
              "outlinewidth": 1,
              "tickcolor": "rgb(36,36,36)",
              "ticks": "outside"
             }
            },
            "type": "scatterpolar"
           }
          ],
          "scatterpolargl": [
           {
            "marker": {
             "colorbar": {
              "outlinewidth": 1,
              "tickcolor": "rgb(36,36,36)",
              "ticks": "outside"
             }
            },
            "type": "scatterpolargl"
           }
          ],
          "scatterternary": [
           {
            "marker": {
             "colorbar": {
              "outlinewidth": 1,
              "tickcolor": "rgb(36,36,36)",
              "ticks": "outside"
             }
            },
            "type": "scatterternary"
           }
          ],
          "surface": [
           {
            "colorbar": {
             "outlinewidth": 1,
             "tickcolor": "rgb(36,36,36)",
             "ticks": "outside"
            },
            "colorscale": [
             [
              0,
              "#440154"
             ],
             [
              0.1111111111111111,
              "#482878"
             ],
             [
              0.2222222222222222,
              "#3e4989"
             ],
             [
              0.3333333333333333,
              "#31688e"
             ],
             [
              0.4444444444444444,
              "#26828e"
             ],
             [
              0.5555555555555556,
              "#1f9e89"
             ],
             [
              0.6666666666666666,
              "#35b779"
             ],
             [
              0.7777777777777778,
              "#6ece58"
             ],
             [
              0.8888888888888888,
              "#b5de2b"
             ],
             [
              1,
              "#fde725"
             ]
            ],
            "type": "surface"
           }
          ],
          "table": [
           {
            "cells": {
             "fill": {
              "color": "rgb(237,237,237)"
             },
             "line": {
              "color": "white"
             }
            },
            "header": {
             "fill": {
              "color": "rgb(217,217,217)"
             },
             "line": {
              "color": "white"
             }
            },
            "type": "table"
           }
          ]
         },
         "layout": {
          "annotationdefaults": {
           "arrowhead": 0,
           "arrowwidth": 1
          },
          "autotypenumbers": "strict",
          "coloraxis": {
           "colorbar": {
            "outlinewidth": 1,
            "tickcolor": "rgb(36,36,36)",
            "ticks": "outside"
           }
          },
          "colorscale": {
           "diverging": [
            [
             0,
             "rgb(103,0,31)"
            ],
            [
             0.1,
             "rgb(178,24,43)"
            ],
            [
             0.2,
             "rgb(214,96,77)"
            ],
            [
             0.3,
             "rgb(244,165,130)"
            ],
            [
             0.4,
             "rgb(253,219,199)"
            ],
            [
             0.5,
             "rgb(247,247,247)"
            ],
            [
             0.6,
             "rgb(209,229,240)"
            ],
            [
             0.7,
             "rgb(146,197,222)"
            ],
            [
             0.8,
             "rgb(67,147,195)"
            ],
            [
             0.9,
             "rgb(33,102,172)"
            ],
            [
             1,
             "rgb(5,48,97)"
            ]
           ],
           "sequential": [
            [
             0,
             "#440154"
            ],
            [
             0.1111111111111111,
             "#482878"
            ],
            [
             0.2222222222222222,
             "#3e4989"
            ],
            [
             0.3333333333333333,
             "#31688e"
            ],
            [
             0.4444444444444444,
             "#26828e"
            ],
            [
             0.5555555555555556,
             "#1f9e89"
            ],
            [
             0.6666666666666666,
             "#35b779"
            ],
            [
             0.7777777777777778,
             "#6ece58"
            ],
            [
             0.8888888888888888,
             "#b5de2b"
            ],
            [
             1,
             "#fde725"
            ]
           ],
           "sequentialminus": [
            [
             0,
             "#440154"
            ],
            [
             0.1111111111111111,
             "#482878"
            ],
            [
             0.2222222222222222,
             "#3e4989"
            ],
            [
             0.3333333333333333,
             "#31688e"
            ],
            [
             0.4444444444444444,
             "#26828e"
            ],
            [
             0.5555555555555556,
             "#1f9e89"
            ],
            [
             0.6666666666666666,
             "#35b779"
            ],
            [
             0.7777777777777778,
             "#6ece58"
            ],
            [
             0.8888888888888888,
             "#b5de2b"
            ],
            [
             1,
             "#fde725"
            ]
           ]
          },
          "colorway": [
           "#1F77B4",
           "#FF7F0E",
           "#2CA02C",
           "#D62728",
           "#9467BD",
           "#8C564B",
           "#E377C2",
           "#7F7F7F",
           "#BCBD22",
           "#17BECF"
          ],
          "font": {
           "color": "rgb(36,36,36)"
          },
          "geo": {
           "bgcolor": "white",
           "lakecolor": "white",
           "landcolor": "white",
           "showlakes": true,
           "showland": true,
           "subunitcolor": "white"
          },
          "hoverlabel": {
           "align": "left"
          },
          "hovermode": "closest",
          "mapbox": {
           "style": "light"
          },
          "paper_bgcolor": "white",
          "plot_bgcolor": "white",
          "polar": {
           "angularaxis": {
            "gridcolor": "rgb(232,232,232)",
            "linecolor": "rgb(36,36,36)",
            "showgrid": false,
            "showline": true,
            "ticks": "outside"
           },
           "bgcolor": "white",
           "radialaxis": {
            "gridcolor": "rgb(232,232,232)",
            "linecolor": "rgb(36,36,36)",
            "showgrid": false,
            "showline": true,
            "ticks": "outside"
           }
          },
          "scene": {
           "xaxis": {
            "backgroundcolor": "white",
            "gridcolor": "rgb(232,232,232)",
            "gridwidth": 2,
            "linecolor": "rgb(36,36,36)",
            "showbackground": true,
            "showgrid": false,
            "showline": true,
            "ticks": "outside",
            "zeroline": false,
            "zerolinecolor": "rgb(36,36,36)"
           },
           "yaxis": {
            "backgroundcolor": "white",
            "gridcolor": "rgb(232,232,232)",
            "gridwidth": 2,
            "linecolor": "rgb(36,36,36)",
            "showbackground": true,
            "showgrid": false,
            "showline": true,
            "ticks": "outside",
            "zeroline": false,
            "zerolinecolor": "rgb(36,36,36)"
           },
           "zaxis": {
            "backgroundcolor": "white",
            "gridcolor": "rgb(232,232,232)",
            "gridwidth": 2,
            "linecolor": "rgb(36,36,36)",
            "showbackground": true,
            "showgrid": false,
            "showline": true,
            "ticks": "outside",
            "zeroline": false,
            "zerolinecolor": "rgb(36,36,36)"
           }
          },
          "shapedefaults": {
           "fillcolor": "black",
           "line": {
            "width": 0
           },
           "opacity": 0.3
          },
          "ternary": {
           "aaxis": {
            "gridcolor": "rgb(232,232,232)",
            "linecolor": "rgb(36,36,36)",
            "showgrid": false,
            "showline": true,
            "ticks": "outside"
           },
           "baxis": {
            "gridcolor": "rgb(232,232,232)",
            "linecolor": "rgb(36,36,36)",
            "showgrid": false,
            "showline": true,
            "ticks": "outside"
           },
           "bgcolor": "white",
           "caxis": {
            "gridcolor": "rgb(232,232,232)",
            "linecolor": "rgb(36,36,36)",
            "showgrid": false,
            "showline": true,
            "ticks": "outside"
           }
          },
          "title": {
           "x": 0.05
          },
          "xaxis": {
           "automargin": true,
           "gridcolor": "rgb(232,232,232)",
           "linecolor": "rgb(36,36,36)",
           "showgrid": false,
           "showline": true,
           "ticks": "outside",
           "title": {
            "standoff": 15
           },
           "zeroline": false,
           "zerolinecolor": "rgb(36,36,36)"
          },
          "yaxis": {
           "automargin": true,
           "gridcolor": "rgb(232,232,232)",
           "linecolor": "rgb(36,36,36)",
           "showgrid": false,
           "showline": true,
           "ticks": "outside",
           "title": {
            "standoff": 15
           },
           "zeroline": false,
           "zerolinecolor": "rgb(36,36,36)"
          }
         }
        },
        "xaxis": {
         "anchor": "y",
         "domain": [
          0,
          1
         ],
         "title": {
          "text": "Year"
         }
        },
        "yaxis": {
         "anchor": "x",
         "domain": [
          0,
          1
         ],
         "title": {
          "text": "Wage Rate"
         }
        }
       }
      },
      "text/html": [
       "<div>                            <div id=\"7ca6a7fd-6633-4b16-ad9a-ba37f55ba6a7\" class=\"plotly-graph-div\" style=\"height:525px; width:100%;\"></div>            <script type=\"text/javascript\">                require([\"plotly\"], function(Plotly) {                    window.PLOTLYENV=window.PLOTLYENV || {};                                    if (document.getElementById(\"7ca6a7fd-6633-4b16-ad9a-ba37f55ba6a7\")) {                    Plotly.newPlot(                        \"7ca6a7fd-6633-4b16-ad9a-ba37f55ba6a7\",                        [{\"hovertemplate\":\"Year=%{x}<br>Wage Rate=%{y}<extra></extra>\",\"legendgroup\":\"\",\"line\":{\"color\":\"#1F77B4\",\"dash\":\"solid\",\"shape\":\"linear\"},\"marker\":{\"symbol\":\"circle\"},\"mode\":\"markers+lines\",\"name\":\"\",\"orientation\":\"v\",\"showlegend\":false,\"x\":[\"2012\",\"2013\",\"2014\",\"2015\",\"2016\",\"2017\",\"2018\",\"2019\",\"2020\"],\"xaxis\":\"x\",\"y\":[77993.43217730243,81495.65615171463,82798.46527785038,84583.66940503454,82091.42100268923,84304.69520899207,82947.62614371344,80506.333821897,83949.17050412158],\"yaxis\":\"y\",\"type\":\"scatter\"}],                        {\"template\":{\"data\":{\"barpolar\":[{\"marker\":{\"line\":{\"color\":\"white\",\"width\":0.5},\"pattern\":{\"fillmode\":\"overlay\",\"size\":10,\"solidity\":0.2}},\"type\":\"barpolar\"}],\"bar\":[{\"error_x\":{\"color\":\"rgb(36,36,36)\"},\"error_y\":{\"color\":\"rgb(36,36,36)\"},\"marker\":{\"line\":{\"color\":\"white\",\"width\":0.5},\"pattern\":{\"fillmode\":\"overlay\",\"size\":10,\"solidity\":0.2}},\"type\":\"bar\"}],\"carpet\":[{\"aaxis\":{\"endlinecolor\":\"rgb(36,36,36)\",\"gridcolor\":\"white\",\"linecolor\":\"white\",\"minorgridcolor\":\"white\",\"startlinecolor\":\"rgb(36,36,36)\"},\"baxis\":{\"endlinecolor\":\"rgb(36,36,36)\",\"gridcolor\":\"white\",\"linecolor\":\"white\",\"minorgridcolor\":\"white\",\"startlinecolor\":\"rgb(36,36,36)\"},\"type\":\"carpet\"}],\"choropleth\":[{\"colorbar\":{\"outlinewidth\":1,\"tickcolor\":\"rgb(36,36,36)\",\"ticks\":\"outside\"},\"type\":\"choropleth\"}],\"contourcarpet\":[{\"colorbar\":{\"outlinewidth\":1,\"tickcolor\":\"rgb(36,36,36)\",\"ticks\":\"outside\"},\"type\":\"contourcarpet\"}],\"contour\":[{\"colorbar\":{\"outlinewidth\":1,\"tickcolor\":\"rgb(36,36,36)\",\"ticks\":\"outside\"},\"colorscale\":[[0.0,\"#440154\"],[0.1111111111111111,\"#482878\"],[0.2222222222222222,\"#3e4989\"],[0.3333333333333333,\"#31688e\"],[0.4444444444444444,\"#26828e\"],[0.5555555555555556,\"#1f9e89\"],[0.6666666666666666,\"#35b779\"],[0.7777777777777778,\"#6ece58\"],[0.8888888888888888,\"#b5de2b\"],[1.0,\"#fde725\"]],\"type\":\"contour\"}],\"heatmapgl\":[{\"colorbar\":{\"outlinewidth\":1,\"tickcolor\":\"rgb(36,36,36)\",\"ticks\":\"outside\"},\"colorscale\":[[0.0,\"#440154\"],[0.1111111111111111,\"#482878\"],[0.2222222222222222,\"#3e4989\"],[0.3333333333333333,\"#31688e\"],[0.4444444444444444,\"#26828e\"],[0.5555555555555556,\"#1f9e89\"],[0.6666666666666666,\"#35b779\"],[0.7777777777777778,\"#6ece58\"],[0.8888888888888888,\"#b5de2b\"],[1.0,\"#fde725\"]],\"type\":\"heatmapgl\"}],\"heatmap\":[{\"colorbar\":{\"outlinewidth\":1,\"tickcolor\":\"rgb(36,36,36)\",\"ticks\":\"outside\"},\"colorscale\":[[0.0,\"#440154\"],[0.1111111111111111,\"#482878\"],[0.2222222222222222,\"#3e4989\"],[0.3333333333333333,\"#31688e\"],[0.4444444444444444,\"#26828e\"],[0.5555555555555556,\"#1f9e89\"],[0.6666666666666666,\"#35b779\"],[0.7777777777777778,\"#6ece58\"],[0.8888888888888888,\"#b5de2b\"],[1.0,\"#fde725\"]],\"type\":\"heatmap\"}],\"histogram2dcontour\":[{\"colorbar\":{\"outlinewidth\":1,\"tickcolor\":\"rgb(36,36,36)\",\"ticks\":\"outside\"},\"colorscale\":[[0.0,\"#440154\"],[0.1111111111111111,\"#482878\"],[0.2222222222222222,\"#3e4989\"],[0.3333333333333333,\"#31688e\"],[0.4444444444444444,\"#26828e\"],[0.5555555555555556,\"#1f9e89\"],[0.6666666666666666,\"#35b779\"],[0.7777777777777778,\"#6ece58\"],[0.8888888888888888,\"#b5de2b\"],[1.0,\"#fde725\"]],\"type\":\"histogram2dcontour\"}],\"histogram2d\":[{\"colorbar\":{\"outlinewidth\":1,\"tickcolor\":\"rgb(36,36,36)\",\"ticks\":\"outside\"},\"colorscale\":[[0.0,\"#440154\"],[0.1111111111111111,\"#482878\"],[0.2222222222222222,\"#3e4989\"],[0.3333333333333333,\"#31688e\"],[0.4444444444444444,\"#26828e\"],[0.5555555555555556,\"#1f9e89\"],[0.6666666666666666,\"#35b779\"],[0.7777777777777778,\"#6ece58\"],[0.8888888888888888,\"#b5de2b\"],[1.0,\"#fde725\"]],\"type\":\"histogram2d\"}],\"histogram\":[{\"marker\":{\"line\":{\"color\":\"white\",\"width\":0.6}},\"type\":\"histogram\"}],\"mesh3d\":[{\"colorbar\":{\"outlinewidth\":1,\"tickcolor\":\"rgb(36,36,36)\",\"ticks\":\"outside\"},\"type\":\"mesh3d\"}],\"parcoords\":[{\"line\":{\"colorbar\":{\"outlinewidth\":1,\"tickcolor\":\"rgb(36,36,36)\",\"ticks\":\"outside\"}},\"type\":\"parcoords\"}],\"pie\":[{\"automargin\":true,\"type\":\"pie\"}],\"scatter3d\":[{\"line\":{\"colorbar\":{\"outlinewidth\":1,\"tickcolor\":\"rgb(36,36,36)\",\"ticks\":\"outside\"}},\"marker\":{\"colorbar\":{\"outlinewidth\":1,\"tickcolor\":\"rgb(36,36,36)\",\"ticks\":\"outside\"}},\"type\":\"scatter3d\"}],\"scattercarpet\":[{\"marker\":{\"colorbar\":{\"outlinewidth\":1,\"tickcolor\":\"rgb(36,36,36)\",\"ticks\":\"outside\"}},\"type\":\"scattercarpet\"}],\"scattergeo\":[{\"marker\":{\"colorbar\":{\"outlinewidth\":1,\"tickcolor\":\"rgb(36,36,36)\",\"ticks\":\"outside\"}},\"type\":\"scattergeo\"}],\"scattergl\":[{\"marker\":{\"colorbar\":{\"outlinewidth\":1,\"tickcolor\":\"rgb(36,36,36)\",\"ticks\":\"outside\"}},\"type\":\"scattergl\"}],\"scattermapbox\":[{\"marker\":{\"colorbar\":{\"outlinewidth\":1,\"tickcolor\":\"rgb(36,36,36)\",\"ticks\":\"outside\"}},\"type\":\"scattermapbox\"}],\"scatterpolargl\":[{\"marker\":{\"colorbar\":{\"outlinewidth\":1,\"tickcolor\":\"rgb(36,36,36)\",\"ticks\":\"outside\"}},\"type\":\"scatterpolargl\"}],\"scatterpolar\":[{\"marker\":{\"colorbar\":{\"outlinewidth\":1,\"tickcolor\":\"rgb(36,36,36)\",\"ticks\":\"outside\"}},\"type\":\"scatterpolar\"}],\"scatter\":[{\"marker\":{\"colorbar\":{\"outlinewidth\":1,\"tickcolor\":\"rgb(36,36,36)\",\"ticks\":\"outside\"}},\"type\":\"scatter\"}],\"scatterternary\":[{\"marker\":{\"colorbar\":{\"outlinewidth\":1,\"tickcolor\":\"rgb(36,36,36)\",\"ticks\":\"outside\"}},\"type\":\"scatterternary\"}],\"surface\":[{\"colorbar\":{\"outlinewidth\":1,\"tickcolor\":\"rgb(36,36,36)\",\"ticks\":\"outside\"},\"colorscale\":[[0.0,\"#440154\"],[0.1111111111111111,\"#482878\"],[0.2222222222222222,\"#3e4989\"],[0.3333333333333333,\"#31688e\"],[0.4444444444444444,\"#26828e\"],[0.5555555555555556,\"#1f9e89\"],[0.6666666666666666,\"#35b779\"],[0.7777777777777778,\"#6ece58\"],[0.8888888888888888,\"#b5de2b\"],[1.0,\"#fde725\"]],\"type\":\"surface\"}],\"table\":[{\"cells\":{\"fill\":{\"color\":\"rgb(237,237,237)\"},\"line\":{\"color\":\"white\"}},\"header\":{\"fill\":{\"color\":\"rgb(217,217,217)\"},\"line\":{\"color\":\"white\"}},\"type\":\"table\"}]},\"layout\":{\"annotationdefaults\":{\"arrowhead\":0,\"arrowwidth\":1},\"autotypenumbers\":\"strict\",\"coloraxis\":{\"colorbar\":{\"outlinewidth\":1,\"tickcolor\":\"rgb(36,36,36)\",\"ticks\":\"outside\"}},\"colorscale\":{\"diverging\":[[0.0,\"rgb(103,0,31)\"],[0.1,\"rgb(178,24,43)\"],[0.2,\"rgb(214,96,77)\"],[0.3,\"rgb(244,165,130)\"],[0.4,\"rgb(253,219,199)\"],[0.5,\"rgb(247,247,247)\"],[0.6,\"rgb(209,229,240)\"],[0.7,\"rgb(146,197,222)\"],[0.8,\"rgb(67,147,195)\"],[0.9,\"rgb(33,102,172)\"],[1.0,\"rgb(5,48,97)\"]],\"sequential\":[[0.0,\"#440154\"],[0.1111111111111111,\"#482878\"],[0.2222222222222222,\"#3e4989\"],[0.3333333333333333,\"#31688e\"],[0.4444444444444444,\"#26828e\"],[0.5555555555555556,\"#1f9e89\"],[0.6666666666666666,\"#35b779\"],[0.7777777777777778,\"#6ece58\"],[0.8888888888888888,\"#b5de2b\"],[1.0,\"#fde725\"]],\"sequentialminus\":[[0.0,\"#440154\"],[0.1111111111111111,\"#482878\"],[0.2222222222222222,\"#3e4989\"],[0.3333333333333333,\"#31688e\"],[0.4444444444444444,\"#26828e\"],[0.5555555555555556,\"#1f9e89\"],[0.6666666666666666,\"#35b779\"],[0.7777777777777778,\"#6ece58\"],[0.8888888888888888,\"#b5de2b\"],[1.0,\"#fde725\"]]},\"colorway\":[\"#1F77B4\",\"#FF7F0E\",\"#2CA02C\",\"#D62728\",\"#9467BD\",\"#8C564B\",\"#E377C2\",\"#7F7F7F\",\"#BCBD22\",\"#17BECF\"],\"font\":{\"color\":\"rgb(36,36,36)\"},\"geo\":{\"bgcolor\":\"white\",\"lakecolor\":\"white\",\"landcolor\":\"white\",\"showlakes\":true,\"showland\":true,\"subunitcolor\":\"white\"},\"hoverlabel\":{\"align\":\"left\"},\"hovermode\":\"closest\",\"mapbox\":{\"style\":\"light\"},\"paper_bgcolor\":\"white\",\"plot_bgcolor\":\"white\",\"polar\":{\"angularaxis\":{\"gridcolor\":\"rgb(232,232,232)\",\"linecolor\":\"rgb(36,36,36)\",\"showgrid\":false,\"showline\":true,\"ticks\":\"outside\"},\"bgcolor\":\"white\",\"radialaxis\":{\"gridcolor\":\"rgb(232,232,232)\",\"linecolor\":\"rgb(36,36,36)\",\"showgrid\":false,\"showline\":true,\"ticks\":\"outside\"}},\"scene\":{\"xaxis\":{\"backgroundcolor\":\"white\",\"gridcolor\":\"rgb(232,232,232)\",\"gridwidth\":2,\"linecolor\":\"rgb(36,36,36)\",\"showbackground\":true,\"showgrid\":false,\"showline\":true,\"ticks\":\"outside\",\"zeroline\":false,\"zerolinecolor\":\"rgb(36,36,36)\"},\"yaxis\":{\"backgroundcolor\":\"white\",\"gridcolor\":\"rgb(232,232,232)\",\"gridwidth\":2,\"linecolor\":\"rgb(36,36,36)\",\"showbackground\":true,\"showgrid\":false,\"showline\":true,\"ticks\":\"outside\",\"zeroline\":false,\"zerolinecolor\":\"rgb(36,36,36)\"},\"zaxis\":{\"backgroundcolor\":\"white\",\"gridcolor\":\"rgb(232,232,232)\",\"gridwidth\":2,\"linecolor\":\"rgb(36,36,36)\",\"showbackground\":true,\"showgrid\":false,\"showline\":true,\"ticks\":\"outside\",\"zeroline\":false,\"zerolinecolor\":\"rgb(36,36,36)\"}},\"shapedefaults\":{\"fillcolor\":\"black\",\"line\":{\"width\":0},\"opacity\":0.3},\"ternary\":{\"aaxis\":{\"gridcolor\":\"rgb(232,232,232)\",\"linecolor\":\"rgb(36,36,36)\",\"showgrid\":false,\"showline\":true,\"ticks\":\"outside\"},\"baxis\":{\"gridcolor\":\"rgb(232,232,232)\",\"linecolor\":\"rgb(36,36,36)\",\"showgrid\":false,\"showline\":true,\"ticks\":\"outside\"},\"bgcolor\":\"white\",\"caxis\":{\"gridcolor\":\"rgb(232,232,232)\",\"linecolor\":\"rgb(36,36,36)\",\"showgrid\":false,\"showline\":true,\"ticks\":\"outside\"}},\"title\":{\"x\":0.05},\"xaxis\":{\"automargin\":true,\"gridcolor\":\"rgb(232,232,232)\",\"linecolor\":\"rgb(36,36,36)\",\"showgrid\":false,\"showline\":true,\"ticks\":\"outside\",\"title\":{\"standoff\":15},\"zeroline\":false,\"zerolinecolor\":\"rgb(36,36,36)\"},\"yaxis\":{\"automargin\":true,\"gridcolor\":\"rgb(232,232,232)\",\"linecolor\":\"rgb(36,36,36)\",\"showgrid\":false,\"showline\":true,\"ticks\":\"outside\",\"title\":{\"standoff\":15},\"zeroline\":false,\"zerolinecolor\":\"rgb(36,36,36)\"}}},\"xaxis\":{\"anchor\":\"y\",\"domain\":[0.0,1.0],\"title\":{\"text\":\"Year\"}},\"yaxis\":{\"anchor\":\"x\",\"domain\":[0.0,1.0],\"title\":{\"text\":\"Wage Rate\"}},\"legend\":{\"tracegroupgap\":0},\"margin\":{\"t\":60}},                        {\"responsive\": true}                    ).then(function(){\n",
       "                            \n",
       "var gd = document.getElementById('7ca6a7fd-6633-4b16-ad9a-ba37f55ba6a7');\n",
       "var x = new MutationObserver(function (mutations, observer) {{\n",
       "        var display = window.getComputedStyle(gd).display;\n",
       "        if (!display || display === 'none') {{\n",
       "            console.log([gd, 'removed!']);\n",
       "            Plotly.purge(gd);\n",
       "            observer.disconnect();\n",
       "        }}\n",
       "}});\n",
       "\n",
       "// Listen for the removal of the full notebook cells\n",
       "var notebookContainer = gd.closest('#notebook-container');\n",
       "if (notebookContainer) {{\n",
       "    x.observe(notebookContainer, {childList: true});\n",
       "}}\n",
       "\n",
       "// Listen for the clearing of the current output cell\n",
       "var outputEl = gd.closest('.output');\n",
       "if (outputEl) {{\n",
       "    x.observe(outputEl, {childList: true});\n",
       "}}\n",
       "\n",
       "                        })                };                });            </script>        </div>"
      ]
     },
     "metadata": {},
     "output_type": "display_data"
    }
   ],
   "source": [
    "#Interactive plot with plotly.\n",
    "fig = px.line(df_plot_2, x='Year', y='Wage Rate',\n",
    "                                   markers=True,\n",
    "                                   line_shape='linear',\n",
    "                                   template='simple_white')\n",
    "fig.update_xaxes()\n",
    "fig.show()"
   ]
  },
  {
   "cell_type": "markdown",
   "id": "bf191e5f",
   "metadata": {},
   "source": [
    "“In 2015 the U.S. economy was so slow that several historically-reliable indicators of an imminent recession were waving red flags.  \n",
    "Industrial Production was negative over 12 months, and retail sales growth was falling. The global economy was even weaker. By early 2016, global stock markets were falling hard.” \n",
    "- Carlson Bob, “Are We Repeating 2015-2016 In The Economy And Investment Markets?”, Forbes."
   ]
  },
  {
   "cell_type": "markdown",
   "id": "c2675f24",
   "metadata": {},
   "source": [
    "We can see a dip in the wage rate from 2015-2016 and 2017-2019. Upon further research, I found out that these dips correspond to a the falls in the economy. Upon deeper inspection, I've found out reliable data showing me that during the dips shown in the graph above, instead of a fall in the wage rate, the growth in the wage rate was neglegible. Therefore, the data we have is not very accurate. Nevertheless, this graph shows is the reason I found out about the above."
   ]
  }
 ],
 "metadata": {
  "kernelspec": {
   "display_name": "Python 3",
   "language": "python",
   "name": "python3"
  },
  "language_info": {
   "codemirror_mode": {
    "name": "ipython",
    "version": 3
   },
   "file_extension": ".py",
   "mimetype": "text/x-python",
   "name": "python",
   "nbconvert_exporter": "python",
   "pygments_lexer": "ipython3",
   "version": "3.8.8"
  }
 },
 "nbformat": 4,
 "nbformat_minor": 5
}
